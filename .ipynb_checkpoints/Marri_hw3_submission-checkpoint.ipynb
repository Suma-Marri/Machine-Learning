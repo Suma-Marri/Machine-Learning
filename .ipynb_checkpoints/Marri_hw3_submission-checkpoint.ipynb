{
 "cells": [
  {
   "cell_type": "markdown",
   "id": "93790554",
   "metadata": {},
   "source": [
    "### Suma Marri"
   ]
  },
  {
   "cell_type": "markdown",
   "id": "5e94c788",
   "metadata": {},
   "source": [
    "#### Problem 1: Linear Regression Model"
   ]
  },
  {
   "cell_type": "code",
   "execution_count": 1,
   "id": "99614915",
   "metadata": {},
   "outputs": [],
   "source": [
    "# Import necessary packages to the jupyter notebook\n",
    "# Implement a Linear Regression model using both Normal Equation Method and SGD\n",
    "import pandas as pd\n",
    "import numpy as np\n",
    "from pandas import read_csv\n",
    "\n",
    "from sklearn.preprocessing import MinMaxScaler\n",
    "from sklearn.model_selection import train_test_split\n",
    "from sklearn.metrics import mean_squared_error\n",
    "from sklearn.metrics import r2_score\n",
    "from sklearn.metrics import accuracy_score\n",
    "\n",
    "# read and load the csv data file\n",
    "filename = \"Dataset/AMZN.csv\"\n",
    "data = read_csv ( filename )\n",
    "\n",
    "# Get the Adjusted Close Price\n",
    "data_select = data [['Adj Close']]\n",
    "\n",
    "# converting the dataset to a numpy array\n",
    "values = data_select.values"
   ]
  },
  {
   "cell_type": "code",
   "execution_count": 2,
   "id": "22d69b4a",
   "metadata": {},
   "outputs": [],
   "source": [
    "from pandas import DataFrame\n",
    "from pandas import concat\n",
    "\n",
    "\"\"\"\n",
    "Frame a time series as a supervised learning dataset .\n",
    "Arguments :\n",
    "data : Sequence of observations as a list or NumPy array .\n",
    "n_in : Number of lag observations as input (X).\n",
    "n_out : Number of observations as output (y).\n",
    "dropnan : Boolean whether or not to drop rows with NaN values .\n",
    "Returns :\n",
    "Pandas DataFrame of series framed for supervised learning .\n",
    "\"\"\"\n",
    "\n",
    "def series_to_supervised ( data , n_in =1 , n_out =1 , dropnan = True ):\n",
    "    n_vars = 1 if type ( data ) is list else data . shape [1]\n",
    "    df = DataFrame ( data )\n",
    "    cols , names = list () , list ()\n",
    "    # input sequence (t-n, ... t-1)\n",
    "    for i in range ( n_in , 0 , -1 ):\n",
    "        cols . append ( df . shift ( i ) )\n",
    "        names += [('var %d(t-%d)' % ( j+1 , i ) ) for j in range ( n_vars )]\n",
    "    # forecast sequence (t, t+1, ... t+n)\n",
    "    for i in range (0 , n_out ):\n",
    "        cols.append ( df . shift (-i ) )\n",
    "        if i == 0:\n",
    "            names += [('var%d(t)' % ( j+1 ) ) for j in range ( n_vars )]\n",
    "        else :\n",
    "            names += [('var%d(t+%d)' % ( j+1 , i ) ) for j in range ( n_vars )]\n",
    "    # put it all together\n",
    "    agg = concat ( cols , axis =1 )\n",
    "    agg.columns = names\n",
    "    # drop rows with NaN values\n",
    "    if dropnan :\n",
    "        agg.dropna( inplace = True )\n",
    "    return agg"
   ]
  },
  {
   "cell_type": "markdown",
   "id": "b47d1c62",
   "metadata": {},
   "source": [
    "###### (a) \n",
    "Use the Python function named series_to_supervised() that takes a univariate or multivariate time series and frames it as a supervised learning dataset."
   ]
  },
  {
   "cell_type": "code",
   "execution_count": 3,
   "id": "f476cb62",
   "metadata": {},
   "outputs": [
    {
     "data": {
      "text/html": [
       "<div>\n",
       "<style scoped>\n",
       "    .dataframe tbody tr th:only-of-type {\n",
       "        vertical-align: middle;\n",
       "    }\n",
       "\n",
       "    .dataframe tbody tr th {\n",
       "        vertical-align: top;\n",
       "    }\n",
       "\n",
       "    .dataframe thead th {\n",
       "        text-align: right;\n",
       "    }\n",
       "</style>\n",
       "<table border=\"1\" class=\"dataframe\">\n",
       "  <thead>\n",
       "    <tr style=\"text-align: right;\">\n",
       "      <th></th>\n",
       "      <th>var 1(t-10)</th>\n",
       "      <th>var 1(t-9)</th>\n",
       "      <th>var 1(t-8)</th>\n",
       "      <th>var 1(t-7)</th>\n",
       "      <th>var 1(t-6)</th>\n",
       "      <th>var 1(t-5)</th>\n",
       "      <th>var 1(t-4)</th>\n",
       "      <th>var 1(t-3)</th>\n",
       "      <th>var 1(t-2)</th>\n",
       "      <th>var 1(t-1)</th>\n",
       "      <th>var1(t)</th>\n",
       "    </tr>\n",
       "  </thead>\n",
       "  <tbody>\n",
       "    <tr>\n",
       "      <th>10</th>\n",
       "      <td>1.958333</td>\n",
       "      <td>1.729167</td>\n",
       "      <td>1.708333</td>\n",
       "      <td>1.635417</td>\n",
       "      <td>1.427083</td>\n",
       "      <td>1.395833</td>\n",
       "      <td>1.500000</td>\n",
       "      <td>1.583333</td>\n",
       "      <td>1.531250</td>\n",
       "      <td>1.505208</td>\n",
       "      <td>1.500000</td>\n",
       "    </tr>\n",
       "    <tr>\n",
       "      <th>11</th>\n",
       "      <td>1.729167</td>\n",
       "      <td>1.708333</td>\n",
       "      <td>1.635417</td>\n",
       "      <td>1.427083</td>\n",
       "      <td>1.395833</td>\n",
       "      <td>1.500000</td>\n",
       "      <td>1.583333</td>\n",
       "      <td>1.531250</td>\n",
       "      <td>1.505208</td>\n",
       "      <td>1.500000</td>\n",
       "      <td>1.510417</td>\n",
       "    </tr>\n",
       "    <tr>\n",
       "      <th>12</th>\n",
       "      <td>1.708333</td>\n",
       "      <td>1.635417</td>\n",
       "      <td>1.427083</td>\n",
       "      <td>1.395833</td>\n",
       "      <td>1.500000</td>\n",
       "      <td>1.583333</td>\n",
       "      <td>1.531250</td>\n",
       "      <td>1.505208</td>\n",
       "      <td>1.500000</td>\n",
       "      <td>1.510417</td>\n",
       "      <td>1.479167</td>\n",
       "    </tr>\n",
       "    <tr>\n",
       "      <th>13</th>\n",
       "      <td>1.635417</td>\n",
       "      <td>1.427083</td>\n",
       "      <td>1.395833</td>\n",
       "      <td>1.500000</td>\n",
       "      <td>1.583333</td>\n",
       "      <td>1.531250</td>\n",
       "      <td>1.505208</td>\n",
       "      <td>1.500000</td>\n",
       "      <td>1.510417</td>\n",
       "      <td>1.479167</td>\n",
       "      <td>1.416667</td>\n",
       "    </tr>\n",
       "    <tr>\n",
       "      <th>14</th>\n",
       "      <td>1.427083</td>\n",
       "      <td>1.395833</td>\n",
       "      <td>1.500000</td>\n",
       "      <td>1.583333</td>\n",
       "      <td>1.531250</td>\n",
       "      <td>1.505208</td>\n",
       "      <td>1.500000</td>\n",
       "      <td>1.510417</td>\n",
       "      <td>1.479167</td>\n",
       "      <td>1.416667</td>\n",
       "      <td>1.541667</td>\n",
       "    </tr>\n",
       "    <tr>\n",
       "      <th>...</th>\n",
       "      <td>...</td>\n",
       "      <td>...</td>\n",
       "      <td>...</td>\n",
       "      <td>...</td>\n",
       "      <td>...</td>\n",
       "      <td>...</td>\n",
       "      <td>...</td>\n",
       "      <td>...</td>\n",
       "      <td>...</td>\n",
       "      <td>...</td>\n",
       "      <td>...</td>\n",
       "    </tr>\n",
       "    <tr>\n",
       "      <th>5753</th>\n",
       "      <td>1676.609985</td>\n",
       "      <td>1785.000000</td>\n",
       "      <td>1689.150024</td>\n",
       "      <td>1807.839966</td>\n",
       "      <td>1830.000000</td>\n",
       "      <td>1880.930054</td>\n",
       "      <td>1846.089966</td>\n",
       "      <td>1902.829956</td>\n",
       "      <td>1940.099976</td>\n",
       "      <td>1885.839966</td>\n",
       "      <td>1955.489990</td>\n",
       "    </tr>\n",
       "    <tr>\n",
       "      <th>5754</th>\n",
       "      <td>1785.000000</td>\n",
       "      <td>1689.150024</td>\n",
       "      <td>1807.839966</td>\n",
       "      <td>1830.000000</td>\n",
       "      <td>1880.930054</td>\n",
       "      <td>1846.089966</td>\n",
       "      <td>1902.829956</td>\n",
       "      <td>1940.099976</td>\n",
       "      <td>1885.839966</td>\n",
       "      <td>1955.489990</td>\n",
       "      <td>1900.099976</td>\n",
       "    </tr>\n",
       "    <tr>\n",
       "      <th>5755</th>\n",
       "      <td>1689.150024</td>\n",
       "      <td>1807.839966</td>\n",
       "      <td>1830.000000</td>\n",
       "      <td>1880.930054</td>\n",
       "      <td>1846.089966</td>\n",
       "      <td>1902.829956</td>\n",
       "      <td>1940.099976</td>\n",
       "      <td>1885.839966</td>\n",
       "      <td>1955.489990</td>\n",
       "      <td>1900.099976</td>\n",
       "      <td>1963.949951</td>\n",
       "    </tr>\n",
       "    <tr>\n",
       "      <th>5756</th>\n",
       "      <td>1807.839966</td>\n",
       "      <td>1830.000000</td>\n",
       "      <td>1880.930054</td>\n",
       "      <td>1846.089966</td>\n",
       "      <td>1902.829956</td>\n",
       "      <td>1940.099976</td>\n",
       "      <td>1885.839966</td>\n",
       "      <td>1955.489990</td>\n",
       "      <td>1900.099976</td>\n",
       "      <td>1963.949951</td>\n",
       "      <td>1949.719971</td>\n",
       "    </tr>\n",
       "    <tr>\n",
       "      <th>5757</th>\n",
       "      <td>1830.000000</td>\n",
       "      <td>1880.930054</td>\n",
       "      <td>1846.089966</td>\n",
       "      <td>1902.829956</td>\n",
       "      <td>1940.099976</td>\n",
       "      <td>1885.839966</td>\n",
       "      <td>1955.489990</td>\n",
       "      <td>1900.099976</td>\n",
       "      <td>1963.949951</td>\n",
       "      <td>1949.719971</td>\n",
       "      <td>1907.699951</td>\n",
       "    </tr>\n",
       "  </tbody>\n",
       "</table>\n",
       "<p>5748 rows × 11 columns</p>\n",
       "</div>"
      ],
      "text/plain": [
       "      var 1(t-10)   var 1(t-9)   var 1(t-8)   var 1(t-7)   var 1(t-6)  \\\n",
       "10       1.958333     1.729167     1.708333     1.635417     1.427083   \n",
       "11       1.729167     1.708333     1.635417     1.427083     1.395833   \n",
       "12       1.708333     1.635417     1.427083     1.395833     1.500000   \n",
       "13       1.635417     1.427083     1.395833     1.500000     1.583333   \n",
       "14       1.427083     1.395833     1.500000     1.583333     1.531250   \n",
       "...           ...          ...          ...          ...          ...   \n",
       "5753  1676.609985  1785.000000  1689.150024  1807.839966  1830.000000   \n",
       "5754  1785.000000  1689.150024  1807.839966  1830.000000  1880.930054   \n",
       "5755  1689.150024  1807.839966  1830.000000  1880.930054  1846.089966   \n",
       "5756  1807.839966  1830.000000  1880.930054  1846.089966  1902.829956   \n",
       "5757  1830.000000  1880.930054  1846.089966  1902.829956  1940.099976   \n",
       "\n",
       "       var 1(t-5)   var 1(t-4)   var 1(t-3)   var 1(t-2)   var 1(t-1)  \\\n",
       "10       1.395833     1.500000     1.583333     1.531250     1.505208   \n",
       "11       1.500000     1.583333     1.531250     1.505208     1.500000   \n",
       "12       1.583333     1.531250     1.505208     1.500000     1.510417   \n",
       "13       1.531250     1.505208     1.500000     1.510417     1.479167   \n",
       "14       1.505208     1.500000     1.510417     1.479167     1.416667   \n",
       "...           ...          ...          ...          ...          ...   \n",
       "5753  1880.930054  1846.089966  1902.829956  1940.099976  1885.839966   \n",
       "5754  1846.089966  1902.829956  1940.099976  1885.839966  1955.489990   \n",
       "5755  1902.829956  1940.099976  1885.839966  1955.489990  1900.099976   \n",
       "5756  1940.099976  1885.839966  1955.489990  1900.099976  1963.949951   \n",
       "5757  1885.839966  1955.489990  1900.099976  1963.949951  1949.719971   \n",
       "\n",
       "          var1(t)  \n",
       "10       1.500000  \n",
       "11       1.510417  \n",
       "12       1.479167  \n",
       "13       1.416667  \n",
       "14       1.541667  \n",
       "...           ...  \n",
       "5753  1955.489990  \n",
       "5754  1900.099976  \n",
       "5755  1963.949951  \n",
       "5756  1949.719971  \n",
       "5757  1907.699951  \n",
       "\n",
       "[5748 rows x 11 columns]"
      ]
     },
     "execution_count": 3,
     "metadata": {},
     "output_type": "execute_result"
    }
   ],
   "source": [
    "series_to_supervised(data_select, n_in=10, n_out=1, dropnan=True)"
   ]
  },
  {
   "cell_type": "code",
   "execution_count": 4,
   "id": "f36eacfe",
   "metadata": {},
   "outputs": [
    {
     "data": {
      "text/html": [
       "<div>\n",
       "<style scoped>\n",
       "    .dataframe tbody tr th:only-of-type {\n",
       "        vertical-align: middle;\n",
       "    }\n",
       "\n",
       "    .dataframe tbody tr th {\n",
       "        vertical-align: top;\n",
       "    }\n",
       "\n",
       "    .dataframe thead th {\n",
       "        text-align: right;\n",
       "    }\n",
       "</style>\n",
       "<table border=\"1\" class=\"dataframe\">\n",
       "  <thead>\n",
       "    <tr style=\"text-align: right;\">\n",
       "      <th></th>\n",
       "      <th>var 1(t-10)</th>\n",
       "      <th>var 1(t-9)</th>\n",
       "      <th>var 1(t-8)</th>\n",
       "      <th>var 1(t-7)</th>\n",
       "      <th>var 1(t-6)</th>\n",
       "      <th>var 1(t-5)</th>\n",
       "      <th>var 1(t-4)</th>\n",
       "      <th>var 1(t-3)</th>\n",
       "      <th>var 1(t-2)</th>\n",
       "      <th>var 1(t-1)</th>\n",
       "      <th>var1(t)</th>\n",
       "    </tr>\n",
       "  </thead>\n",
       "  <tbody>\n",
       "    <tr>\n",
       "      <th>10</th>\n",
       "      <td>1.958333</td>\n",
       "      <td>1.729167</td>\n",
       "      <td>1.708333</td>\n",
       "      <td>1.635417</td>\n",
       "      <td>1.427083</td>\n",
       "      <td>1.395833</td>\n",
       "      <td>1.500000</td>\n",
       "      <td>1.583333</td>\n",
       "      <td>1.531250</td>\n",
       "      <td>1.505208</td>\n",
       "      <td>1.500000</td>\n",
       "    </tr>\n",
       "    <tr>\n",
       "      <th>11</th>\n",
       "      <td>1.729167</td>\n",
       "      <td>1.708333</td>\n",
       "      <td>1.635417</td>\n",
       "      <td>1.427083</td>\n",
       "      <td>1.395833</td>\n",
       "      <td>1.500000</td>\n",
       "      <td>1.583333</td>\n",
       "      <td>1.531250</td>\n",
       "      <td>1.505208</td>\n",
       "      <td>1.500000</td>\n",
       "      <td>1.510417</td>\n",
       "    </tr>\n",
       "    <tr>\n",
       "      <th>12</th>\n",
       "      <td>1.708333</td>\n",
       "      <td>1.635417</td>\n",
       "      <td>1.427083</td>\n",
       "      <td>1.395833</td>\n",
       "      <td>1.500000</td>\n",
       "      <td>1.583333</td>\n",
       "      <td>1.531250</td>\n",
       "      <td>1.505208</td>\n",
       "      <td>1.500000</td>\n",
       "      <td>1.510417</td>\n",
       "      <td>1.479167</td>\n",
       "    </tr>\n",
       "    <tr>\n",
       "      <th>13</th>\n",
       "      <td>1.635417</td>\n",
       "      <td>1.427083</td>\n",
       "      <td>1.395833</td>\n",
       "      <td>1.500000</td>\n",
       "      <td>1.583333</td>\n",
       "      <td>1.531250</td>\n",
       "      <td>1.505208</td>\n",
       "      <td>1.500000</td>\n",
       "      <td>1.510417</td>\n",
       "      <td>1.479167</td>\n",
       "      <td>1.416667</td>\n",
       "    </tr>\n",
       "    <tr>\n",
       "      <th>14</th>\n",
       "      <td>1.427083</td>\n",
       "      <td>1.395833</td>\n",
       "      <td>1.500000</td>\n",
       "      <td>1.583333</td>\n",
       "      <td>1.531250</td>\n",
       "      <td>1.505208</td>\n",
       "      <td>1.500000</td>\n",
       "      <td>1.510417</td>\n",
       "      <td>1.479167</td>\n",
       "      <td>1.416667</td>\n",
       "      <td>1.541667</td>\n",
       "    </tr>\n",
       "    <tr>\n",
       "      <th>...</th>\n",
       "      <td>...</td>\n",
       "      <td>...</td>\n",
       "      <td>...</td>\n",
       "      <td>...</td>\n",
       "      <td>...</td>\n",
       "      <td>...</td>\n",
       "      <td>...</td>\n",
       "      <td>...</td>\n",
       "      <td>...</td>\n",
       "      <td>...</td>\n",
       "      <td>...</td>\n",
       "    </tr>\n",
       "    <tr>\n",
       "      <th>5753</th>\n",
       "      <td>1676.609985</td>\n",
       "      <td>1785.000000</td>\n",
       "      <td>1689.150024</td>\n",
       "      <td>1807.839966</td>\n",
       "      <td>1830.000000</td>\n",
       "      <td>1880.930054</td>\n",
       "      <td>1846.089966</td>\n",
       "      <td>1902.829956</td>\n",
       "      <td>1940.099976</td>\n",
       "      <td>1885.839966</td>\n",
       "      <td>1955.489990</td>\n",
       "    </tr>\n",
       "    <tr>\n",
       "      <th>5754</th>\n",
       "      <td>1785.000000</td>\n",
       "      <td>1689.150024</td>\n",
       "      <td>1807.839966</td>\n",
       "      <td>1830.000000</td>\n",
       "      <td>1880.930054</td>\n",
       "      <td>1846.089966</td>\n",
       "      <td>1902.829956</td>\n",
       "      <td>1940.099976</td>\n",
       "      <td>1885.839966</td>\n",
       "      <td>1955.489990</td>\n",
       "      <td>1900.099976</td>\n",
       "    </tr>\n",
       "    <tr>\n",
       "      <th>5755</th>\n",
       "      <td>1689.150024</td>\n",
       "      <td>1807.839966</td>\n",
       "      <td>1830.000000</td>\n",
       "      <td>1880.930054</td>\n",
       "      <td>1846.089966</td>\n",
       "      <td>1902.829956</td>\n",
       "      <td>1940.099976</td>\n",
       "      <td>1885.839966</td>\n",
       "      <td>1955.489990</td>\n",
       "      <td>1900.099976</td>\n",
       "      <td>1963.949951</td>\n",
       "    </tr>\n",
       "    <tr>\n",
       "      <th>5756</th>\n",
       "      <td>1807.839966</td>\n",
       "      <td>1830.000000</td>\n",
       "      <td>1880.930054</td>\n",
       "      <td>1846.089966</td>\n",
       "      <td>1902.829956</td>\n",
       "      <td>1940.099976</td>\n",
       "      <td>1885.839966</td>\n",
       "      <td>1955.489990</td>\n",
       "      <td>1900.099976</td>\n",
       "      <td>1963.949951</td>\n",
       "      <td>1949.719971</td>\n",
       "    </tr>\n",
       "    <tr>\n",
       "      <th>5757</th>\n",
       "      <td>1830.000000</td>\n",
       "      <td>1880.930054</td>\n",
       "      <td>1846.089966</td>\n",
       "      <td>1902.829956</td>\n",
       "      <td>1940.099976</td>\n",
       "      <td>1885.839966</td>\n",
       "      <td>1955.489990</td>\n",
       "      <td>1900.099976</td>\n",
       "      <td>1963.949951</td>\n",
       "      <td>1949.719971</td>\n",
       "      <td>1907.699951</td>\n",
       "    </tr>\n",
       "  </tbody>\n",
       "</table>\n",
       "<p>5748 rows × 11 columns</p>\n",
       "</div>"
      ],
      "text/plain": [
       "      var 1(t-10)   var 1(t-9)   var 1(t-8)   var 1(t-7)   var 1(t-6)  \\\n",
       "10       1.958333     1.729167     1.708333     1.635417     1.427083   \n",
       "11       1.729167     1.708333     1.635417     1.427083     1.395833   \n",
       "12       1.708333     1.635417     1.427083     1.395833     1.500000   \n",
       "13       1.635417     1.427083     1.395833     1.500000     1.583333   \n",
       "14       1.427083     1.395833     1.500000     1.583333     1.531250   \n",
       "...           ...          ...          ...          ...          ...   \n",
       "5753  1676.609985  1785.000000  1689.150024  1807.839966  1830.000000   \n",
       "5754  1785.000000  1689.150024  1807.839966  1830.000000  1880.930054   \n",
       "5755  1689.150024  1807.839966  1830.000000  1880.930054  1846.089966   \n",
       "5756  1807.839966  1830.000000  1880.930054  1846.089966  1902.829956   \n",
       "5757  1830.000000  1880.930054  1846.089966  1902.829956  1940.099976   \n",
       "\n",
       "       var 1(t-5)   var 1(t-4)   var 1(t-3)   var 1(t-2)   var 1(t-1)  \\\n",
       "10       1.395833     1.500000     1.583333     1.531250     1.505208   \n",
       "11       1.500000     1.583333     1.531250     1.505208     1.500000   \n",
       "12       1.583333     1.531250     1.505208     1.500000     1.510417   \n",
       "13       1.531250     1.505208     1.500000     1.510417     1.479167   \n",
       "14       1.505208     1.500000     1.510417     1.479167     1.416667   \n",
       "...           ...          ...          ...          ...          ...   \n",
       "5753  1880.930054  1846.089966  1902.829956  1940.099976  1885.839966   \n",
       "5754  1846.089966  1902.829956  1940.099976  1885.839966  1955.489990   \n",
       "5755  1902.829956  1940.099976  1885.839966  1955.489990  1900.099976   \n",
       "5756  1940.099976  1885.839966  1955.489990  1900.099976  1963.949951   \n",
       "5757  1885.839966  1955.489990  1900.099976  1963.949951  1949.719971   \n",
       "\n",
       "          var1(t)  \n",
       "10       1.500000  \n",
       "11       1.510417  \n",
       "12       1.479167  \n",
       "13       1.416667  \n",
       "14       1.541667  \n",
       "...           ...  \n",
       "5753  1955.489990  \n",
       "5754  1900.099976  \n",
       "5755  1963.949951  \n",
       "5756  1949.719971  \n",
       "5757  1907.699951  \n",
       "\n",
       "[5748 rows x 11 columns]"
      ]
     },
     "execution_count": 4,
     "metadata": {},
     "output_type": "execute_result"
    }
   ],
   "source": [
    "supervised_data = series_to_supervised(data_select, n_in=10, n_out=1, dropnan=True)\n",
    "supervised_data"
   ]
  },
  {
   "cell_type": "markdown",
   "id": "1d90fc0b",
   "metadata": {},
   "source": [
    "###### (b) \n",
    "Use MinMaxScaler to scale your data"
   ]
  },
  {
   "cell_type": "code",
   "execution_count": 5,
   "id": "cc6e9088",
   "metadata": {},
   "outputs": [],
   "source": [
    "scaler = MinMaxScaler()\n",
    "supervised_data = scaler.fit_transform(supervised_data)"
   ]
  },
  {
   "cell_type": "markdown",
   "id": "bbc8afa2",
   "metadata": {},
   "source": [
    "###### (c)\n",
    "Use the Normal Equation Method to find the linear regression coefficients (w). To perform this you may want to take the following steps first: Split your data to X and Y by taking the columns var1(t-10),...,var(t-1) as your 10 features in X, and take the last column var1(t) as your target (Y). Expand your matrix X with a bias vector of ones as the first column (to accomplish this, you may want to use the numpy operations np.ones , np.reshape and np.append). Use the train test split with ‘random state=1’ to split your data to 70% training, and 30% test data. Solve the Normal Equation Method in (2) to find the coefficients w."
   ]
  },
  {
   "cell_type": "code",
   "execution_count": 6,
   "id": "1413d7db",
   "metadata": {},
   "outputs": [],
   "source": [
    "Y = supervised_data[:,-1]\n",
    "X = supervised_data[:,0:-1]"
   ]
  },
  {
   "cell_type": "code",
   "execution_count": 7,
   "id": "9f9300f1",
   "metadata": {},
   "outputs": [
    {
     "name": "stdout",
     "output_type": "stream",
     "text": [
      "(5748, 10)\n",
      "(5748,)\n"
     ]
    }
   ],
   "source": [
    "print(X.shape)\n",
    "print(Y.shape)"
   ]
  },
  {
   "cell_type": "code",
   "execution_count": 8,
   "id": "752a34c1",
   "metadata": {},
   "outputs": [
    {
     "name": "stdout",
     "output_type": "stream",
     "text": [
      "[ 7.58927888e-05 -5.67708993e-02  2.09842519e-01 -1.65870717e-01\n",
      "  2.89934644e-02 -6.11953566e-02  7.25451627e-02 -4.27946096e-02\n",
      "  4.97008003e-03  7.34127990e-02  9.37474158e-01]\n"
     ]
    }
   ],
   "source": [
    "def normalEquation(X, Y):\n",
    "    m = int(np.size(X[:, 1]))\n",
    "    # This is the feature / parameter (2x2) vector that will\n",
    "    # contain my minimized values\n",
    "    theta = []\n",
    "    \n",
    "    # create a bias_vector to add to my newly created X vector\n",
    "    bias_vector = np.ones((m, 1))\n",
    "    \n",
    "    # combine these two vectors together to get a (m, 2) matrix\n",
    "    X = np.append(bias_vector, X, axis=1)\n",
    "    # Normal Equation:\n",
    "    # theta = inv(X^T * X) * X^T * y\n",
    "    \n",
    "    # For convenience create a new, tranposed X matrix\n",
    "    X_transpose = np.transpose(X)\n",
    "    \n",
    "    # Calculating theta\n",
    "    theta = np.linalg.inv(X_transpose.dot(X))\n",
    "    theta = theta.dot(X_transpose)\n",
    "    theta = theta.dot(Y)\n",
    "    \n",
    "    return theta\n",
    "\n",
    "p = normalEquation(X, Y)\n",
    "\n",
    "print(p)"
   ]
  },
  {
   "cell_type": "code",
   "execution_count": 9,
   "id": "3bde4843",
   "metadata": {},
   "outputs": [
    {
     "data": {
      "text/plain": [
       "array([ 1.26111054e-04, -4.83348220e-02,  2.24558809e-01, -1.52228741e-01,\n",
       "        3.28901068e-02, -1.08811996e-01,  7.17528590e-02, -2.60760209e-02,\n",
       "       -1.48358090e-03,  8.01298345e-02,  9.28047368e-01])"
      ]
     },
     "execution_count": 9,
     "metadata": {},
     "output_type": "execute_result"
    }
   ],
   "source": [
    "X_train, X_test, Y_train, Y_test = train_test_split(X, Y, test_size = 0.3,\n",
    "random_state=1)\n",
    "coef = normalEquation(X_train, Y_train)\n",
    "coef"
   ]
  },
  {
   "cell_type": "markdown",
   "id": "3b5d1dbf",
   "metadata": {},
   "source": [
    "###### (d)\n",
    "Make a prediction on your test set using the linear regression function f(x) = wT x, and use both the mean square error and coefficient of determination R2 to measure the performance of your prediction model. For this use fucntions mean squared error and r2 score from sklearn library"
   ]
  },
  {
   "cell_type": "code",
   "execution_count": 10,
   "id": "cf3623cd",
   "metadata": {},
   "outputs": [],
   "source": [
    "def predict(row, coefficients):\n",
    "    yhat = coefficients[0] # is bias\n",
    "    for i in range(len(row)):\n",
    "        yhat = yhat + coefficients[i + 1] * row[i] # b+ W * x(inputs - row)\n",
    "    return yhat"
   ]
  },
  {
   "cell_type": "code",
   "execution_count": 11,
   "id": "594b1530",
   "metadata": {},
   "outputs": [],
   "source": [
    "Y_pred = np.array(predict(X_test[0,:], coef))\n",
    "for i in range(X_test.shape[0]-1):\n",
    "    Y_pred = np.append(Y_pred, predict(X_test[i+1,:], coef))"
   ]
  },
  {
   "cell_type": "code",
   "execution_count": 12,
   "id": "b2842ae2",
   "metadata": {},
   "outputs": [
    {
     "name": "stdout",
     "output_type": "stream",
     "text": [
      "2.4148595608723037e-05\n"
     ]
    }
   ],
   "source": [
    "print(mean_squared_error(Y_pred, Y_test))"
   ]
  },
  {
   "cell_type": "code",
   "execution_count": 13,
   "id": "22794896",
   "metadata": {},
   "outputs": [
    {
     "name": "stdout",
     "output_type": "stream",
     "text": [
      "0.9995582657234232\n"
     ]
    }
   ],
   "source": [
    "print(r2_score(Y_pred, Y_test))"
   ]
  },
  {
   "cell_type": "markdown",
   "id": "c613fc45",
   "metadata": {},
   "source": [
    "###### (e)\n",
    "Next, find the coefficients w using gradient descent algorithm and monitor how your error changes in each epoch; You can create a function coefficients sgd similar to what we did in our Lab Session 7. Note that you may have to make some minor changes to this part of the code ( coefficients sgd for linear regression, in lab session 7), due to the additional bias term 1 in your matrix X. For this part, use learning rate 0.01, and number of epochs (iterations) 200."
   ]
  },
  {
   "cell_type": "code",
   "execution_count": 14,
   "id": "5ece4617",
   "metadata": {},
   "outputs": [],
   "source": [
    "def coefficients_sgd(X_train, Y_train, l_rate, n_epoch): #l-rate is learning rate\n",
    "  #initializing all coefficients to zero\n",
    "  coef = [0.0 for i in range(len(X_train[0])+1)]\n",
    "  for epoch in range(n_epoch):\n",
    "    sum_error = 0 # loss\n",
    "    for i in range(X_train.shape[0]):\n",
    "      # calculating the prediction using current coeeficients\n",
    "      yhat = predict(X_train[i,:], coef)\n",
    "      # calculating error\n",
    "      error = yhat - Y_train[i] #yhat is prediction, Y_train is ground truth,\n",
    "      sum_error += error**2 # error square, because loss cannot be negative, or we want to error to be positive.\n",
    "      #stochastic gradient descent\n",
    "      coef[0] = coef[0] - l_rate * error\n",
    "      for j in range(len(coef)-1):\n",
    "        coef[j + 1] = coef[j + 1] - l_rate * error * X_train[i,j]\n",
    "    \n",
    "    print( ' >epoch=%d, lrate=%.3f, error=%.3f ' % (epoch, l_rate, sum_error))\n",
    "  #returning the list of coefficients  \n",
    "  return coef"
   ]
  },
  {
   "cell_type": "code",
   "execution_count": 15,
   "id": "384f6b86",
   "metadata": {},
   "outputs": [
    {
     "name": "stdout",
     "output_type": "stream",
     "text": [
      " >epoch=0, lrate=0.010, error=5.666 \n",
      " >epoch=1, lrate=0.010, error=0.453 \n",
      " >epoch=2, lrate=0.010, error=0.447 \n",
      " >epoch=3, lrate=0.010, error=0.442 \n",
      " >epoch=4, lrate=0.010, error=0.437 \n",
      " >epoch=5, lrate=0.010, error=0.432 \n",
      " >epoch=6, lrate=0.010, error=0.427 \n",
      " >epoch=7, lrate=0.010, error=0.422 \n",
      " >epoch=8, lrate=0.010, error=0.417 \n",
      " >epoch=9, lrate=0.010, error=0.413 \n",
      " >epoch=10, lrate=0.010, error=0.408 \n",
      " >epoch=11, lrate=0.010, error=0.404 \n",
      " >epoch=12, lrate=0.010, error=0.399 \n",
      " >epoch=13, lrate=0.010, error=0.395 \n",
      " >epoch=14, lrate=0.010, error=0.391 \n",
      " >epoch=15, lrate=0.010, error=0.387 \n",
      " >epoch=16, lrate=0.010, error=0.383 \n",
      " >epoch=17, lrate=0.010, error=0.379 \n",
      " >epoch=18, lrate=0.010, error=0.375 \n",
      " >epoch=19, lrate=0.010, error=0.371 \n",
      " >epoch=20, lrate=0.010, error=0.367 \n",
      " >epoch=21, lrate=0.010, error=0.364 \n",
      " >epoch=22, lrate=0.010, error=0.360 \n",
      " >epoch=23, lrate=0.010, error=0.357 \n",
      " >epoch=24, lrate=0.010, error=0.353 \n",
      " >epoch=25, lrate=0.010, error=0.350 \n",
      " >epoch=26, lrate=0.010, error=0.347 \n",
      " >epoch=27, lrate=0.010, error=0.343 \n",
      " >epoch=28, lrate=0.010, error=0.340 \n",
      " >epoch=29, lrate=0.010, error=0.337 \n",
      " >epoch=30, lrate=0.010, error=0.334 \n",
      " >epoch=31, lrate=0.010, error=0.331 \n",
      " >epoch=32, lrate=0.010, error=0.328 \n",
      " >epoch=33, lrate=0.010, error=0.326 \n",
      " >epoch=34, lrate=0.010, error=0.323 \n",
      " >epoch=35, lrate=0.010, error=0.320 \n",
      " >epoch=36, lrate=0.010, error=0.317 \n",
      " >epoch=37, lrate=0.010, error=0.315 \n",
      " >epoch=38, lrate=0.010, error=0.312 \n",
      " >epoch=39, lrate=0.010, error=0.310 \n",
      " >epoch=40, lrate=0.010, error=0.307 \n",
      " >epoch=41, lrate=0.010, error=0.305 \n",
      " >epoch=42, lrate=0.010, error=0.302 \n",
      " >epoch=43, lrate=0.010, error=0.300 \n",
      " >epoch=44, lrate=0.010, error=0.298 \n",
      " >epoch=45, lrate=0.010, error=0.296 \n",
      " >epoch=46, lrate=0.010, error=0.293 \n",
      " >epoch=47, lrate=0.010, error=0.291 \n",
      " >epoch=48, lrate=0.010, error=0.289 \n",
      " >epoch=49, lrate=0.010, error=0.287 \n",
      " >epoch=50, lrate=0.010, error=0.285 \n",
      " >epoch=51, lrate=0.010, error=0.283 \n",
      " >epoch=52, lrate=0.010, error=0.281 \n",
      " >epoch=53, lrate=0.010, error=0.279 \n",
      " >epoch=54, lrate=0.010, error=0.277 \n",
      " >epoch=55, lrate=0.010, error=0.275 \n",
      " >epoch=56, lrate=0.010, error=0.274 \n",
      " >epoch=57, lrate=0.010, error=0.272 \n",
      " >epoch=58, lrate=0.010, error=0.270 \n",
      " >epoch=59, lrate=0.010, error=0.268 \n",
      " >epoch=60, lrate=0.010, error=0.267 \n",
      " >epoch=61, lrate=0.010, error=0.265 \n",
      " >epoch=62, lrate=0.010, error=0.264 \n",
      " >epoch=63, lrate=0.010, error=0.262 \n",
      " >epoch=64, lrate=0.010, error=0.260 \n",
      " >epoch=65, lrate=0.010, error=0.259 \n",
      " >epoch=66, lrate=0.010, error=0.257 \n",
      " >epoch=67, lrate=0.010, error=0.256 \n",
      " >epoch=68, lrate=0.010, error=0.255 \n",
      " >epoch=69, lrate=0.010, error=0.253 \n",
      " >epoch=70, lrate=0.010, error=0.252 \n",
      " >epoch=71, lrate=0.010, error=0.250 \n",
      " >epoch=72, lrate=0.010, error=0.249 \n",
      " >epoch=73, lrate=0.010, error=0.248 \n",
      " >epoch=74, lrate=0.010, error=0.246 \n",
      " >epoch=75, lrate=0.010, error=0.245 \n",
      " >epoch=76, lrate=0.010, error=0.244 \n",
      " >epoch=77, lrate=0.010, error=0.243 \n",
      " >epoch=78, lrate=0.010, error=0.242 \n",
      " >epoch=79, lrate=0.010, error=0.240 \n",
      " >epoch=80, lrate=0.010, error=0.239 \n",
      " >epoch=81, lrate=0.010, error=0.238 \n",
      " >epoch=82, lrate=0.010, error=0.237 \n",
      " >epoch=83, lrate=0.010, error=0.236 \n",
      " >epoch=84, lrate=0.010, error=0.235 \n",
      " >epoch=85, lrate=0.010, error=0.234 \n",
      " >epoch=86, lrate=0.010, error=0.233 \n",
      " >epoch=87, lrate=0.010, error=0.232 \n",
      " >epoch=88, lrate=0.010, error=0.231 \n",
      " >epoch=89, lrate=0.010, error=0.230 \n",
      " >epoch=90, lrate=0.010, error=0.229 \n",
      " >epoch=91, lrate=0.010, error=0.228 \n",
      " >epoch=92, lrate=0.010, error=0.227 \n",
      " >epoch=93, lrate=0.010, error=0.226 \n",
      " >epoch=94, lrate=0.010, error=0.225 \n",
      " >epoch=95, lrate=0.010, error=0.224 \n",
      " >epoch=96, lrate=0.010, error=0.223 \n",
      " >epoch=97, lrate=0.010, error=0.223 \n",
      " >epoch=98, lrate=0.010, error=0.222 \n",
      " >epoch=99, lrate=0.010, error=0.221 \n",
      " >epoch=100, lrate=0.010, error=0.220 \n",
      " >epoch=101, lrate=0.010, error=0.219 \n",
      " >epoch=102, lrate=0.010, error=0.218 \n",
      " >epoch=103, lrate=0.010, error=0.218 \n",
      " >epoch=104, lrate=0.010, error=0.217 \n",
      " >epoch=105, lrate=0.010, error=0.216 \n",
      " >epoch=106, lrate=0.010, error=0.215 \n",
      " >epoch=107, lrate=0.010, error=0.215 \n",
      " >epoch=108, lrate=0.010, error=0.214 \n",
      " >epoch=109, lrate=0.010, error=0.213 \n",
      " >epoch=110, lrate=0.010, error=0.213 \n",
      " >epoch=111, lrate=0.010, error=0.212 \n",
      " >epoch=112, lrate=0.010, error=0.211 \n",
      " >epoch=113, lrate=0.010, error=0.211 \n",
      " >epoch=114, lrate=0.010, error=0.210 \n",
      " >epoch=115, lrate=0.010, error=0.209 \n",
      " >epoch=116, lrate=0.010, error=0.209 \n",
      " >epoch=117, lrate=0.010, error=0.208 \n",
      " >epoch=118, lrate=0.010, error=0.208 \n",
      " >epoch=119, lrate=0.010, error=0.207 \n",
      " >epoch=120, lrate=0.010, error=0.206 \n",
      " >epoch=121, lrate=0.010, error=0.206 \n",
      " >epoch=122, lrate=0.010, error=0.205 \n",
      " >epoch=123, lrate=0.010, error=0.205 \n",
      " >epoch=124, lrate=0.010, error=0.204 \n",
      " >epoch=125, lrate=0.010, error=0.204 \n",
      " >epoch=126, lrate=0.010, error=0.203 \n",
      " >epoch=127, lrate=0.010, error=0.203 \n",
      " >epoch=128, lrate=0.010, error=0.202 \n",
      " >epoch=129, lrate=0.010, error=0.201 \n",
      " >epoch=130, lrate=0.010, error=0.201 \n",
      " >epoch=131, lrate=0.010, error=0.200 \n",
      " >epoch=132, lrate=0.010, error=0.200 \n",
      " >epoch=133, lrate=0.010, error=0.200 \n",
      " >epoch=134, lrate=0.010, error=0.199 \n",
      " >epoch=135, lrate=0.010, error=0.199 \n",
      " >epoch=136, lrate=0.010, error=0.198 \n",
      " >epoch=137, lrate=0.010, error=0.198 \n",
      " >epoch=138, lrate=0.010, error=0.197 \n",
      " >epoch=139, lrate=0.010, error=0.197 \n",
      " >epoch=140, lrate=0.010, error=0.196 \n",
      " >epoch=141, lrate=0.010, error=0.196 \n",
      " >epoch=142, lrate=0.010, error=0.195 \n",
      " >epoch=143, lrate=0.010, error=0.195 \n",
      " >epoch=144, lrate=0.010, error=0.195 \n",
      " >epoch=145, lrate=0.010, error=0.194 \n",
      " >epoch=146, lrate=0.010, error=0.194 \n",
      " >epoch=147, lrate=0.010, error=0.193 \n",
      " >epoch=148, lrate=0.010, error=0.193 \n",
      " >epoch=149, lrate=0.010, error=0.193 \n",
      " >epoch=150, lrate=0.010, error=0.192 \n",
      " >epoch=151, lrate=0.010, error=0.192 \n",
      " >epoch=152, lrate=0.010, error=0.192 \n",
      " >epoch=153, lrate=0.010, error=0.191 \n",
      " >epoch=154, lrate=0.010, error=0.191 \n",
      " >epoch=155, lrate=0.010, error=0.190 \n",
      " >epoch=156, lrate=0.010, error=0.190 \n",
      " >epoch=157, lrate=0.010, error=0.190 \n",
      " >epoch=158, lrate=0.010, error=0.189 \n",
      " >epoch=159, lrate=0.010, error=0.189 \n",
      " >epoch=160, lrate=0.010, error=0.189 \n",
      " >epoch=161, lrate=0.010, error=0.188 \n",
      " >epoch=162, lrate=0.010, error=0.188 \n",
      " >epoch=163, lrate=0.010, error=0.188 \n",
      " >epoch=164, lrate=0.010, error=0.187 \n",
      " >epoch=165, lrate=0.010, error=0.187 \n",
      " >epoch=166, lrate=0.010, error=0.187 \n",
      " >epoch=167, lrate=0.010, error=0.187 \n",
      " >epoch=168, lrate=0.010, error=0.186 \n",
      " >epoch=169, lrate=0.010, error=0.186 \n",
      " >epoch=170, lrate=0.010, error=0.186 \n",
      " >epoch=171, lrate=0.010, error=0.185 \n",
      " >epoch=172, lrate=0.010, error=0.185 \n",
      " >epoch=173, lrate=0.010, error=0.185 \n",
      " >epoch=174, lrate=0.010, error=0.184 \n",
      " >epoch=175, lrate=0.010, error=0.184 \n",
      " >epoch=176, lrate=0.010, error=0.184 \n",
      " >epoch=177, lrate=0.010, error=0.184 \n",
      " >epoch=178, lrate=0.010, error=0.183 \n",
      " >epoch=179, lrate=0.010, error=0.183 \n",
      " >epoch=180, lrate=0.010, error=0.183 \n",
      " >epoch=181, lrate=0.010, error=0.183 \n",
      " >epoch=182, lrate=0.010, error=0.182 \n",
      " >epoch=183, lrate=0.010, error=0.182 \n",
      " >epoch=184, lrate=0.010, error=0.182 \n",
      " >epoch=185, lrate=0.010, error=0.182 \n",
      " >epoch=186, lrate=0.010, error=0.181 \n",
      " >epoch=187, lrate=0.010, error=0.181 \n",
      " >epoch=188, lrate=0.010, error=0.181 \n",
      " >epoch=189, lrate=0.010, error=0.181 \n",
      " >epoch=190, lrate=0.010, error=0.180 \n",
      " >epoch=191, lrate=0.010, error=0.180 \n",
      " >epoch=192, lrate=0.010, error=0.180 \n",
      " >epoch=193, lrate=0.010, error=0.180 \n",
      " >epoch=194, lrate=0.010, error=0.179 \n",
      " >epoch=195, lrate=0.010, error=0.179 \n",
      " >epoch=196, lrate=0.010, error=0.179 \n",
      " >epoch=197, lrate=0.010, error=0.179 \n",
      " >epoch=198, lrate=0.010, error=0.179 \n",
      " >epoch=199, lrate=0.010, error=0.178 \n"
     ]
    }
   ],
   "source": [
    "l_rate = 0.01\n",
    "n_epoch = 200\n",
    "coef = coefficients_sgd(X_train, Y_train, l_rate, n_epoch)"
   ]
  },
  {
   "cell_type": "markdown",
   "id": "bfcc80d0",
   "metadata": {},
   "source": [
    "###### (f)\n",
    "Make a prediction using the coefficients you found from SGD algorithm in previous step (Y prediction sgd = X test.dot(coef sgd)); Use both the mean square error and coefficient of determination R2 to measure the performance of your predictions; compare the results with your prediction performance in part d where you used the coefficients found from Normal Equation Method. Which method gives you better results?"
   ]
  },
  {
   "cell_type": "code",
   "execution_count": 16,
   "id": "a5c03f58",
   "metadata": {},
   "outputs": [],
   "source": [
    "Y_pred = np.array(predict(X_test[0,:], coef))\n",
    "for i in range(X_test.shape[0]-1):\n",
    "  Y_pred = np.append(Y_pred, predict(X_test[i+1,:], coef))"
   ]
  },
  {
   "cell_type": "code",
   "execution_count": 17,
   "id": "2db894c9",
   "metadata": {},
   "outputs": [
    {
     "name": "stdout",
     "output_type": "stream",
     "text": [
      "3.5368255527927726e-05\n"
     ]
    }
   ],
   "source": [
    "print(mean_squared_error(Y_pred, Y_test))"
   ]
  },
  {
   "cell_type": "code",
   "execution_count": 18,
   "id": "bd02e9ec",
   "metadata": {},
   "outputs": [
    {
     "name": "stdout",
     "output_type": "stream",
     "text": [
      "0.9993455884170656\n"
     ]
    }
   ],
   "source": [
    "print(r2_score(Y_pred, Y_test))"
   ]
  },
  {
   "cell_type": "markdown",
   "id": "1ca08119",
   "metadata": {},
   "source": [
    "For R2 score in the normal equation, we get 0.9995582657234232 and the R2 score in SGD is 0.9993455884170656. The MSE for the normal equation is 2.4148595608723037e-05 and the MSE for SGD is 3.5368255527927726e-05.\n",
    "\n",
    "If we comapre the results, there is a very little differnece between Normal Equation and SGD. However, taking that minimal difference into consideration, Normal Equation perform better than SGD."
   ]
  },
  {
   "cell_type": "markdown",
   "id": "1c430051",
   "metadata": {},
   "source": [
    "#### Problem 2\n",
    "Create a Perceptron model with an optimal value of hyperparameter α (learning rate of SGD)"
   ]
  },
  {
   "cell_type": "code",
   "execution_count": 19,
   "id": "fe3177a8",
   "metadata": {},
   "outputs": [],
   "source": [
    "# Import necessary packages to the Jupyter notebook\n",
    "# Implement a Perceptron algorithm with an optimal value of learning rate\n",
    "import pandas as pd\n",
    "import numpy as np\n",
    "from pandas import read_csv\n",
    "\n",
    "from sklearn.model_selection import train_test_split\n",
    "from sklearn.model_selection import GridSearchCV\n",
    "from sklearn.model_selection import RepeatedStratifiedKFold\n",
    "from sklearn.linear_model import Perceptron\n",
    "\n",
    "# read and load the csv data file\n",
    "filename = \"Dataset/sonar.all-data.csv\"\n",
    "dataframe = read_csv (filename)\n",
    "\n",
    "# converting the dataset to a numpy array\n",
    "array = dataframe . values\n",
    "\n",
    "# separate array into input and output components\n",
    "X = array [:,:-1]\n",
    "Y = array [:,-1]"
   ]
  },
  {
   "cell_type": "markdown",
   "id": "1ff73938",
   "metadata": {},
   "source": [
    "###### (a)\n",
    "Split your data into train and test portions with ‘test size = 0.3’ and ’random state = 3’ . Define your learning model to be Perceptron. Use RepeatedStratifiedKFold with ‘n splits=10’, ‘n repeats=5’, and ‘random state=1’ as your model evaluation method. "
   ]
  },
  {
   "cell_type": "code",
   "execution_count": 20,
   "id": "688f5222",
   "metadata": {},
   "outputs": [
    {
     "data": {
      "text/plain": [
       "Perceptron()"
      ]
     },
     "execution_count": 20,
     "metadata": {},
     "output_type": "execute_result"
    }
   ],
   "source": [
    "model = Perceptron()\n",
    "X_train, X_test, Y_train, Y_test = train_test_split(X, Y, test_size=0.3, random_state=3)\n",
    "model.fit(X_train, Y_train)"
   ]
  },
  {
   "cell_type": "code",
   "execution_count": 21,
   "id": "c0bd3934",
   "metadata": {},
   "outputs": [],
   "source": [
    "# define model\n",
    "model = Perceptron()\n",
    "# define model evaluation method\n",
    "cv = RepeatedStratifiedKFold(n_splits=10, n_repeats=5, random_state=1)"
   ]
  },
  {
   "cell_type": "markdown",
   "id": "320eb2d7",
   "metadata": {},
   "source": [
    "###### (b)\n",
    "Use GridSearchCV to perform a gird search on the parameter of Perceptron algorithm (learning rate α in SGD), consider values for α as [0.0001, 0.001, 0.01, 0.1]. For your GridSearch, use data only from your training sets (X-train, Y_train)."
   ]
  },
  {
   "cell_type": "code",
   "execution_count": 22,
   "id": "edb28487",
   "metadata": {},
   "outputs": [],
   "source": [
    "# define grid\n",
    "grid = dict()\n",
    "grid['alpha'] = [0.0001, 0.001, 0.01, 0.1]"
   ]
  },
  {
   "cell_type": "code",
   "execution_count": 23,
   "id": "7ed78b1d",
   "metadata": {},
   "outputs": [],
   "source": [
    "# define search\n",
    "search = GridSearchCV(model, grid, scoring='accuracy', cv=cv, n_jobs=-1)\n",
    "# perform the search\n",
    "results = search.fit(X_train, Y_train)"
   ]
  },
  {
   "cell_type": "markdown",
   "id": "eb5324a1",
   "metadata": {},
   "source": [
    "###### (c)\n",
    "Report the best score and the best value of the parameter in your search."
   ]
  },
  {
   "cell_type": "code",
   "execution_count": 24,
   "id": "02be24fa",
   "metadata": {},
   "outputs": [
    {
     "name": "stdout",
     "output_type": "stream",
     "text": [
      "Mean Accuracy: 0.664\n",
      "Config: {'alpha': 0.0001}\n"
     ]
    }
   ],
   "source": [
    "# summarize\n",
    "print('Mean Accuracy: %.3f' % results.best_score_)\n",
    "print('Config: %s' % results.best_params_)"
   ]
  },
  {
   "cell_type": "markdown",
   "id": "5083d00e",
   "metadata": {},
   "source": [
    "###### (d)\n",
    "Create a Perceptron model which takes as an argument the best value of parameter you found in the previous step, and use this model to make predictions on your test set; Report the accuracy."
   ]
  },
  {
   "cell_type": "code",
   "execution_count": 25,
   "id": "abb8e366",
   "metadata": {},
   "outputs": [
    {
     "data": {
      "text/plain": [
       "0.7172413793103448"
      ]
     },
     "execution_count": 25,
     "metadata": {},
     "output_type": "execute_result"
    }
   ],
   "source": [
    "clf = Perceptron(alpha=0.0001)\n",
    "results = clf.fit(X_train, Y_train)\n",
    "results.score(X_train, Y_train)"
   ]
  },
  {
   "cell_type": "markdown",
   "id": "5c609c18",
   "metadata": {},
   "source": [
    "If you see in part c, we used the attribute best_score_ on GridSearchCV to find the mean accuracy or the mean cross-validated score of the best estimator, which was about 0.664. We also used the best_params_ attribute to find the \n",
    "parameter setting that gave the best results on the hold out data, which happened to be 0.0001 in this example. \n",
    "Then, when we used the score() method on the Perceptron model. The score() method returns the mean accuracy on the given test data and labels. We got a mean accuracy of about 0.712, which is higher than the mean accuracy of the GridSearch."
   ]
  },
  {
   "cell_type": "markdown",
   "id": "602b5036",
   "metadata": {},
   "source": [
    "#### Problem 3: Create a KNN model with an optimal value of hyperparameter K (the number of nearest neighbors)"
   ]
  },
  {
   "cell_type": "code",
   "execution_count": 26,
   "id": "8889448c",
   "metadata": {},
   "outputs": [],
   "source": [
    "# import necessary packages to the Jupyter notebook\n",
    "# Create a KNN model with the best parameter K\n",
    "import pandas as pd\n",
    "import numpy as np\n",
    "import matplotlib . pyplot as plt\n",
    "\n",
    "from pandas import read_csv\n",
    "from sklearn . model_selection import train_test_split\n",
    "from sklearn . metrics import accuracy_score\n",
    "from sklearn . neighbors import KNeighborsClassifier\n",
    "\n",
    "# read and load the csv data file\n",
    "filename = \"Dataset/sonar.all-data.csv\"\n",
    "dataframe = read_csv (filename)\n",
    "\n",
    "# converting the dataset to a numpy array\n",
    "array = dataframe . values\n",
    "\n",
    "# separate array into input and output components\n",
    "X = array [:,:-1]\n",
    "Y = array [:,-1]"
   ]
  },
  {
   "cell_type": "markdown",
   "id": "19491c6e",
   "metadata": {},
   "source": [
    "###### (a) \n",
    "Split the data into train and test sets with 'test_size = 0.3', and 'random_state = 5'. Create a KNN model with parameter 'n_neighbor' varying from 1 to 30 (see the code from Lab Session 6)."
   ]
  },
  {
   "cell_type": "code",
   "execution_count": 27,
   "id": "efcc7e99",
   "metadata": {},
   "outputs": [],
   "source": [
    "X_train, X_test, Y_train, Y_test = train_test_split(X, Y, test_size=0.3, random_state = 5)"
   ]
  },
  {
   "cell_type": "code",
   "execution_count": 28,
   "id": "3fa9b29a",
   "metadata": {},
   "outputs": [],
   "source": [
    "scores = {}\n",
    "for k in range(1,30):\n",
    "  knn = KNeighborsClassifier(n_neighbors=k)\n",
    "  knn.fit(X_train, Y_train)\n",
    "  y_pred = knn.predict(X_test)\n",
    "  scores[k] = accuracy_score(y_pred, Y_test)"
   ]
  },
  {
   "cell_type": "code",
   "execution_count": 29,
   "id": "aa180769",
   "metadata": {},
   "outputs": [
    {
     "data": {
      "text/plain": [
       "{1: 0.7777777777777778,\n",
       " 2: 0.7142857142857143,\n",
       " 3: 0.7301587301587301,\n",
       " 4: 0.7142857142857143,\n",
       " 5: 0.746031746031746,\n",
       " 6: 0.746031746031746,\n",
       " 7: 0.6507936507936508,\n",
       " 8: 0.6349206349206349,\n",
       " 9: 0.6666666666666666,\n",
       " 10: 0.6666666666666666,\n",
       " 11: 0.6825396825396826,\n",
       " 12: 0.6507936507936508,\n",
       " 13: 0.6666666666666666,\n",
       " 14: 0.6507936507936508,\n",
       " 15: 0.6825396825396826,\n",
       " 16: 0.6666666666666666,\n",
       " 17: 0.6507936507936508,\n",
       " 18: 0.6666666666666666,\n",
       " 19: 0.6507936507936508,\n",
       " 20: 0.7142857142857143,\n",
       " 21: 0.6825396825396826,\n",
       " 22: 0.6825396825396826,\n",
       " 23: 0.6984126984126984,\n",
       " 24: 0.6825396825396826,\n",
       " 25: 0.6825396825396826,\n",
       " 26: 0.6825396825396826,\n",
       " 27: 0.6666666666666666,\n",
       " 28: 0.6984126984126984,\n",
       " 29: 0.7142857142857143}"
      ]
     },
     "execution_count": 29,
     "metadata": {},
     "output_type": "execute_result"
    }
   ],
   "source": [
    "scores"
   ]
  },
  {
   "cell_type": "markdown",
   "id": "52928df2",
   "metadata": {},
   "source": [
    "###### (b)\n",
    "Plot the accuracy of the KNN model in terms of the number of nearest neighbor k varying from 1 to 30. Choose and report the best value for k."
   ]
  },
  {
   "cell_type": "code",
   "execution_count": 30,
   "id": "f9ccec02",
   "metadata": {},
   "outputs": [
    {
     "data": {
      "text/plain": [
       "[<matplotlib.lines.Line2D at 0x1aad288b5b0>]"
      ]
     },
     "execution_count": 30,
     "metadata": {},
     "output_type": "execute_result"
    },
    {
     "data": {
      "image/png": "[encoded data removed]",
      "text/plain": [
       "<Figure size 432x288 with 1 Axes>"
      ]
     },
     "metadata": {
      "needs_background": "light"
     },
     "output_type": "display_data"
    }
   ],
   "source": [
    "plt.plot(list(scores.keys()),list(scores.values()),marker=\"o\", markersize=2, markeredgecolor=\"red\")"
   ]
  },
  {
   "cell_type": "markdown",
   "id": "71abefde",
   "metadata": {},
   "source": [
    "After running the KNeighborsClassifier with diffrent number of neighbors (1 -30), we can see that the best value of k is 1. If you see the list of accuracy classification scores and the line graph, you can see that k=1 has the highest  accuracy. Then 5 and 6 would be the next best values for k. "
   ]
  },
  {
   "cell_type": "markdown",
   "id": "506280d5",
   "metadata": {},
   "source": [
    "###### (c)\n",
    "Create a new KNN model with the best values of nearest neighbors that you found in previous step, and perform prediction on your test set. Report the accuracy of the model."
   ]
  },
  {
   "cell_type": "code",
   "execution_count": 31,
   "id": "d90a6411",
   "metadata": {},
   "outputs": [
    {
     "data": {
      "text/plain": [
       "1.0"
      ]
     },
     "execution_count": 31,
     "metadata": {},
     "output_type": "execute_result"
    }
   ],
   "source": [
    "knn = KNeighborsClassifier(n_neighbors=1)\n",
    "knn.fit(X_train, Y_train)\n",
    "knn.score(X_train, Y_train)"
   ]
  },
  {
   "cell_type": "code",
   "execution_count": 32,
   "id": "bca00eb5",
   "metadata": {},
   "outputs": [
    {
     "data": {
      "text/plain": [
       "0.7777777777777778"
      ]
     },
     "execution_count": 32,
     "metadata": {},
     "output_type": "execute_result"
    }
   ],
   "source": [
    "y_pred = knn.predict(X_test)\n",
    "score = accuracy_score(y_pred, Y_test)\n",
    "score"
   ]
  },
  {
   "cell_type": "code",
   "execution_count": 33,
   "id": "28ee2bae",
   "metadata": {},
   "outputs": [
    {
     "data": {
      "text/plain": [
       "0.8344827586206897"
      ]
     },
     "execution_count": 33,
     "metadata": {},
     "output_type": "execute_result"
    }
   ],
   "source": [
    "knn = KNeighborsClassifier(n_neighbors=5)\n",
    "knn.fit(X_train, Y_train)\n",
    "knn.score(X_train, Y_train)"
   ]
  },
  {
   "cell_type": "code",
   "execution_count": 34,
   "id": "b18844a4",
   "metadata": {},
   "outputs": [
    {
     "data": {
      "text/plain": [
       "0.746031746031746"
      ]
     },
     "execution_count": 34,
     "metadata": {},
     "output_type": "execute_result"
    }
   ],
   "source": [
    "y_pred = knn.predict(X_test)\n",
    "score = accuracy_score(y_pred, Y_test)\n",
    "score"
   ]
  },
  {
   "cell_type": "code",
   "execution_count": 35,
   "id": "fe54421a",
   "metadata": {},
   "outputs": [
    {
     "data": {
      "text/plain": [
       "0.8275862068965517"
      ]
     },
     "execution_count": 35,
     "metadata": {},
     "output_type": "execute_result"
    }
   ],
   "source": [
    "knn = KNeighborsClassifier(n_neighbors=6)\n",
    "knn.fit(X_train, Y_train)\n",
    "knn.score(X_train, Y_train)"
   ]
  },
  {
   "cell_type": "code",
   "execution_count": 36,
   "id": "84e42adf",
   "metadata": {},
   "outputs": [
    {
     "data": {
      "text/plain": [
       "0.746031746031746"
      ]
     },
     "execution_count": 36,
     "metadata": {},
     "output_type": "execute_result"
    }
   ],
   "source": [
    "y_pred = knn.predict(X_test)\n",
    "score = accuracy_score(y_pred, Y_test)\n",
    "score"
   ]
  },
  {
   "cell_type": "markdown",
   "id": "bd6b53ce",
   "metadata": {},
   "source": [
    "When I take the KNeighborsClassifier and use the score method, I get the mean accuracy of the data. However, I found this unreliable, because it is checking if it is an exact match of X_train to get high accuracy. That is why the accuracy_score(y_pred, Y_test) was a better test. I choosed the 3 highest accuracy's (k = 1, 5, & 6). k = 1 was the highest and 5/6 tied for 2nd. "
   ]
  },
  {
   "cell_type": "code",
   "execution_count": null,
   "id": "da760b73",
   "metadata": {},
   "outputs": [],
   "source": []
  }
 ],
 "metadata": {
  "kernelspec": {
   "display_name": "Python 3 (ipykernel)",
   "language": "python",
   "name": "python3"
  },
  "language_info": {
   "codemirror_mode": {
    "name": "ipython",
    "version": 3
   },
   "file_extension": ".py",
   "mimetype": "text/x-python",
   "name": "python",
   "nbconvert_exporter": "python",
   "pygments_lexer": "ipython3",
   "version": "3.9.7"
  }
 },
 "nbformat": 4,
 "nbformat_minor": 5
}
