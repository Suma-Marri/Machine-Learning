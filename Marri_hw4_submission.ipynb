{
 "cells": [
  {
   "cell_type": "markdown",
   "id": "843b2137",
   "metadata": {},
   "source": [
    "## Homework 4\n",
    "### CAP 5610 - Machine Learning\n",
    "### Suma Marri\n",
    "### March 14, 2022"
   ]
  },
  {
   "cell_type": "markdown",
   "id": "04897320",
   "metadata": {},
   "source": [
    "#### Problem 1: Support Vector Machine Algorithm"
   ]
  },
  {
   "cell_type": "code",
   "execution_count": 1,
   "id": "f0ca4903",
   "metadata": {},
   "outputs": [],
   "source": [
    "# Evaluate using Cross Validation\n",
    "import pandas as pd\n",
    "import numpy as np\n",
    "import seaborn as sns\n",
    "\n",
    "import matplotlib . pyplot as plt\n",
    "%matplotlib inline\n",
    "\n",
    "from sklearn.preprocessing import LabelEncoder\n",
    "from sklearn.preprocessing import StandardScaler\n",
    "from sklearn.model_selection import train_test_split\n",
    "\n",
    "from sklearn.model_selection import KFold\n",
    "from sklearn.model_selection import cross_val_score\n",
    "\n",
    "from sklearn.svm import SVC\n",
    "from sklearn import metrics\n",
    "\n",
    "# read and load the csv data file\n",
    "filename = 'Dataset4/voice.csv '\n",
    "dataframe = pd.read_csv(filename)\n",
    "\n",
    "# converting the dataset to a numpy array\n",
    "array = dataframe.values\n",
    "\n",
    "# separate array into input and output components\n",
    "X = array [:,:-1]\n",
    "Y = array [:,-1]"
   ]
  },
  {
   "cell_type": "code",
   "execution_count": 2,
   "id": "85946850",
   "metadata": {
    "id": "85946850"
   },
   "outputs": [],
   "source": [
    "voice_df = dataframe"
   ]
  },
  {
   "cell_type": "raw",
   "id": "24ca57d4",
   "metadata": {
    "id": "9ed9f9f8"
   },
   "source": [
    "Y = voice_df['label']\n",
    "X = voice_df.drop('label',axis = 1)"
   ]
  },
  {
   "cell_type": "markdown",
   "id": "DrOVW_XJLfNM",
   "metadata": {
    "id": "DrOVW_XJLfNM"
   },
   "source": [
    "###### (a) \n",
    "Use LabelEncoder to convert string values to integer for labels Y."
   ]
  },
  {
   "cell_type": "code",
   "execution_count": 3,
   "id": "6d9b9552",
   "metadata": {
    "id": "6d9b9552"
   },
   "outputs": [],
   "source": [
    "le = LabelEncoder()\n",
    "Y = le.fit_transform(Y)"
   ]
  },
  {
   "cell_type": "markdown",
   "id": "n2kV-r7uLmO3",
   "metadata": {
    "id": "n2kV-r7uLmO3"
   },
   "source": [
    "###### (b) \n",
    "Standardize your input data using StandardScaler , and split your data into train and test\n",
    "with 20% test size, and 'random state' =1. "
   ]
  },
  {
   "cell_type": "code",
   "execution_count": 4,
   "id": "66829af3",
   "metadata": {
    "id": "66829af3"
   },
   "outputs": [],
   "source": [
    "std = StandardScaler()\n",
    "X_std = std.fit_transform(X)"
   ]
  },
  {
   "cell_type": "code",
   "execution_count": 5,
   "id": "8433aeeb",
   "metadata": {
    "colab": {
     "base_uri": "https://localhost:8080/"
    },
    "id": "8433aeeb",
    "outputId": "4a42f729-6344-4074-edc3-b5720c87b7e2"
   },
   "outputs": [
    {
     "data": {
      "text/plain": [
       "array([[-4.04924806,  0.4273553 , -4.22490077, ..., -1.43142165,\n",
       "        -1.41913712, -1.45477229],\n",
       "       [-3.84105325,  0.6116695 , -3.99929342, ..., -1.41810716,\n",
       "        -1.4058184 , -1.01410294],\n",
       "       [-3.46306647,  1.60384791, -4.09585052, ..., -1.42920257,\n",
       "        -1.41691733, -1.06534356],\n",
       "       ...,\n",
       "       [-1.29877326,  2.32272355, -0.05197279, ..., -0.5992661 ,\n",
       "        -0.58671739,  0.17588664],\n",
       "       [-1.2452018 ,  2.012196  , -0.01772849, ..., -0.41286326,\n",
       "        -0.40025537,  1.14916112],\n",
       "       [-0.51474626,  2.14765111, -0.07087873, ..., -1.27608595,\n",
       "        -1.2637521 ,  1.47567886]])"
      ]
     },
     "execution_count": 5,
     "metadata": {},
     "output_type": "execute_result"
    }
   ],
   "source": [
    "X_std"
   ]
  },
  {
   "cell_type": "code",
   "execution_count": 6,
   "id": "84305b2e",
   "metadata": {
    "id": "84305b2e"
   },
   "outputs": [],
   "source": [
    "X_train, X_test, y_train, y_test = train_test_split(X_std, Y, test_size=0.2, random_state=1)"
   ]
  },
  {
   "cell_type": "code",
   "execution_count": 7,
   "id": "aaf5103c",
   "metadata": {
    "colab": {
     "base_uri": "https://localhost:8080/"
    },
    "id": "aaf5103c",
    "outputId": "5b510294-9a5a-47df-d52a-a59fda6ddc4a"
   },
   "outputs": [
    {
     "data": {
      "text/plain": [
       "((2534, 20), (634, 20), (2534,), (634,))"
      ]
     },
     "execution_count": 7,
     "metadata": {},
     "output_type": "execute_result"
    }
   ],
   "source": [
    "X_train.shape, X_test.shape, y_train.shape, y_test.shape"
   ]
  },
  {
   "cell_type": "markdown",
   "id": "SGeu8jLrLtsZ",
   "metadata": {
    "id": "SGeu8jLrLtsZ"
   },
   "source": [
    "###### (c) \n",
    "Run SVM with default hyperparameters (no argument to SVC), and measure the accuracy of your model on test set. "
   ]
  },
  {
   "cell_type": "code",
   "execution_count": 8,
   "id": "81c30040",
   "metadata": {
    "colab": {
     "base_uri": "https://localhost:8080/"
    },
    "id": "81c30040",
    "outputId": "96fed369-972e-4ed7-f0a0-5fbb62c171d8"
   },
   "outputs": [
    {
     "name": "stdout",
     "output_type": "stream",
     "text": [
      "Accuracy score on test set with default parameter:  0.9763406940063092\n"
     ]
    }
   ],
   "source": [
    "svc = SVC()\n",
    "svc.fit(X_train,y_train)\n",
    "y_test_pred = svc.predict(X_test)\n",
    "print(\"Accuracy score on test set with default parameter: \", metrics.accuracy_score(y_test,y_test_pred))"
   ]
  },
  {
   "cell_type": "markdown",
   "id": "P_jRwyYqLyuq",
   "metadata": {
    "id": "P_jRwyYqLyuq"
   },
   "source": [
    "###### (d) \n",
    "Use linear, rbf and polynomial kernels as parameters for kernel in SVC and report the accuracy for all three cases on the test set."
   ]
  },
  {
   "cell_type": "code",
   "execution_count": 9,
   "id": "123f5e95",
   "metadata": {
    "colab": {
     "base_uri": "https://localhost:8080/"
    },
    "id": "123f5e95",
    "outputId": "dec7a37d-91aa-48c8-8cbf-d5e06921cac2"
   },
   "outputs": [
    {
     "name": "stdout",
     "output_type": "stream",
     "text": [
      "Accuracy score on test set with 'rbf' kernel:  0.9779179810725552\n"
     ]
    }
   ],
   "source": [
    "svc = SVC(kernel='linear')\n",
    "svc.fit(X_train,y_train)\n",
    "y_test_pred = svc.predict(X_test)\n",
    "print(\"Accuracy score on test set with 'rbf' kernel: \", metrics.accuracy_score(y_test,y_test_pred))"
   ]
  },
  {
   "cell_type": "code",
   "execution_count": 10,
   "id": "f15ff241",
   "metadata": {
    "colab": {
     "base_uri": "https://localhost:8080/"
    },
    "id": "f15ff241",
    "outputId": "0ce446cd-911f-479f-fa0f-3059d9109ae5"
   },
   "outputs": [
    {
     "name": "stdout",
     "output_type": "stream",
     "text": [
      "Accuracy score on test set with 'rbf' kernel:  0.9763406940063092\n"
     ]
    }
   ],
   "source": [
    "svc = SVC(kernel='rbf')\n",
    "svc.fit(X_train,y_train)\n",
    "y_test_pred = svc.predict(X_test)\n",
    "print(\"Accuracy score on test set with 'rbf' kernel: \", metrics.accuracy_score(y_test,y_test_pred))"
   ]
  },
  {
   "cell_type": "code",
   "execution_count": 11,
   "id": "dc149932",
   "metadata": {
    "colab": {
     "base_uri": "https://localhost:8080/"
    },
    "id": "dc149932",
    "outputId": "c5ca664b-64a8-4c56-ffbb-85b61196cae9"
   },
   "outputs": [
    {
     "name": "stdout",
     "output_type": "stream",
     "text": [
      "Accuracy score on test set with 'rbf' kernel:  0.9589905362776026\n"
     ]
    }
   ],
   "source": [
    "svc = SVC(kernel='poly')\n",
    "svc.fit(X_train,y_train)\n",
    "y_test_pred = svc.predict(X_test)\n",
    "print(\"Accuracy score on test set with 'rbf' kernel: \", metrics.accuracy_score(y_test,y_test_pred))"
   ]
  },
  {
   "cell_type": "markdown",
   "id": "6IWQB81QL2KM",
   "metadata": {
    "id": "6IWQB81QL2KM"
   },
   "source": [
    "###### (e)\n",
    "For your SVM model with linear kernel, perform K-fold cross validation on your training data (use 10 folds, random state =13, shuffle = True) to figure out the optimal value for the regularization hyperparameter C for all integers in the range of [1,26]. Plot the accuracy of the SVM model in terms of the value of hyperparameter C varying from 1 to 26. Choose and report the best value for C."
   ]
  },
  {
   "cell_type": "code",
   "execution_count": 47,
   "id": "1fd4eaf8",
   "metadata": {
    "id": "1fd4eaf8"
   },
   "outputs": [],
   "source": [
    "accuracy_scores = []\n",
    "cv = KFold(n_splits=10, random_state=13, shuffle=True)\n",
    "for c in range(1,26):\n",
    "    svc = SVC(C = c, kernel = 'linear')\n",
    "    score = cross_val_score(svc, X_train, y_train, cv=cv, scoring='accuracy')\n",
    "    accuracy_scores.append(score.mean())"
   ]
  },
  {
   "cell_type": "code",
   "execution_count": 49,
   "id": "1888506a",
   "metadata": {
    "colab": {
     "base_uri": "https://localhost:8080/",
     "height": 282
    },
    "id": "1888506a",
    "outputId": "57e1108b-4ec4-4cee-8539-08f14073398a"
   },
   "outputs": [
    {
     "data": {
      "text/plain": [
       "<AxesSubplot:>"
      ]
     },
     "execution_count": 49,
     "metadata": {},
     "output_type": "execute_result"
    },
    {
     "data": {
      "image/png": "[encoded data removed]",
      "text/plain": [
       "<Figure size 432x288 with 1 Axes>"
      ]
     },
     "metadata": {
      "needs_background": "light"
     },
     "output_type": "display_data"
    }
   ],
   "source": [
    "sns.lineplot(x=list(range(1,26)),y = accuracy_scores)"
   ]
  },
  {
   "cell_type": "markdown",
   "id": "jziDMU43MZKc",
   "metadata": {
    "id": "jziDMU43MZKc"
   },
   "source": [
    "Best value of C = 1.0"
   ]
  },
  {
   "cell_type": "markdown",
   "id": "WILO6cLnMR9I",
   "metadata": {
    "id": "WILO6cLnMR9I"
   },
   "source": [
    "###### (f)\n",
    "For your SVM model with rbf kernel, perform K-fold cross validation on your training data (use 10 folds, random state =13, shuffle = True) to figure out the optimal value for the hyperparameter Î³ taking values from [0.0001, 0.001, 0.01, 0.1, 1, 10, 100]. Plot the accuracy of the SVM model in terms of the values of Î³. Choose and report the best value for γ."
   ]
  },
  {
   "cell_type": "code",
   "execution_count": 50,
   "id": "c61ac7c5",
   "metadata": {
    "id": "c61ac7c5"
   },
   "outputs": [],
   "source": [
    "gammavals= [0.0001, 0.001, 0.01, 0.1, 1, 10, 100]\n",
    "accuracy_scores = []\n",
    "cv = KFold(n_splits=10, random_state=13, shuffle=True)\n",
    "for g in gammavals:\n",
    "    svc = SVC( gamma = g, kernel = 'rbf')\n",
    "    score = cross_val_score(svc, X_train, y_train, cv=cv, scoring='accuracy')\n",
    "    accuracy_scores.append(score.mean())"
   ]
  },
  {
   "cell_type": "code",
   "execution_count": 51,
   "id": "11a3c017",
   "metadata": {
    "colab": {
     "base_uri": "https://localhost:8080/",
     "height": 284
    },
    "id": "11a3c017",
    "outputId": "09175fad-54e3-4dd9-bae9-aa44d5326f73"
   },
   "outputs": [
    {
     "data": {
      "text/plain": [
       "<AxesSubplot:>"
      ]
     },
     "execution_count": 51,
     "metadata": {},
     "output_type": "execute_result"
    },
    {
     "data": {
      "image/png": "[encoded data removed]",
      "text/plain": [
       "<Figure size 432x288 with 1 Axes>"
      ]
     },
     "metadata": {
      "needs_background": "light"
     },
     "output_type": "display_data"
    }
   ],
   "source": [
    "sns.lineplot(x=gammavals,y = accuracy_scores)"
   ]
  },
  {
   "cell_type": "code",
   "execution_count": 52,
   "id": "DTJBRgEUMvbl",
   "metadata": {
    "colab": {
     "base_uri": "https://localhost:8080/"
    },
    "id": "DTJBRgEUMvbl",
    "outputId": "61e0ac0b-8483-45d2-ca3c-461e991f8413"
   },
   "outputs": [
    {
     "data": {
      "text/plain": [
       "[0.0001, 0.001, 0.01, 0.1, 1, 10, 100]"
      ]
     },
     "execution_count": 52,
     "metadata": {},
     "output_type": "execute_result"
    }
   ],
   "source": [
    "gammavals"
   ]
  },
  {
   "cell_type": "markdown",
   "id": "Jz8mAKSvMqr_",
   "metadata": {
    "id": "Jz8mAKSvMqr_"
   },
   "source": [
    "Best gamma value = 0.001"
   ]
  },
  {
   "cell_type": "markdown",
   "id": "46ce17b8",
   "metadata": {},
   "source": [
    "#### Problem 2: K-Means and Hierarchical Clustering"
   ]
  },
  {
   "cell_type": "raw",
   "id": "28554bca",
   "metadata": {},
   "source": [
    "!pip install -U yellowbrick"
   ]
  },
  {
   "cell_type": "raw",
   "id": "3d9debfb",
   "metadata": {},
   "source": [
    "pip uninstall scikit-learn -y"
   ]
  },
  {
   "cell_type": "raw",
   "id": "2af4e9f2",
   "metadata": {},
   "source": [
    "pip install scikit-learn "
   ]
  },
  {
   "cell_type": "code",
   "execution_count": 20,
   "id": "60cf9bc7",
   "metadata": {
    "id": "60cf9bc7"
   },
   "outputs": [],
   "source": [
    "# import necessary packages to the Jupyter notebook\n",
    "# Create a pipeline that extracts features from the data then creates a model\n",
    "import numpy as np\n",
    "import pandas as pd\n",
    "\n",
    "# data visualization\n",
    "import matplotlib . pyplot as plt\n",
    "import seaborn as sns\n",
    "%matplotlib inline\n",
    "\n",
    "# clustering model library\n",
    "from sklearn.cluster import KMeans\n",
    "from sklearn.cluster import AgglomerativeClustering\n",
    "from yellowbrick.cluster import KElbowVisualizer, SilhouetteVisualizer\n",
    "from scipy.cluster.hierarchy import linkage\n",
    "from scipy.cluster.hierarchy import dendrogram\n",
    "from scipy.cluster.hierarchy import cut_tree\n",
    "\n",
    "# read and load the csv data file\n",
    "filename = \"Dataset4/Mall_Customers.csv\"\n",
    "dataset = pd.read_csv (filename)\n",
    "X = dataset.drop (['Gender','CustomerID'], axis =1 )"
   ]
  },
  {
   "cell_type": "code",
   "execution_count": 35,
   "id": "633918f3",
   "metadata": {
    "colab": {
     "base_uri": "https://localhost:8080/",
     "height": 206
    },
    "id": "633918f3",
    "outputId": "ef6854c0-f82c-4fa3-a628-804f480292a4"
   },
   "outputs": [],
   "source": [
    "mall_df = dataset"
   ]
  },
  {
   "cell_type": "code",
   "execution_count": 36,
   "id": "ca4e77c3",
   "metadata": {
    "id": "ca4e77c3"
   },
   "outputs": [],
   "source": [
    "std = StandardScaler()\n",
    "X_std = std.fit_transform(X)"
   ]
  },
  {
   "cell_type": "markdown",
   "id": "L232rAJcNEFO",
   "metadata": {
    "id": "L232rAJcNEFO"
   },
   "source": [
    "###### (a)\n",
    "Use sklearn function Kmeans() to perform K-Means clustering algorithm on the data, with the number of clusters changing in the range of [1, 15]. Use init='k-means++' and random_state = 42 for the initialization of your K-means algorithm."
   ]
  },
  {
   "cell_type": "code",
   "execution_count": 37,
   "id": "bd8355f1",
   "metadata": {
    "id": "bd8355f1"
   },
   "outputs": [
    {
     "name": "stderr",
     "output_type": "stream",
     "text": [
      "C:\\Users\\Suma Marri\\anaconda3\\lib\\site-packages\\sklearn\\cluster\\_kmeans.py:1036: UserWarning: KMeans is known to have a memory leak on Windows with MKL, when there are less chunks than available threads. You can avoid it by setting the environment variable OMP_NUM_THREADS=1.\n",
      "  warnings.warn(\n"
     ]
    }
   ],
   "source": [
    "inertia = []\n",
    "for k in range(1,16):\n",
    "    kmc = KMeans(n_clusters=k, init='k-means++', random_state=42)\n",
    "    kmc.fit(X_std)\n",
    "    inertia.append(kmc.inertia_)"
   ]
  },
  {
   "cell_type": "markdown",
   "id": "8ndGDk8XNLHV",
   "metadata": {
    "id": "8ndGDk8XNLHV"
   },
   "source": [
    "###### (b) \n",
    "Plot the effect of increased cluster numbers on inertia score (Sum of squared distances of samples to their closest cluster center). Use the Elbow method to choose the best number of clusters based on intertia scoring. "
   ]
  },
  {
   "cell_type": "code",
   "execution_count": 38,
   "id": "3b35b78a",
   "metadata": {
    "colab": {
     "base_uri": "https://localhost:8080/",
     "height": 364
    },
    "id": "3b35b78a",
    "outputId": "9d9a6055-bfa9-42e3-e294-359668cfa9e0"
   },
   "outputs": [
    {
     "data": {
      "text/plain": [
       "<AxesSubplot:>"
      ]
     },
     "execution_count": 38,
     "metadata": {},
     "output_type": "execute_result"
    },
    {
     "data": {
      "image/png": "[encoded data removed]",
      "text/plain": [
       "<Figure size 432x288 with 1 Axes>"
      ]
     },
     "metadata": {
      "needs_background": "light"
     },
     "output_type": "display_data"
    }
   ],
   "source": [
    "sns.lineplot(x = list(range(1,16)), y =inertia)"
   ]
  },
  {
   "cell_type": "markdown",
   "id": "orlo4eIGNO7o",
   "metadata": {
    "id": "orlo4eIGNO7o"
   },
   "source": [
    "Best K appers to be k = 6"
   ]
  },
  {
   "cell_type": "markdown",
   "id": "2l8mLyJ1NTc_",
   "metadata": {
    "id": "2l8mLyJ1NTc_"
   },
   "source": [
    "###### (c) \n",
    "Use the kmeans.labels attribute to report (print) the cluster labels of the observations for the best number of clusters you found using Elbow method."
   ]
  },
  {
   "cell_type": "code",
   "execution_count": 39,
   "id": "1a70e0ad",
   "metadata": {
    "colab": {
     "base_uri": "https://localhost:8080/"
    },
    "id": "1a70e0ad",
    "outputId": "9db405dc-eea7-43a4-ec73-330bd7935369"
   },
   "outputs": [
    {
     "name": "stdout",
     "output_type": "stream",
     "text": [
      "[0 0 5 0 5 0 5 0 5 0 5 0 5 0 5 0 5 0 5 0 5 0 5 0 5 0 5 0 5 0 5 0 5 0 5 0 5\n",
      " 0 5 0 1 0 5 3 5 0 1 3 3 3 1 3 3 1 1 1 1 1 3 1 1 3 1 1 1 3 1 1 3 3 1 1 1 1\n",
      " 1 3 1 3 3 1 1 3 1 1 3 1 1 3 3 1 1 3 1 3 3 3 1 3 1 3 3 1 1 3 1 3 1 1 1 1 1\n",
      " 3 3 3 3 3 1 1 1 1 3 3 3 4 3 4 2 4 2 4 2 4 3 4 2 4 2 4 3 4 2 4 3 4 2 4 2 4\n",
      " 2 4 2 4 2 4 2 4 2 4 2 4 1 4 2 4 2 4 2 4 2 4 2 4 2 4 2 4 2 4 2 4 2 4 2 4 2\n",
      " 4 2 4 2 4 2 4 2 4 2 4 2 4 2 4]\n"
     ]
    }
   ],
   "source": [
    "kmc = KMeans(n_clusters=6, init='k-means++', random_state=42)\n",
    "kmc.fit(X_std)\n",
    "print(kmc.labels_)"
   ]
  },
  {
   "cell_type": "markdown",
   "id": "0xwa5APUNX74",
   "metadata": {
    "id": "0xwa5APUNX74"
   },
   "source": [
    "###### (d) \n",
    "From Yellowbrick library, use KElbowVisualizer to visualize the Elbow plot for K value chaining in the range of (1,15); and use SilhouetteVisualizer to visualize the Silhouette plot for numbers of clusters 2, 3, 4 and 5."
   ]
  },
  {
   "cell_type": "code",
   "execution_count": 40,
   "id": "PyHC7MAfH-J2",
   "metadata": {
    "colab": {
     "base_uri": "https://localhost:8080/",
     "height": 394
    },
    "id": "PyHC7MAfH-J2",
    "outputId": "869a8960-812f-42dd-955c-ef3a21306707"
   },
   "outputs": [
    {
     "name": "stderr",
     "output_type": "stream",
     "text": [
      "C:\\Users\\Suma Marri\\anaconda3\\lib\\site-packages\\sklearn\\cluster\\_kmeans.py:1036: UserWarning: KMeans is known to have a memory leak on Windows with MKL, when there are less chunks than available threads. You can avoid it by setting the environment variable OMP_NUM_THREADS=1.\n",
      "  warnings.warn(\n"
     ]
    },
    {
     "data": {
      "image/png": "[encoded data removed]",
      "text/plain": [
       "<Figure size 432x288 with 2 Axes>"
      ]
     },
     "metadata": {},
     "output_type": "display_data"
    },
    {
     "data": {
      "text/plain": [
       "<AxesSubplot:title={'center':'Distortion Score Elbow for KMeans Clustering'}, xlabel='k', ylabel='distortion score'>"
      ]
     },
     "execution_count": 40,
     "metadata": {},
     "output_type": "execute_result"
    }
   ],
   "source": [
    "kmc = KMeans(init='k-means++', random_state=42)\n",
    "visualizer = KElbowVisualizer(kmc, k=list(range(1,16)))\n",
    "visualizer.fit(X_std)\n",
    "visualizer.show()"
   ]
  },
  {
   "cell_type": "code",
   "execution_count": 41,
   "id": "W_2hFPkzK2dq",
   "metadata": {
    "colab": {
     "base_uri": "https://localhost:8080/",
     "height": 483
    },
    "id": "W_2hFPkzK2dq",
    "outputId": "5a618881-00c2-44d3-ba1a-41eae2fd2ebf"
   },
   "outputs": [
    {
     "data": {
      "image/png": "[encoded data removed]",
      "text/plain": [
       "<Figure size 1080x576 with 4 Axes>"
      ]
     },
     "metadata": {
      "needs_background": "light"
     },
     "output_type": "display_data"
    }
   ],
   "source": [
    "fig, ax = plt.subplots(2, 2, figsize=(15,8))\n",
    "for k in [2, 3, 4, 5]:\n",
    "    kmc = KMeans(n_clusters=k, init='k-means++', random_state=42)\n",
    "    q, mod = divmod(k, 2)\n",
    "    visualizer = SilhouetteVisualizer(kmc, colors='yellowbrick', ax=ax[q-1][mod])\n",
    "    visualizer.fit(X_std)"
   ]
  },
  {
   "cell_type": "markdown",
   "id": "7NI8dpLFNbtp",
   "metadata": {
    "id": "7NI8dpLFNbtp"
   },
   "source": [
    "###### (e) \n",
    "Use sklearn function AgglomerativeClustering() to perform agglomerative hierarchical clustering on the data, with n clusters=5 and linkage='average' and compute full tree=True. Print the clustering labels. Plot the 'Spending Score (1-100)' (Y axis) in terms of 'Annual Income (k$)' (X axis) for the 5 clusters shown by different colors (See the code from lab session)."
   ]
  },
  {
   "cell_type": "code",
   "execution_count": 42,
   "id": "7ac74744",
   "metadata": {
    "colab": {
     "base_uri": "https://localhost:8080/"
    },
    "id": "7ac74744",
    "outputId": "ee6acd17-8249-44b2-a81a-3ae4f25a2485"
   },
   "outputs": [
    {
     "name": "stdout",
     "output_type": "stream",
     "text": [
      "[2 1 2 1 2 1 2 1 2 1 2 1 2 1 2 1 2 1 2 1 2 1 2 1 2 1 2 1 2 1 2 1 2 1 2 1 2\n",
      " 1 2 1 4 1 4 1 4 1 4 1 1 1 4 1 1 4 4 4 4 4 1 4 4 1 4 4 4 1 4 4 1 1 4 4 4 4\n",
      " 4 1 4 4 1 4 4 4 4 4 1 4 4 1 4 4 4 1 4 4 4 1 4 1 4 1 1 4 4 1 4 1 4 4 4 4 4\n",
      " 1 4 1 1 1 4 4 4 4 1 4 4 3 1 3 0 3 0 3 0 3 1 3 0 3 0 3 0 3 0 3 1 3 0 3 0 3\n",
      " 0 3 0 3 0 3 0 3 0 3 0 3 0 3 0 3 0 3 0 3 0 3 0 3 0 3 0 3 0 3 0 3 0 3 0 3 0\n",
      " 3 0 3 0 3 0 3 0 3 0 3 0 3 0 3]\n"
     ]
    }
   ],
   "source": [
    "ac = AgglomerativeClustering(n_clusters=5,  linkage='average', compute_full_tree=True)\n",
    "ac.fit(X_std)\n",
    "print(ac.labels_)"
   ]
  },
  {
   "cell_type": "code",
   "execution_count": 43,
   "id": "7212ae6f",
   "metadata": {
    "colab": {
     "base_uri": "https://localhost:8080/",
     "height": 378
    },
    "id": "7212ae6f",
    "outputId": "dfcf5843-56d4-4e19-c1d5-c0b5a96a7859"
   },
   "outputs": [
    {
     "data": {
      "text/plain": [
       "<AxesSubplot:xlabel='Annual Income (k$)', ylabel='Spending Score (1-100)'>"
      ]
     },
     "execution_count": 43,
     "metadata": {},
     "output_type": "execute_result"
    },
    {
     "data": {
      "image/png": "[encoded data removed]",
      "text/plain": [
       "<Figure size 432x288 with 1 Axes>"
      ]
     },
     "metadata": {
      "needs_background": "light"
     },
     "output_type": "display_data"
    }
   ],
   "source": [
    "sns.scatterplot(data =X, x = 'Annual Income (k$)', y = 'Spending Score (1-100)', c = ac.labels_)"
   ]
  },
  {
   "cell_type": "markdown",
   "id": "gAVR6BxvNglc",
   "metadata": {
    "id": "gAVR6BxvNglc"
   },
   "source": [
    "###### (f) \n",
    "Use the linkage() and dendrogram() functions from scipy to plot the hierarchical clustering dendrograms using 'complete' linkage, and Euclidean distance as the dissimilarity measure.\n"
   ]
  },
  {
   "cell_type": "code",
   "execution_count": 44,
   "id": "ef04484f",
   "metadata": {
    "colab": {
     "base_uri": "https://localhost:8080/",
     "height": 891
    },
    "id": "ef04484f",
    "outputId": "fa33b5bc-5d17-4155-e237-fa345950956d"
   },
   "outputs": [
    {
     "data": {
      "image/png": "[encoded data removed]",
      "text/plain": [
       "<Figure size 1800x1440 with 1 Axes>"
      ]
     },
     "metadata": {
      "needs_background": "light"
     },
     "output_type": "display_data"
    }
   ],
   "source": [
    "l = linkage(X_std, 'complete', metric='euclidean')\n",
    "fig = plt.figure(figsize=(25, 20))\n",
    "dg = dendrogram(l)\n",
    "plt.show()"
   ]
  },
  {
   "cell_type": "markdown",
   "id": "abhig1DaNj7T",
   "metadata": {
    "id": "abhig1DaNj7T"
   },
   "source": [
    "###### (g)\n",
    "Use cut tree() function from scipy to determine the cluster labels for each observation associated with 3 number of clusters in dendrogram."
   ]
  },
  {
   "cell_type": "code",
   "execution_count": 45,
   "id": "8a10700c",
   "metadata": {
    "id": "8a10700c"
   },
   "outputs": [],
   "source": [
    "cutTree = cut_tree(l, n_clusters=3)"
   ]
  },
  {
   "cell_type": "code",
   "execution_count": 46,
   "id": "07263a4c",
   "metadata": {
    "colab": {
     "base_uri": "https://localhost:8080/"
    },
    "id": "07263a4c",
    "outputId": "18b36488-1eaf-4f52-950d-352f0c0a1302"
   },
   "outputs": [
    {
     "name": "stdout",
     "output_type": "stream",
     "text": [
      "[[0]\n",
      " [0]\n",
      " [0]\n",
      " [0]\n",
      " [0]\n",
      " [0]\n",
      " [0]\n",
      " [0]\n",
      " [1]\n",
      " [0]\n",
      " [1]\n",
      " [0]\n",
      " [1]\n",
      " [0]\n",
      " [0]\n",
      " [0]\n",
      " [0]\n",
      " [0]\n",
      " [1]\n",
      " [0]\n",
      " [0]\n",
      " [0]\n",
      " [1]\n",
      " [0]\n",
      " [1]\n",
      " [0]\n",
      " [1]\n",
      " [0]\n",
      " [1]\n",
      " [0]\n",
      " [1]\n",
      " [0]\n",
      " [1]\n",
      " [0]\n",
      " [1]\n",
      " [0]\n",
      " [1]\n",
      " [0]\n",
      " [1]\n",
      " [0]\n",
      " [1]\n",
      " [0]\n",
      " [1]\n",
      " [0]\n",
      " [1]\n",
      " [0]\n",
      " [1]\n",
      " [0]\n",
      " [0]\n",
      " [0]\n",
      " [1]\n",
      " [0]\n",
      " [0]\n",
      " [1]\n",
      " [1]\n",
      " [1]\n",
      " [1]\n",
      " [1]\n",
      " [0]\n",
      " [1]\n",
      " [1]\n",
      " [0]\n",
      " [1]\n",
      " [1]\n",
      " [1]\n",
      " [0]\n",
      " [0]\n",
      " [1]\n",
      " [0]\n",
      " [0]\n",
      " [1]\n",
      " [1]\n",
      " [1]\n",
      " [1]\n",
      " [1]\n",
      " [0]\n",
      " [0]\n",
      " [0]\n",
      " [0]\n",
      " [1]\n",
      " [1]\n",
      " [0]\n",
      " [1]\n",
      " [1]\n",
      " [0]\n",
      " [1]\n",
      " [1]\n",
      " [0]\n",
      " [0]\n",
      " [1]\n",
      " [1]\n",
      " [0]\n",
      " [1]\n",
      " [0]\n",
      " [0]\n",
      " [0]\n",
      " [1]\n",
      " [0]\n",
      " [1]\n",
      " [0]\n",
      " [0]\n",
      " [1]\n",
      " [1]\n",
      " [0]\n",
      " [1]\n",
      " [0]\n",
      " [1]\n",
      " [1]\n",
      " [1]\n",
      " [1]\n",
      " [1]\n",
      " [0]\n",
      " [0]\n",
      " [0]\n",
      " [0]\n",
      " [0]\n",
      " [1]\n",
      " [1]\n",
      " [1]\n",
      " [1]\n",
      " [0]\n",
      " [0]\n",
      " [0]\n",
      " [2]\n",
      " [0]\n",
      " [2]\n",
      " [2]\n",
      " [2]\n",
      " [2]\n",
      " [2]\n",
      " [2]\n",
      " [2]\n",
      " [0]\n",
      " [2]\n",
      " [2]\n",
      " [2]\n",
      " [2]\n",
      " [2]\n",
      " [2]\n",
      " [2]\n",
      " [2]\n",
      " [2]\n",
      " [0]\n",
      " [2]\n",
      " [2]\n",
      " [2]\n",
      " [2]\n",
      " [2]\n",
      " [2]\n",
      " [2]\n",
      " [2]\n",
      " [2]\n",
      " [2]\n",
      " [2]\n",
      " [2]\n",
      " [2]\n",
      " [2]\n",
      " [2]\n",
      " [2]\n",
      " [2]\n",
      " [2]\n",
      " [2]\n",
      " [2]\n",
      " [2]\n",
      " [2]\n",
      " [2]\n",
      " [2]\n",
      " [2]\n",
      " [2]\n",
      " [2]\n",
      " [2]\n",
      " [2]\n",
      " [2]\n",
      " [2]\n",
      " [2]\n",
      " [2]\n",
      " [2]\n",
      " [2]\n",
      " [2]\n",
      " [2]\n",
      " [2]\n",
      " [2]\n",
      " [2]\n",
      " [2]\n",
      " [2]\n",
      " [2]\n",
      " [2]\n",
      " [2]\n",
      " [2]\n",
      " [2]\n",
      " [2]\n",
      " [2]\n",
      " [2]\n",
      " [2]\n",
      " [2]\n",
      " [2]\n",
      " [2]\n",
      " [2]\n",
      " [2]\n",
      " [2]]\n"
     ]
    }
   ],
   "source": [
    "print(cutTree)"
   ]
  },
  {
   "cell_type": "code",
   "execution_count": null,
   "id": "6d564c4a",
   "metadata": {},
   "outputs": [],
   "source": []
  }
 ],
 "metadata": {
  "colab": {
   "name": "TTs090322_1336335_7.ipynb",
   "provenance": []
  },
  "kernelspec": {
   "display_name": "Python 3 (ipykernel)",
   "language": "python",
   "name": "python3"
  },
  "language_info": {
   "codemirror_mode": {
    "name": "ipython",
    "version": 3
   },
   "file_extension": ".py",
   "mimetype": "text/x-python",
   "name": "python",
   "nbconvert_exporter": "python",
   "pygments_lexer": "ipython3",
   "version": "3.9.7"
  }
 },
 "nbformat": 4,
 "nbformat_minor": 5
}
