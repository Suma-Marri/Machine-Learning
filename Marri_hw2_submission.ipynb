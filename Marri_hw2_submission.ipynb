{
 "cells": [
  {
   "cell_type": "code",
   "execution_count": 1,
   "id": "fd40ee98",
   "metadata": {},
   "outputs": [],
   "source": [
    "# Evaluate using Cross Validation\n",
    "from pandas import read_csv\n",
    "from sklearn.model_selection import RepeatedKFold\n",
    "from sklearn.model_selection import KFold\n",
    "from sklearn.model_selection import cross_val_score\n",
    "from sklearn.discriminant_analysis import LinearDiscriminantAnalysis\n",
    "from sklearn.linear_model import LogisticRegression\n",
    "from sklearn.neighbors import KNeighborsClassifier\n",
    "from sklearn.naive_bayes import GaussianNB\n",
    "from sklearn.svm import SVR\n",
    "\n",
    "# read and load the csv data file\n",
    "filename = \"Dataset/myClassDataSet2.csv\"\n",
    "data_df = read_csv (filename)"
   ]
  },
  {
   "cell_type": "code",
   "execution_count": 2,
   "id": "fd9447ea",
   "metadata": {},
   "outputs": [
    {
     "data": {
      "text/html": [
       "<div>\n",
       "<style scoped>\n",
       "    .dataframe tbody tr th:only-of-type {\n",
       "        vertical-align: middle;\n",
       "    }\n",
       "\n",
       "    .dataframe tbody tr th {\n",
       "        vertical-align: top;\n",
       "    }\n",
       "\n",
       "    .dataframe thead th {\n",
       "        text-align: right;\n",
       "    }\n",
       "</style>\n",
       "<table border=\"1\" class=\"dataframe\">\n",
       "  <thead>\n",
       "    <tr style=\"text-align: right;\">\n",
       "      <th></th>\n",
       "      <th>Feature 1</th>\n",
       "      <th>Feature 2</th>\n",
       "      <th>Feature 3</th>\n",
       "      <th>Feature 4</th>\n",
       "      <th>Feature 5</th>\n",
       "      <th>Feature 6</th>\n",
       "      <th>Feature 7</th>\n",
       "      <th>Feature 8</th>\n",
       "      <th>Feature 9</th>\n",
       "      <th>Feature 10</th>\n",
       "      <th>class</th>\n",
       "    </tr>\n",
       "  </thead>\n",
       "  <tbody>\n",
       "    <tr>\n",
       "      <th>0</th>\n",
       "      <td>-1.160092</td>\n",
       "      <td>-0.359014</td>\n",
       "      <td>0.672250</td>\n",
       "      <td>-0.298393</td>\n",
       "      <td>-0.940342</td>\n",
       "      <td>0.973444</td>\n",
       "      <td>1.152316</td>\n",
       "      <td>1.268438</td>\n",
       "      <td>1.666694</td>\n",
       "      <td>-0.797019</td>\n",
       "      <td>0</td>\n",
       "    </tr>\n",
       "    <tr>\n",
       "      <th>1</th>\n",
       "      <td>-1.065337</td>\n",
       "      <td>0.949971</td>\n",
       "      <td>0.775982</td>\n",
       "      <td>-0.436214</td>\n",
       "      <td>0.642434</td>\n",
       "      <td>-0.808253</td>\n",
       "      <td>1.060199</td>\n",
       "      <td>-0.055959</td>\n",
       "      <td>0.213937</td>\n",
       "      <td>-2.429849</td>\n",
       "      <td>0</td>\n",
       "    </tr>\n",
       "    <tr>\n",
       "      <th>2</th>\n",
       "      <td>0.860180</td>\n",
       "      <td>-0.100933</td>\n",
       "      <td>-1.322137</td>\n",
       "      <td>1.063376</td>\n",
       "      <td>-0.411552</td>\n",
       "      <td>-1.806852</td>\n",
       "      <td>-0.864811</td>\n",
       "      <td>-1.303068</td>\n",
       "      <td>-0.296465</td>\n",
       "      <td>-0.622150</td>\n",
       "      <td>1</td>\n",
       "    </tr>\n",
       "    <tr>\n",
       "      <th>3</th>\n",
       "      <td>-0.894969</td>\n",
       "      <td>0.568466</td>\n",
       "      <td>1.961494</td>\n",
       "      <td>-1.705388</td>\n",
       "      <td>-0.319602</td>\n",
       "      <td>0.306074</td>\n",
       "      <td>0.907182</td>\n",
       "      <td>0.203818</td>\n",
       "      <td>-0.285203</td>\n",
       "      <td>-1.200104</td>\n",
       "      <td>0</td>\n",
       "    </tr>\n",
       "    <tr>\n",
       "      <th>4</th>\n",
       "      <td>-0.703499</td>\n",
       "      <td>3.091785</td>\n",
       "      <td>0.669167</td>\n",
       "      <td>-0.448310</td>\n",
       "      <td>0.826840</td>\n",
       "      <td>0.774514</td>\n",
       "      <td>0.702085</td>\n",
       "      <td>-2.426947</td>\n",
       "      <td>-0.596632</td>\n",
       "      <td>0.945176</td>\n",
       "      <td>0</td>\n",
       "    </tr>\n",
       "  </tbody>\n",
       "</table>\n",
       "</div>"
      ],
      "text/plain": [
       "   Feature 1  Feature 2  Feature 3  Feature 4  Feature 5  Feature 6  \\\n",
       "0  -1.160092  -0.359014   0.672250  -0.298393  -0.940342   0.973444   \n",
       "1  -1.065337   0.949971   0.775982  -0.436214   0.642434  -0.808253   \n",
       "2   0.860180  -0.100933  -1.322137   1.063376  -0.411552  -1.806852   \n",
       "3  -0.894969   0.568466   1.961494  -1.705388  -0.319602   0.306074   \n",
       "4  -0.703499   3.091785   0.669167  -0.448310   0.826840   0.774514   \n",
       "\n",
       "   Feature 7  Feature 8  Feature 9  Feature 10  class  \n",
       "0   1.152316   1.268438   1.666694   -0.797019      0  \n",
       "1   1.060199  -0.055959   0.213937   -2.429849      0  \n",
       "2  -0.864811  -1.303068  -0.296465   -0.622150      1  \n",
       "3   0.907182   0.203818  -0.285203   -1.200104      0  \n",
       "4   0.702085  -2.426947  -0.596632    0.945176      0  "
      ]
     },
     "execution_count": 2,
     "metadata": {},
     "output_type": "execute_result"
    }
   ],
   "source": [
    "data_df.head()"
   ]
  },
  {
   "cell_type": "code",
   "execution_count": 3,
   "id": "d1e2fb44",
   "metadata": {},
   "outputs": [],
   "source": [
    "Y = data_df.values[:,-1]\n",
    "X = data_df.values[:,0:-1]"
   ]
  },
  {
   "cell_type": "code",
   "execution_count": 4,
   "id": "451541c3",
   "metadata": {},
   "outputs": [
    {
     "data": {
      "text/plain": [
       "0.9413"
      ]
     },
     "execution_count": 4,
     "metadata": {},
     "output_type": "execute_result"
    }
   ],
   "source": [
    "rkf = RepeatedKFold(n_splits=10, n_repeats=3, random_state=2)\n",
    "# ‘liblinear’\n",
    "lr = LogisticRegression(solver='liblinear').fit(X, Y)\n",
    "lr.score(X, Y)"
   ]
  },
  {
   "cell_type": "code",
   "execution_count": 5,
   "id": "14f60512",
   "metadata": {},
   "outputs": [
    {
     "data": {
      "text/plain": [
       "array([0.935 , 0.939 , 0.9345, 0.947 , 0.948 ])"
      ]
     },
     "execution_count": 5,
     "metadata": {},
     "output_type": "execute_result"
    }
   ],
   "source": [
    "cross_val_score(lr, X, Y, scoring='accuracy')"
   ]
  },
  {
   "cell_type": "code",
   "execution_count": 6,
   "id": "5cbef398",
   "metadata": {},
   "outputs": [
    {
     "data": {
      "text/plain": [
       "array([-0.21247216, -0.20914712, -0.21209848, -0.17752616, -0.17444354])"
      ]
     },
     "execution_count": 6,
     "metadata": {},
     "output_type": "execute_result"
    }
   ],
   "source": [
    "cross_val_score(lr, X, Y, scoring='neg_log_loss')"
   ]
  },
  {
   "cell_type": "code",
   "execution_count": 7,
   "id": "549f6834",
   "metadata": {},
   "outputs": [
    {
     "data": {
      "text/plain": [
       "array([0.96033983, 0.96107954, 0.96344535, 0.97613378, 0.9769255 ])"
      ]
     },
     "execution_count": 7,
     "metadata": {},
     "output_type": "execute_result"
    }
   ],
   "source": [
    "cross_val_score(lr, X, Y, scoring='roc_auc')"
   ]
  },
  {
   "cell_type": "code",
   "execution_count": 8,
   "id": "0bfbe501",
   "metadata": {},
   "outputs": [
    {
     "data": {
      "text/plain": [
       "0.9323"
      ]
     },
     "execution_count": 8,
     "metadata": {},
     "output_type": "execute_result"
    }
   ],
   "source": [
    "kf = KFold(n_splits=10, shuffle=True, random_state=7)\n",
    "lda = LinearDiscriminantAnalysis().fit(X, Y)\n",
    "lda.score(X,Y)"
   ]
  },
  {
   "cell_type": "code",
   "execution_count": 9,
   "id": "47abbcdc",
   "metadata": {},
   "outputs": [
    {
     "data": {
      "text/plain": [
       "0.9413"
      ]
     },
     "execution_count": 9,
     "metadata": {},
     "output_type": "execute_result"
    }
   ],
   "source": [
    "lr = LogisticRegression(solver='liblinear').fit(X, Y)\n",
    "lr.score(X, Y)"
   ]
  },
  {
   "cell_type": "code",
   "execution_count": 10,
   "id": "e9b27933",
   "metadata": {},
   "outputs": [
    {
     "data": {
      "text/plain": [
       "0.9519"
      ]
     },
     "execution_count": 10,
     "metadata": {},
     "output_type": "execute_result"
    }
   ],
   "source": [
    "neigh = KNeighborsClassifier().fit(X, Y)\n",
    "neigh.score(X, Y)"
   ]
  },
  {
   "cell_type": "code",
   "execution_count": 11,
   "id": "8246fd93",
   "metadata": {},
   "outputs": [
    {
     "data": {
      "text/plain": [
       "0.9416"
      ]
     },
     "execution_count": 11,
     "metadata": {},
     "output_type": "execute_result"
    }
   ],
   "source": [
    "gnb = GaussianNB().fit(X, Y)\n",
    "gnb.score(X, Y)"
   ]
  },
  {
   "cell_type": "code",
   "execution_count": 12,
   "id": "4872809c",
   "metadata": {},
   "outputs": [
    {
     "data": {
      "text/plain": [
       "0.9486"
      ]
     },
     "execution_count": 12,
     "metadata": {},
     "output_type": "execute_result"
    }
   ],
   "source": [
    "from sklearn.svm import SVC\n",
    "svc = SVC().fit(X, Y)\n",
    "svc.score(X, Y)"
   ]
  },
  {
   "cell_type": "code",
   "execution_count": 13,
   "id": "dc1fcf87",
   "metadata": {},
   "outputs": [],
   "source": [
    "import matplotlib.pyplot as plt \n",
    "import seaborn as sns\n",
    "%matplotlib inline"
   ]
  },
  {
   "cell_type": "code",
   "execution_count": 14,
   "id": "6d2c697c",
   "metadata": {
    "scrolled": true
   },
   "outputs": [
    {
     "data": {
      "image/png": "[encoded data removed]",
      "text/plain": [
       "<Figure size 432x288 with 1 Axes>"
      ]
     },
     "metadata": {
      "needs_background": "light"
     },
     "output_type": "display_data"
    }
   ],
   "source": [
    "data_df.plot(kind='box')\n",
    "plt.xticks(rotation = 90)\n",
    "plt.show()"
   ]
  },
  {
   "cell_type": "code",
   "execution_count": 15,
   "id": "fddd7fe6",
   "metadata": {},
   "outputs": [
    {
     "data": {
      "image/png": "[encoded data removed]",
      "text/plain": [
       "<Figure size 432x288 with 1 Axes>"
      ]
     },
     "metadata": {
      "needs_background": "light"
     },
     "output_type": "display_data"
    }
   ],
   "source": [
    "sns.boxplot(data=data_df)\n",
    "#sns.swarmplot(data=data_df)\n",
    "plt.xticks(rotation = 90)\n",
    "plt.show()"
   ]
  },
  {
   "cell_type": "code",
   "execution_count": 16,
   "id": "683d5f12",
   "metadata": {},
   "outputs": [
    {
     "data": {
      "text/html": [
       "<div>\n",
       "<style scoped>\n",
       "    .dataframe tbody tr th:only-of-type {\n",
       "        vertical-align: middle;\n",
       "    }\n",
       "\n",
       "    .dataframe tbody tr th {\n",
       "        vertical-align: top;\n",
       "    }\n",
       "\n",
       "    .dataframe thead th {\n",
       "        text-align: right;\n",
       "    }\n",
       "</style>\n",
       "<table border=\"1\" class=\"dataframe\">\n",
       "  <thead>\n",
       "    <tr style=\"text-align: right;\">\n",
       "      <th></th>\n",
       "      <th>0</th>\n",
       "    </tr>\n",
       "  </thead>\n",
       "  <tbody>\n",
       "    <tr>\n",
       "      <th>0</th>\n",
       "      <td>0.9323</td>\n",
       "    </tr>\n",
       "    <tr>\n",
       "      <th>1</th>\n",
       "      <td>0.9413</td>\n",
       "    </tr>\n",
       "    <tr>\n",
       "      <th>2</th>\n",
       "      <td>0.9519</td>\n",
       "    </tr>\n",
       "    <tr>\n",
       "      <th>3</th>\n",
       "      <td>0.9416</td>\n",
       "    </tr>\n",
       "    <tr>\n",
       "      <th>4</th>\n",
       "      <td>0.9486</td>\n",
       "    </tr>\n",
       "  </tbody>\n",
       "</table>\n",
       "</div>"
      ],
      "text/plain": [
       "        0\n",
       "0  0.9323\n",
       "1  0.9413\n",
       "2  0.9519\n",
       "3  0.9416\n",
       "4  0.9486"
      ]
     },
     "execution_count": 16,
     "metadata": {},
     "output_type": "execute_result"
    }
   ],
   "source": [
    "import pandas as pd\n",
    "\n",
    "data = [lda.score(X,Y), lr.score(X, Y), neigh.score(X, Y), gnb.score(X, Y), svc.score(X, Y)]\n",
    "\n",
    "df = pd.DataFrame(data)\n",
    "df"
   ]
  },
  {
   "cell_type": "code",
   "execution_count": 19,
   "id": "35910b3d",
   "metadata": {},
   "outputs": [
    {
     "data": {
      "image/png": "[encoded data removed]",
      "text/plain": [
       "<Figure size 432x288 with 1 Axes>"
      ]
     },
     "metadata": {
      "needs_background": "light"
     },
     "output_type": "display_data"
    }
   ],
   "source": [
    "sns.boxplot(data=df)\n",
    "sns.swarmplot(data=df)\n",
    "#df.plot(kind='box')\n",
    "plt.show()"
   ]
  },
  {
   "cell_type": "code",
   "execution_count": null,
   "id": "1284c692",
   "metadata": {},
   "outputs": [],
   "source": []
  }
 ],
 "metadata": {
  "kernelspec": {
   "display_name": "Python 3 (ipykernel)",
   "language": "python",
   "name": "python3"
  },
  "language_info": {
   "codemirror_mode": {
    "name": "ipython",
    "version": 3
   },
   "file_extension": ".py",
   "mimetype": "text/x-python",
   "name": "python",
   "nbconvert_exporter": "python",
   "pygments_lexer": "ipython3",
   "version": "3.9.7"
  }
 },
 "nbformat": 4,
 "nbformat_minor": 5
}
