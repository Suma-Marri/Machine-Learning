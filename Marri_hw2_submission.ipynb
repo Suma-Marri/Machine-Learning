{
 "cells": [
  {
   "cell_type": "markdown",
   "id": "beb09179",
   "metadata": {},
   "source": [
    "# Homework 2\n",
    "## CAP 5610 - Machine Learning\n",
    "## Suma Marri\n",
    "## February 20, 2022"
   ]
  },
  {
   "cell_type": "markdown",
   "id": "689d98d0",
   "metadata": {},
   "source": [
    "### Problem 1: Evaluate Machine Learning Algorithms\n",
    "In this problem, we want to use some statistical techniques we learned in class to estimate the performance of several machine learning algorithms. Use the data from homework 1. You can download the zip file for Homework 1, which contains the generated data set for this assignment and load the data into Python."
   ]
  },
  {
   "cell_type": "code",
   "execution_count": 1,
   "id": "5c328303",
   "metadata": {},
   "outputs": [],
   "source": [
    "# Evaluate using Cross Validation\n",
    "from pandas import read_csv\n",
    "from sklearn.model_selection import RepeatedKFold\n",
    "from sklearn.model_selection import KFold\n",
    "from sklearn.model_selection import cross_val_score\n",
    "from sklearn.discriminant_analysis import LinearDiscriminantAnalysis\n",
    "from sklearn.linear_model import LogisticRegression\n",
    "from sklearn.neighbors import KNeighborsClassifier\n",
    "from sklearn.naive_bayes import GaussianNB\n",
    "from sklearn.svm import SVC\n",
    "\n",
    "# read and load the csv data file\n",
    "filename = \"Dataset/myClassDataSet2.csv\"\n",
    "data_df = read_csv (filename)"
   ]
  },
  {
   "cell_type": "code",
   "execution_count": 2,
   "id": "b8119a6b",
   "metadata": {},
   "outputs": [
    {
     "data": {
      "text/html": [
       "<div>\n",
       "<style scoped>\n",
       "    .dataframe tbody tr th:only-of-type {\n",
       "        vertical-align: middle;\n",
       "    }\n",
       "\n",
       "    .dataframe tbody tr th {\n",
       "        vertical-align: top;\n",
       "    }\n",
       "\n",
       "    .dataframe thead th {\n",
       "        text-align: right;\n",
       "    }\n",
       "</style>\n",
       "<table border=\"1\" class=\"dataframe\">\n",
       "  <thead>\n",
       "    <tr style=\"text-align: right;\">\n",
       "      <th></th>\n",
       "      <th>Feature 1</th>\n",
       "      <th>Feature 2</th>\n",
       "      <th>Feature 3</th>\n",
       "      <th>Feature 4</th>\n",
       "      <th>Feature 5</th>\n",
       "      <th>Feature 6</th>\n",
       "      <th>Feature 7</th>\n",
       "      <th>Feature 8</th>\n",
       "      <th>Feature 9</th>\n",
       "      <th>Feature 10</th>\n",
       "      <th>class</th>\n",
       "    </tr>\n",
       "  </thead>\n",
       "  <tbody>\n",
       "    <tr>\n",
       "      <th>0</th>\n",
       "      <td>-1.160092</td>\n",
       "      <td>-0.359014</td>\n",
       "      <td>0.672250</td>\n",
       "      <td>-0.298393</td>\n",
       "      <td>-0.940342</td>\n",
       "      <td>0.973444</td>\n",
       "      <td>1.152316</td>\n",
       "      <td>1.268438</td>\n",
       "      <td>1.666694</td>\n",
       "      <td>-0.797019</td>\n",
       "      <td>0</td>\n",
       "    </tr>\n",
       "    <tr>\n",
       "      <th>1</th>\n",
       "      <td>-1.065337</td>\n",
       "      <td>0.949971</td>\n",
       "      <td>0.775982</td>\n",
       "      <td>-0.436214</td>\n",
       "      <td>0.642434</td>\n",
       "      <td>-0.808253</td>\n",
       "      <td>1.060199</td>\n",
       "      <td>-0.055959</td>\n",
       "      <td>0.213937</td>\n",
       "      <td>-2.429849</td>\n",
       "      <td>0</td>\n",
       "    </tr>\n",
       "    <tr>\n",
       "      <th>2</th>\n",
       "      <td>0.860180</td>\n",
       "      <td>-0.100933</td>\n",
       "      <td>-1.322137</td>\n",
       "      <td>1.063376</td>\n",
       "      <td>-0.411552</td>\n",
       "      <td>-1.806852</td>\n",
       "      <td>-0.864811</td>\n",
       "      <td>-1.303068</td>\n",
       "      <td>-0.296465</td>\n",
       "      <td>-0.622150</td>\n",
       "      <td>1</td>\n",
       "    </tr>\n",
       "    <tr>\n",
       "      <th>3</th>\n",
       "      <td>-0.894969</td>\n",
       "      <td>0.568466</td>\n",
       "      <td>1.961494</td>\n",
       "      <td>-1.705388</td>\n",
       "      <td>-0.319602</td>\n",
       "      <td>0.306074</td>\n",
       "      <td>0.907182</td>\n",
       "      <td>0.203818</td>\n",
       "      <td>-0.285203</td>\n",
       "      <td>-1.200104</td>\n",
       "      <td>0</td>\n",
       "    </tr>\n",
       "    <tr>\n",
       "      <th>4</th>\n",
       "      <td>-0.703499</td>\n",
       "      <td>3.091785</td>\n",
       "      <td>0.669167</td>\n",
       "      <td>-0.448310</td>\n",
       "      <td>0.826840</td>\n",
       "      <td>0.774514</td>\n",
       "      <td>0.702085</td>\n",
       "      <td>-2.426947</td>\n",
       "      <td>-0.596632</td>\n",
       "      <td>0.945176</td>\n",
       "      <td>0</td>\n",
       "    </tr>\n",
       "  </tbody>\n",
       "</table>\n",
       "</div>"
      ],
      "text/plain": [
       "   Feature 1  Feature 2  Feature 3  Feature 4  Feature 5  Feature 6  \\\n",
       "0  -1.160092  -0.359014   0.672250  -0.298393  -0.940342   0.973444   \n",
       "1  -1.065337   0.949971   0.775982  -0.436214   0.642434  -0.808253   \n",
       "2   0.860180  -0.100933  -1.322137   1.063376  -0.411552  -1.806852   \n",
       "3  -0.894969   0.568466   1.961494  -1.705388  -0.319602   0.306074   \n",
       "4  -0.703499   3.091785   0.669167  -0.448310   0.826840   0.774514   \n",
       "\n",
       "   Feature 7  Feature 8  Feature 9  Feature 10  class  \n",
       "0   1.152316   1.268438   1.666694   -0.797019      0  \n",
       "1   1.060199  -0.055959   0.213937   -2.429849      0  \n",
       "2  -0.864811  -1.303068  -0.296465   -0.622150      1  \n",
       "3   0.907182   0.203818  -0.285203   -1.200104      0  \n",
       "4   0.702085  -2.426947  -0.596632    0.945176      0  "
      ]
     },
     "execution_count": 2,
     "metadata": {},
     "output_type": "execute_result"
    }
   ],
   "source": [
    "data_df.head()"
   ]
  },
  {
   "cell_type": "code",
   "execution_count": 3,
   "id": "59c47dbe",
   "metadata": {},
   "outputs": [],
   "source": [
    "Y = data_df.values[:,-1]\n",
    "X = data_df.values[:,0:-1]"
   ]
  },
  {
   "cell_type": "markdown",
   "id": "d5f4bf9d",
   "metadata": {},
   "source": [
    "#### Part A\n",
    "Use RepeatedKFold class with ‘random state=2’ to perform a repeated 10-fold cross-validation on the data with three repeats; Then, evaluates a logistic regression model with ‘liblinear’ solver and report the mean classification accuracy."
   ]
  },
  {
   "cell_type": "code",
   "execution_count": 4,
   "id": "d0f7c027",
   "metadata": {},
   "outputs": [
    {
     "data": {
      "text/plain": [
       "0.9413"
      ]
     },
     "execution_count": 4,
     "metadata": {},
     "output_type": "execute_result"
    }
   ],
   "source": [
    "rkf = RepeatedKFold(n_splits=10, n_repeats=3, random_state=2)\n",
    "# 'liblinear'\n",
    "model = LogisticRegression(solver='liblinear').fit(X, Y)\n",
    "model.score(X, Y)"
   ]
  },
  {
   "cell_type": "markdown",
   "id": "758523cd",
   "metadata": {},
   "source": [
    "#### Part B\n",
    "Use the cross val score function to report ‘accuracy’, ‘neg log loss’, ‘roc auc’; explain what the results suggest (how you interpret the results)."
   ]
  },
  {
   "cell_type": "code",
   "execution_count": 5,
   "id": "28e69d20",
   "metadata": {},
   "outputs": [
    {
     "name": "stdout",
     "output_type": "stream",
     "text": [
      "Accuracy: 0.9407\n",
      "Accuracy with Cross-Validation: 0.9408\n"
     ]
    }
   ],
   "source": [
    "accuracy_results = cross_val_score(model, X, Y, scoring='accuracy')\n",
    "accuracy_results1 = cross_val_score(model, X, Y, scoring='accuracy', cv = rkf)\n",
    "\n",
    "print(\"Accuracy: {}\".format(accuracy_results.mean()))\n",
    "print(\"Accuracy with Cross-Validation: {}\".format(accuracy_results1.mean()))"
   ]
  },
  {
   "cell_type": "code",
   "execution_count": 6,
   "id": "1cad2f6c",
   "metadata": {},
   "outputs": [
    {
     "name": "stdout",
     "output_type": "stream",
     "text": [
      "Neg Log Loss: -0.1971374909381874\n",
      "NegLogLoss with Cross-Validation: -0.19668541610095522\n"
     ]
    }
   ],
   "source": [
    "neglogloss_results = cross_val_score(model, X, Y, scoring='neg_log_loss')\n",
    "neglogloss_results1 = cross_val_score(model, X, Y, scoring='neg_log_loss', cv = rkf)\n",
    "print(\"Neg Log Loss: {}\".format(neglogloss_results.mean()))\n",
    "print(\"NegLogLoss with Cross-Validation: {}\".format(neglogloss_results1.mean()))"
   ]
  },
  {
   "cell_type": "code",
   "execution_count": 7,
   "id": "4457b12f",
   "metadata": {},
   "outputs": [
    {
     "name": "stdout",
     "output_type": "stream",
     "text": [
      "ROC Area under Curve: 0.9675847984427653\n",
      "ROC AUC with Cross-Validation: 0.9676202218997184\n"
     ]
    }
   ],
   "source": [
    "roc_results = cross_val_score(model, X, Y, scoring='roc_auc')\n",
    "roc_results1 = cross_val_score(model, X, Y, scoring='roc_auc', cv = rkf)\n",
    "print(\"ROC Area under Curve: {}\".format(roc_results.mean()))\n",
    "print(\"ROC AUC with Cross-Validation: {}\".format(roc_results1.mean()))"
   ]
  },
  {
   "cell_type": "markdown",
   "id": "d9da5b23",
   "metadata": {},
   "source": [
    "Accuracy - Accuracy is measured based on how many observastions were correctly classified. The higher the number, the better. It is great to use because it considers all the points.\n",
    "Neg_log_loss - The score is negative -- the lower the score, the better the performance and better predictions. Log Loss is the negative average of the log of corrected predicted probabilities for each instance.\n",
    "ROC AUC - The ROC AUC is really good, considering it is between 0.9 and 1, which means the performance of the model can easily be distinguishing between the positive and negative classes."
   ]
  },
  {
   "cell_type": "markdown",
   "id": "d4b81205",
   "metadata": {},
   "source": [
    "#### Part C\n",
    "Using 10-fold cross-validation (KFold with ‘random state = 7’) spot-check 2 linear algorithms LinearDiscriminantAnalysis, LogisticRegression (with ‘liblinear’ solver); and 3 nonlinear algorithms KNeighborsClassifier, GaussianNB, and SVC"
   ]
  },
  {
   "cell_type": "code",
   "execution_count": 8,
   "id": "4e35fae2",
   "metadata": {},
   "outputs": [],
   "source": [
    "kfold = KFold(n_splits=10, random_state=7, shuffle=True)"
   ]
  },
  {
   "cell_type": "code",
   "execution_count": 9,
   "id": "d4cd4176",
   "metadata": {},
   "outputs": [],
   "source": [
    "# prepare models\n",
    "models = []\n",
    "models.append(('LD' , LinearDiscriminantAnalysis()))\n",
    "models.append(('LR' , LogisticRegression()))\n",
    "models.append(('KNN' , KNeighborsClassifier()))\n",
    "models.append(('NB' , GaussianNB()))\n",
    "models.append(('SVC' , SVC()))"
   ]
  },
  {
   "cell_type": "code",
   "execution_count": 10,
   "id": "facfb4e4",
   "metadata": {},
   "outputs": [
    {
     "name": "stdout",
     "output_type": "stream",
     "text": [
      "LD mean Accuracy: 0.9322000000000001\n",
      "LR mean Accuracy: 0.9408\n",
      "KNN mean Accuracy: 0.9363000000000001\n",
      "NB mean Accuracy: 0.9415999999999999\n",
      "SVC mean Accuracy: 0.9446\n"
     ]
    }
   ],
   "source": [
    "# evaluate each model in turn\n",
    "acc_results = []\n",
    "names = []\n",
    "for name, model in models:\n",
    "  kfold = KFold(n_splits=10, random_state=7, shuffle=True)\n",
    "  cv_results = cross_val_score(model, X, Y, cv=kfold, scoring='accuracy')\n",
    "  acc_results.append(cv_results)\n",
    "  names.append(name)\n",
    "  msg = \"%s: %f (%f)\" % (name, cv_results.mean(), cv_results.std())\n",
    "  print(\"{} mean Accuracy: {}\".format(name, cv_results.mean()))"
   ]
  },
  {
   "cell_type": "code",
   "execution_count": 11,
   "id": "d53bf921",
   "metadata": {},
   "outputs": [
    {
     "name": "stdout",
     "output_type": "stream",
     "text": [
      "LD mean Neg Log Loss:-0.2295952703473972\n",
      "LR mean Neg Log Loss:-0.19663330595420608\n",
      "KNN mean Neg Log Loss:-0.6486067973361892\n",
      "NB mean Neg Log Loss:-0.2122914636501954\n"
     ]
    },
    {
     "name": "stderr",
     "output_type": "stream",
     "text": [
      "C:\\Users\\Suma Marri\\anaconda3\\lib\\site-packages\\sklearn\\model_selection\\_validation.py:696: UserWarning: Scoring failed. The score on this train-test partition for these parameters will be set to nan. Details: \n",
      "Traceback (most recent call last):\n",
      "  File \"C:\\Users\\Suma Marri\\anaconda3\\lib\\site-packages\\sklearn\\model_selection\\_validation.py\", line 687, in _score\n",
      "    scores = scorer(estimator, X_test, y_test)\n",
      "  File \"C:\\Users\\Suma Marri\\anaconda3\\lib\\site-packages\\sklearn\\metrics\\_scorer.py\", line 87, in __call__\n",
      "    score = scorer._score(cached_call, estimator,\n",
      "  File \"C:\\Users\\Suma Marri\\anaconda3\\lib\\site-packages\\sklearn\\metrics\\_scorer.py\", line 277, in _score\n",
      "    y_pred = method_caller(clf, \"predict_proba\", X)\n",
      "  File \"C:\\Users\\Suma Marri\\anaconda3\\lib\\site-packages\\sklearn\\metrics\\_scorer.py\", line 53, in _cached_call\n",
      "    return getattr(estimator, method)(*args, **kwargs)\n",
      "  File \"C:\\Users\\Suma Marri\\anaconda3\\lib\\site-packages\\sklearn\\svm\\_base.py\", line 666, in predict_proba\n",
      "    self._check_proba()\n",
      "  File \"C:\\Users\\Suma Marri\\anaconda3\\lib\\site-packages\\sklearn\\svm\\_base.py\", line 633, in _check_proba\n",
      "    raise AttributeError(\"predict_proba is not available when \"\n",
      "AttributeError: predict_proba is not available when  probability=False\n",
      "\n",
      "  warnings.warn(\n",
      "C:\\Users\\Suma Marri\\anaconda3\\lib\\site-packages\\sklearn\\model_selection\\_validation.py:696: UserWarning: Scoring failed. The score on this train-test partition for these parameters will be set to nan. Details: \n",
      "Traceback (most recent call last):\n",
      "  File \"C:\\Users\\Suma Marri\\anaconda3\\lib\\site-packages\\sklearn\\model_selection\\_validation.py\", line 687, in _score\n",
      "    scores = scorer(estimator, X_test, y_test)\n",
      "  File \"C:\\Users\\Suma Marri\\anaconda3\\lib\\site-packages\\sklearn\\metrics\\_scorer.py\", line 87, in __call__\n",
      "    score = scorer._score(cached_call, estimator,\n",
      "  File \"C:\\Users\\Suma Marri\\anaconda3\\lib\\site-packages\\sklearn\\metrics\\_scorer.py\", line 277, in _score\n",
      "    y_pred = method_caller(clf, \"predict_proba\", X)\n",
      "  File \"C:\\Users\\Suma Marri\\anaconda3\\lib\\site-packages\\sklearn\\metrics\\_scorer.py\", line 53, in _cached_call\n",
      "    return getattr(estimator, method)(*args, **kwargs)\n",
      "  File \"C:\\Users\\Suma Marri\\anaconda3\\lib\\site-packages\\sklearn\\svm\\_base.py\", line 666, in predict_proba\n",
      "    self._check_proba()\n",
      "  File \"C:\\Users\\Suma Marri\\anaconda3\\lib\\site-packages\\sklearn\\svm\\_base.py\", line 633, in _check_proba\n",
      "    raise AttributeError(\"predict_proba is not available when \"\n",
      "AttributeError: predict_proba is not available when  probability=False\n",
      "\n",
      "  warnings.warn(\n",
      "C:\\Users\\Suma Marri\\anaconda3\\lib\\site-packages\\sklearn\\model_selection\\_validation.py:696: UserWarning: Scoring failed. The score on this train-test partition for these parameters will be set to nan. Details: \n",
      "Traceback (most recent call last):\n",
      "  File \"C:\\Users\\Suma Marri\\anaconda3\\lib\\site-packages\\sklearn\\model_selection\\_validation.py\", line 687, in _score\n",
      "    scores = scorer(estimator, X_test, y_test)\n",
      "  File \"C:\\Users\\Suma Marri\\anaconda3\\lib\\site-packages\\sklearn\\metrics\\_scorer.py\", line 87, in __call__\n",
      "    score = scorer._score(cached_call, estimator,\n",
      "  File \"C:\\Users\\Suma Marri\\anaconda3\\lib\\site-packages\\sklearn\\metrics\\_scorer.py\", line 277, in _score\n",
      "    y_pred = method_caller(clf, \"predict_proba\", X)\n",
      "  File \"C:\\Users\\Suma Marri\\anaconda3\\lib\\site-packages\\sklearn\\metrics\\_scorer.py\", line 53, in _cached_call\n",
      "    return getattr(estimator, method)(*args, **kwargs)\n",
      "  File \"C:\\Users\\Suma Marri\\anaconda3\\lib\\site-packages\\sklearn\\svm\\_base.py\", line 666, in predict_proba\n",
      "    self._check_proba()\n",
      "  File \"C:\\Users\\Suma Marri\\anaconda3\\lib\\site-packages\\sklearn\\svm\\_base.py\", line 633, in _check_proba\n",
      "    raise AttributeError(\"predict_proba is not available when \"\n",
      "AttributeError: predict_proba is not available when  probability=False\n",
      "\n",
      "  warnings.warn(\n",
      "C:\\Users\\Suma Marri\\anaconda3\\lib\\site-packages\\sklearn\\model_selection\\_validation.py:696: UserWarning: Scoring failed. The score on this train-test partition for these parameters will be set to nan. Details: \n",
      "Traceback (most recent call last):\n",
      "  File \"C:\\Users\\Suma Marri\\anaconda3\\lib\\site-packages\\sklearn\\model_selection\\_validation.py\", line 687, in _score\n",
      "    scores = scorer(estimator, X_test, y_test)\n",
      "  File \"C:\\Users\\Suma Marri\\anaconda3\\lib\\site-packages\\sklearn\\metrics\\_scorer.py\", line 87, in __call__\n",
      "    score = scorer._score(cached_call, estimator,\n",
      "  File \"C:\\Users\\Suma Marri\\anaconda3\\lib\\site-packages\\sklearn\\metrics\\_scorer.py\", line 277, in _score\n",
      "    y_pred = method_caller(clf, \"predict_proba\", X)\n",
      "  File \"C:\\Users\\Suma Marri\\anaconda3\\lib\\site-packages\\sklearn\\metrics\\_scorer.py\", line 53, in _cached_call\n",
      "    return getattr(estimator, method)(*args, **kwargs)\n",
      "  File \"C:\\Users\\Suma Marri\\anaconda3\\lib\\site-packages\\sklearn\\svm\\_base.py\", line 666, in predict_proba\n",
      "    self._check_proba()\n",
      "  File \"C:\\Users\\Suma Marri\\anaconda3\\lib\\site-packages\\sklearn\\svm\\_base.py\", line 633, in _check_proba\n",
      "    raise AttributeError(\"predict_proba is not available when \"\n",
      "AttributeError: predict_proba is not available when  probability=False\n",
      "\n",
      "  warnings.warn(\n",
      "C:\\Users\\Suma Marri\\anaconda3\\lib\\site-packages\\sklearn\\model_selection\\_validation.py:696: UserWarning: Scoring failed. The score on this train-test partition for these parameters will be set to nan. Details: \n",
      "Traceback (most recent call last):\n",
      "  File \"C:\\Users\\Suma Marri\\anaconda3\\lib\\site-packages\\sklearn\\model_selection\\_validation.py\", line 687, in _score\n",
      "    scores = scorer(estimator, X_test, y_test)\n",
      "  File \"C:\\Users\\Suma Marri\\anaconda3\\lib\\site-packages\\sklearn\\metrics\\_scorer.py\", line 87, in __call__\n",
      "    score = scorer._score(cached_call, estimator,\n",
      "  File \"C:\\Users\\Suma Marri\\anaconda3\\lib\\site-packages\\sklearn\\metrics\\_scorer.py\", line 277, in _score\n",
      "    y_pred = method_caller(clf, \"predict_proba\", X)\n",
      "  File \"C:\\Users\\Suma Marri\\anaconda3\\lib\\site-packages\\sklearn\\metrics\\_scorer.py\", line 53, in _cached_call\n",
      "    return getattr(estimator, method)(*args, **kwargs)\n",
      "  File \"C:\\Users\\Suma Marri\\anaconda3\\lib\\site-packages\\sklearn\\svm\\_base.py\", line 666, in predict_proba\n",
      "    self._check_proba()\n",
      "  File \"C:\\Users\\Suma Marri\\anaconda3\\lib\\site-packages\\sklearn\\svm\\_base.py\", line 633, in _check_proba\n",
      "    raise AttributeError(\"predict_proba is not available when \"\n",
      "AttributeError: predict_proba is not available when  probability=False\n",
      "\n",
      "  warnings.warn(\n",
      "C:\\Users\\Suma Marri\\anaconda3\\lib\\site-packages\\sklearn\\model_selection\\_validation.py:696: UserWarning: Scoring failed. The score on this train-test partition for these parameters will be set to nan. Details: \n",
      "Traceback (most recent call last):\n",
      "  File \"C:\\Users\\Suma Marri\\anaconda3\\lib\\site-packages\\sklearn\\model_selection\\_validation.py\", line 687, in _score\n",
      "    scores = scorer(estimator, X_test, y_test)\n",
      "  File \"C:\\Users\\Suma Marri\\anaconda3\\lib\\site-packages\\sklearn\\metrics\\_scorer.py\", line 87, in __call__\n",
      "    score = scorer._score(cached_call, estimator,\n",
      "  File \"C:\\Users\\Suma Marri\\anaconda3\\lib\\site-packages\\sklearn\\metrics\\_scorer.py\", line 277, in _score\n",
      "    y_pred = method_caller(clf, \"predict_proba\", X)\n",
      "  File \"C:\\Users\\Suma Marri\\anaconda3\\lib\\site-packages\\sklearn\\metrics\\_scorer.py\", line 53, in _cached_call\n",
      "    return getattr(estimator, method)(*args, **kwargs)\n",
      "  File \"C:\\Users\\Suma Marri\\anaconda3\\lib\\site-packages\\sklearn\\svm\\_base.py\", line 666, in predict_proba\n",
      "    self._check_proba()\n",
      "  File \"C:\\Users\\Suma Marri\\anaconda3\\lib\\site-packages\\sklearn\\svm\\_base.py\", line 633, in _check_proba\n",
      "    raise AttributeError(\"predict_proba is not available when \"\n",
      "AttributeError: predict_proba is not available when  probability=False\n",
      "\n",
      "  warnings.warn(\n",
      "C:\\Users\\Suma Marri\\anaconda3\\lib\\site-packages\\sklearn\\model_selection\\_validation.py:696: UserWarning: Scoring failed. The score on this train-test partition for these parameters will be set to nan. Details: \n",
      "Traceback (most recent call last):\n",
      "  File \"C:\\Users\\Suma Marri\\anaconda3\\lib\\site-packages\\sklearn\\model_selection\\_validation.py\", line 687, in _score\n",
      "    scores = scorer(estimator, X_test, y_test)\n",
      "  File \"C:\\Users\\Suma Marri\\anaconda3\\lib\\site-packages\\sklearn\\metrics\\_scorer.py\", line 87, in __call__\n",
      "    score = scorer._score(cached_call, estimator,\n",
      "  File \"C:\\Users\\Suma Marri\\anaconda3\\lib\\site-packages\\sklearn\\metrics\\_scorer.py\", line 277, in _score\n",
      "    y_pred = method_caller(clf, \"predict_proba\", X)\n",
      "  File \"C:\\Users\\Suma Marri\\anaconda3\\lib\\site-packages\\sklearn\\metrics\\_scorer.py\", line 53, in _cached_call\n",
      "    return getattr(estimator, method)(*args, **kwargs)\n",
      "  File \"C:\\Users\\Suma Marri\\anaconda3\\lib\\site-packages\\sklearn\\svm\\_base.py\", line 666, in predict_proba\n",
      "    self._check_proba()\n",
      "  File \"C:\\Users\\Suma Marri\\anaconda3\\lib\\site-packages\\sklearn\\svm\\_base.py\", line 633, in _check_proba\n",
      "    raise AttributeError(\"predict_proba is not available when \"\n",
      "AttributeError: predict_proba is not available when  probability=False\n",
      "\n",
      "  warnings.warn(\n"
     ]
    },
    {
     "name": "stderr",
     "output_type": "stream",
     "text": [
      "C:\\Users\\Suma Marri\\anaconda3\\lib\\site-packages\\sklearn\\model_selection\\_validation.py:696: UserWarning: Scoring failed. The score on this train-test partition for these parameters will be set to nan. Details: \n",
      "Traceback (most recent call last):\n",
      "  File \"C:\\Users\\Suma Marri\\anaconda3\\lib\\site-packages\\sklearn\\model_selection\\_validation.py\", line 687, in _score\n",
      "    scores = scorer(estimator, X_test, y_test)\n",
      "  File \"C:\\Users\\Suma Marri\\anaconda3\\lib\\site-packages\\sklearn\\metrics\\_scorer.py\", line 87, in __call__\n",
      "    score = scorer._score(cached_call, estimator,\n",
      "  File \"C:\\Users\\Suma Marri\\anaconda3\\lib\\site-packages\\sklearn\\metrics\\_scorer.py\", line 277, in _score\n",
      "    y_pred = method_caller(clf, \"predict_proba\", X)\n",
      "  File \"C:\\Users\\Suma Marri\\anaconda3\\lib\\site-packages\\sklearn\\metrics\\_scorer.py\", line 53, in _cached_call\n",
      "    return getattr(estimator, method)(*args, **kwargs)\n",
      "  File \"C:\\Users\\Suma Marri\\anaconda3\\lib\\site-packages\\sklearn\\svm\\_base.py\", line 666, in predict_proba\n",
      "    self._check_proba()\n",
      "  File \"C:\\Users\\Suma Marri\\anaconda3\\lib\\site-packages\\sklearn\\svm\\_base.py\", line 633, in _check_proba\n",
      "    raise AttributeError(\"predict_proba is not available when \"\n",
      "AttributeError: predict_proba is not available when  probability=False\n",
      "\n",
      "  warnings.warn(\n",
      "C:\\Users\\Suma Marri\\anaconda3\\lib\\site-packages\\sklearn\\model_selection\\_validation.py:696: UserWarning: Scoring failed. The score on this train-test partition for these parameters will be set to nan. Details: \n",
      "Traceback (most recent call last):\n",
      "  File \"C:\\Users\\Suma Marri\\anaconda3\\lib\\site-packages\\sklearn\\model_selection\\_validation.py\", line 687, in _score\n",
      "    scores = scorer(estimator, X_test, y_test)\n",
      "  File \"C:\\Users\\Suma Marri\\anaconda3\\lib\\site-packages\\sklearn\\metrics\\_scorer.py\", line 87, in __call__\n",
      "    score = scorer._score(cached_call, estimator,\n",
      "  File \"C:\\Users\\Suma Marri\\anaconda3\\lib\\site-packages\\sklearn\\metrics\\_scorer.py\", line 277, in _score\n",
      "    y_pred = method_caller(clf, \"predict_proba\", X)\n",
      "  File \"C:\\Users\\Suma Marri\\anaconda3\\lib\\site-packages\\sklearn\\metrics\\_scorer.py\", line 53, in _cached_call\n",
      "    return getattr(estimator, method)(*args, **kwargs)\n",
      "  File \"C:\\Users\\Suma Marri\\anaconda3\\lib\\site-packages\\sklearn\\svm\\_base.py\", line 666, in predict_proba\n",
      "    self._check_proba()\n",
      "  File \"C:\\Users\\Suma Marri\\anaconda3\\lib\\site-packages\\sklearn\\svm\\_base.py\", line 633, in _check_proba\n",
      "    raise AttributeError(\"predict_proba is not available when \"\n",
      "AttributeError: predict_proba is not available when  probability=False\n",
      "\n",
      "  warnings.warn(\n"
     ]
    },
    {
     "name": "stdout",
     "output_type": "stream",
     "text": [
      "SVC mean Neg Log Loss:nan\n"
     ]
    },
    {
     "name": "stderr",
     "output_type": "stream",
     "text": [
      "C:\\Users\\Suma Marri\\anaconda3\\lib\\site-packages\\sklearn\\model_selection\\_validation.py:696: UserWarning: Scoring failed. The score on this train-test partition for these parameters will be set to nan. Details: \n",
      "Traceback (most recent call last):\n",
      "  File \"C:\\Users\\Suma Marri\\anaconda3\\lib\\site-packages\\sklearn\\model_selection\\_validation.py\", line 687, in _score\n",
      "    scores = scorer(estimator, X_test, y_test)\n",
      "  File \"C:\\Users\\Suma Marri\\anaconda3\\lib\\site-packages\\sklearn\\metrics\\_scorer.py\", line 87, in __call__\n",
      "    score = scorer._score(cached_call, estimator,\n",
      "  File \"C:\\Users\\Suma Marri\\anaconda3\\lib\\site-packages\\sklearn\\metrics\\_scorer.py\", line 277, in _score\n",
      "    y_pred = method_caller(clf, \"predict_proba\", X)\n",
      "  File \"C:\\Users\\Suma Marri\\anaconda3\\lib\\site-packages\\sklearn\\metrics\\_scorer.py\", line 53, in _cached_call\n",
      "    return getattr(estimator, method)(*args, **kwargs)\n",
      "  File \"C:\\Users\\Suma Marri\\anaconda3\\lib\\site-packages\\sklearn\\svm\\_base.py\", line 666, in predict_proba\n",
      "    self._check_proba()\n",
      "  File \"C:\\Users\\Suma Marri\\anaconda3\\lib\\site-packages\\sklearn\\svm\\_base.py\", line 633, in _check_proba\n",
      "    raise AttributeError(\"predict_proba is not available when \"\n",
      "AttributeError: predict_proba is not available when  probability=False\n",
      "\n",
      "  warnings.warn(\n"
     ]
    }
   ],
   "source": [
    "# evaluate each model in turn\n",
    "nll_results = []\n",
    "names = []\n",
    "for name, model in models:\n",
    "  kfold = KFold(n_splits=10, random_state=7, shuffle=True)\n",
    "  cv_results = cross_val_score(model, X, Y, cv=kfold, scoring='neg_log_loss')\n",
    "  nll_results.append(cv_results)\n",
    "  names.append(name)\n",
    "  msg = \"%s: %f (%f)\" % (name, cv_results.mean(), cv_results.std())\n",
    "  print(\"{} mean Neg Log Loss:{}\".format(name, cv_results.mean(), cv_results.std()))"
   ]
  },
  {
   "cell_type": "code",
   "execution_count": 12,
   "id": "069e93e1",
   "metadata": {},
   "outputs": [
    {
     "name": "stdout",
     "output_type": "stream",
     "text": [
      "LD mean ROC AUC: 0.9632664679954198\n",
      "LR mean ROC AUC: 0.967617761487993\n",
      "KNN mean ROC AUC: 0.9667506065449665\n",
      "NB mean ROC AUC: 0.9728120193590408\n",
      "SVC mean ROC AUC: 0.9802485589201508\n"
     ]
    }
   ],
   "source": [
    "# evaluate each model in turn\n",
    "roc_results = []\n",
    "names = []\n",
    "for name, model in models:\n",
    "  kfold = KFold(n_splits=10, random_state=7, shuffle=True)\n",
    "  cv_results = cross_val_score(model, X, Y, cv=kfold, scoring='roc_auc')\n",
    "  roc_results.append(cv_results)\n",
    "  names.append(name)\n",
    "  msg = \"%s: %f (%f)\" % (name, cv_results.mean(), cv_results.std())\n",
    "  print(\"{} mean ROC AUC: {}\".format(name, cv_results.mean(), cv_results.std()))"
   ]
  },
  {
   "cell_type": "markdown",
   "id": "92585041",
   "metadata": {},
   "source": [
    "#### Part D \n",
    "Use box and whisker plots to compare the accuracy of the models you created in part (c). "
   ]
  },
  {
   "cell_type": "code",
   "execution_count": 13,
   "id": "de14b388",
   "metadata": {},
   "outputs": [],
   "source": [
    "import matplotlib.pyplot as plt \n",
    "import seaborn as sns\n",
    "%matplotlib inline"
   ]
  },
  {
   "cell_type": "code",
   "execution_count": 14,
   "id": "8db06a0e",
   "metadata": {},
   "outputs": [
    {
     "data": {
      "image/png": "[encoded data removed]",
      "text/plain": [
       "<Figure size 432x288 with 1 Axes>"
      ]
     },
     "metadata": {
      "needs_background": "light"
     },
     "output_type": "display_data"
    }
   ],
   "source": [
    "fig = plt.figure()\n",
    "g = fig.add_subplot(111)\n",
    "sns.boxplot(data=acc_results).set(title='Accuracy Comparison')\n",
    "g.set_xticklabels(names)\n",
    "plt.show()"
   ]
  },
  {
   "cell_type": "code",
   "execution_count": 15,
   "id": "3d8e372b",
   "metadata": {},
   "outputs": [
    {
     "data": {
      "image/png": "[encoded data removed]",
      "text/plain": [
       "<Figure size 432x288 with 1 Axes>"
      ]
     },
     "metadata": {
      "needs_background": "light"
     },
     "output_type": "display_data"
    }
   ],
   "source": [
    "fig = plt.figure()\n",
    "g = fig.add_subplot(111)\n",
    "sns.boxplot(data=nll_results).set(title='Neg Log Loss Comparison')\n",
    "g.set_xticklabels(names)\n",
    "plt.show()"
   ]
  },
  {
   "cell_type": "code",
   "execution_count": 16,
   "id": "dd8f2ab9",
   "metadata": {},
   "outputs": [
    {
     "data": {
      "image/png": "[encoded data removed]",
      "text/plain": [
       "<Figure size 432x288 with 1 Axes>"
      ]
     },
     "metadata": {
      "needs_background": "light"
     },
     "output_type": "display_data"
    }
   ],
   "source": [
    "fig = plt.figure()\n",
    "g = fig.add_subplot(111)\n",
    "sns.boxplot(data=roc_results).set(title='ROC AUC Comparison')\n",
    "g.set_xticklabels(names)\n",
    "plt.show()"
   ]
  },
  {
   "cell_type": "markdown",
   "id": "34bc33d0",
   "metadata": {},
   "source": [
    "### Problem 2: Automate Machine Learning Workfows with Pipeline (12 points)\n",
    "In this problem, you will continue to use the dataset from problem 1. You will Pipeline utilities in Python scikit-learn to automate standard applied machine learning workflows."
   ]
  },
  {
   "cell_type": "code",
   "execution_count": 17,
   "id": "b311638f",
   "metadata": {},
   "outputs": [],
   "source": [
    "# import necessary packages to the Jupyter notebook\n",
    "# Create a pipeline that extracts features from the data then creates a model\n",
    "from pandas import read_csv\n",
    "from sklearn.model_selection import KFold\n",
    "from sklearn.model_selection import cross_val_score\n",
    "from sklearn.pipeline import Pipeline\n",
    "from sklearn.preprocessing import StandardScaler\n",
    "from sklearn.pipeline import FeatureUnion\n",
    "from sklearn.linear_model import LogisticRegression\n",
    "from sklearn.decomposition import PCA\n",
    "from sklearn.feature_selection import SelectKBest\n",
    "\n",
    "# read and load the csv data file\n",
    "filename = \"Dataset/myClassDataSet2.csv\"\n",
    "dataframe = read_csv(filename)\n",
    "array = dataframe.values\n",
    "\n",
    "# separate array into input and output components\n",
    "#X = array [:,0:8]\n",
    "#Y = array [:,8]\n",
    "Y = array[:,-1]\n",
    "X = array[:,0:-1]"
   ]
  },
  {
   "cell_type": "markdown",
   "id": "9999c52f",
   "metadata": {},
   "source": [
    "#### Part A\n",
    "Define a 5-step pipeline with the following steps; and perform a k-fold cross validation using KFold with ‘random state =5’ (2 points), and provide a summary of accuracy of the setup on the dataset."
   ]
  },
  {
   "cell_type": "markdown",
   "id": "f83a9b08",
   "metadata": {},
   "source": [
    "i. Standardize the data using StandardScaler()."
   ]
  },
  {
   "cell_type": "code",
   "execution_count": 18,
   "id": "274aac71",
   "metadata": {},
   "outputs": [],
   "source": [
    "# we create a Python list of steps that are provided to the pipeline for processing the data. \n",
    "estimators = []\n",
    "estimators.append(('stan', StandardScaler()))\n",
    "estimators.append(('LR', LogisticRegression()))"
   ]
  },
  {
   "cell_type": "markdown",
   "id": "84ccdf87",
   "metadata": {},
   "source": [
    "ii. Extract 3 features with Principal Component Analysis using PCA()."
   ]
  },
  {
   "cell_type": "code",
   "execution_count": 19,
   "id": "78d9a0b7",
   "metadata": {},
   "outputs": [
    {
     "data": {
      "text/plain": [
       "array([[ 1.8625981 , -0.42704185, -0.63879609],\n",
       "       [ 1.89391396, -0.1430395 ,  0.41658238],\n",
       "       [-1.83764137, -0.15681797,  1.33471962],\n",
       "       ...,\n",
       "       [-1.3941512 ,  4.27858863, -0.21210739],\n",
       "       [ 0.19593467, -1.36620485, -0.00786667],\n",
       "       [-2.78141989, -0.13455338, -0.67470072]])"
      ]
     },
     "execution_count": 19,
     "metadata": {},
     "output_type": "execute_result"
    }
   ],
   "source": [
    "PCA(n_components=3).fit_transform(X,Y)"
   ]
  },
  {
   "cell_type": "markdown",
   "id": "821ccb16",
   "metadata": {},
   "source": [
    "iii. Extract 6 features with statistical selection using SelectKBest()."
   ]
  },
  {
   "cell_type": "code",
   "execution_count": 20,
   "id": "6e83e415",
   "metadata": {},
   "outputs": [
    {
     "data": {
      "text/plain": [
       "array([[ 0.67225028, -0.29839349, -0.94034159,  0.97344436,  1.15231573,\n",
       "         1.26843767],\n",
       "       [ 0.77598225, -0.43621402,  0.64243362, -0.80825303,  1.06019861,\n",
       "        -0.05595928],\n",
       "       [-1.32213724,  1.06337624, -0.41155161, -1.80685208, -0.86481126,\n",
       "        -1.30306815],\n",
       "       ...,\n",
       "       [ 0.83959238, -1.78600037,  1.80905237, -1.52954371, -2.71759927,\n",
       "         0.29429998],\n",
       "       [-0.67474064,  0.9431257 , -1.63823094,  0.43790922,  0.73639503,\n",
       "         0.25025146],\n",
       "       [-1.82403541,  1.4073789 ,  1.10738528,  0.22372376, -1.36859049,\n",
       "        -0.42302995]])"
      ]
     },
     "execution_count": 20,
     "metadata": {},
     "output_type": "execute_result"
    }
   ],
   "source": [
    "SelectKBest(k=6).fit_transform(X,Y)"
   ]
  },
  {
   "cell_type": "markdown",
   "id": "8da4400d",
   "metadata": {},
   "source": [
    "iv. Combine features, extracted from two previous steps using FeatureUnion()."
   ]
  },
  {
   "cell_type": "code",
   "execution_count": 21,
   "id": "ffc46e5e",
   "metadata": {},
   "outputs": [
    {
     "data": {
      "text/plain": [
       "FeatureUnion(transformer_list=[('pca', PCA(n_components=3)),\n",
       "                               ('select_best', SelectKBest(k=6))])"
      ]
     },
     "execution_count": 21,
     "metadata": {},
     "output_type": "execute_result"
    }
   ],
   "source": [
    "features = []\n",
    "features.append(( 'pca' , PCA(n_components=3)))\n",
    "features.append(( 'select_best' , SelectKBest(k=6)))\n",
    "feature_union = FeatureUnion(features)\n",
    "feature_union"
   ]
  },
  {
   "cell_type": "markdown",
   "id": "b6900a87",
   "metadata": {},
   "source": [
    "v. Learn a Logistic Regression using LogisticRegression with ‘liblinear’ solver."
   ]
  },
  {
   "cell_type": "code",
   "execution_count": 22,
   "id": "60e81bef",
   "metadata": {},
   "outputs": [],
   "source": [
    "# create pipeline\n",
    "estimators = []\n",
    "estimators.append(( 'feature_union' , feature_union))\n",
    "estimators.append(( 'logistic' , LogisticRegression()))\n",
    "pipeline_model = Pipeline(estimators)"
   ]
  },
  {
   "cell_type": "code",
   "execution_count": 23,
   "id": "7fb74aa6",
   "metadata": {},
   "outputs": [],
   "source": [
    "# evaluate pipeline\n",
    "kfold = KFold(random_state=5, shuffle=True)"
   ]
  },
  {
   "cell_type": "code",
   "execution_count": 24,
   "id": "6c6414a3",
   "metadata": {},
   "outputs": [
    {
     "name": "stdout",
     "output_type": "stream",
     "text": [
      "0.9401999999999999\n"
     ]
    }
   ],
   "source": [
    "results = cross_val_score(pipeline_model, X, Y, cv=kfold)\n",
    "print(results.mean())"
   ]
  },
  {
   "cell_type": "markdown",
   "id": "013e55fc",
   "metadata": {},
   "source": [
    "### Problem 3\n",
    "Improve Performance with Ensembles (13 points)\n",
    "In this problem, you will continue to use the dataset from problem 1. You will create ensembles in\n",
    "Python using scikit-learn to improve the performance of models on your problems. For each ensemble\n",
    "algorithm use 10-fold cross-validation using KFold ; and the classification accuracy performance\n",
    "metric to report the reuslts."
   ]
  },
  {
   "cell_type": "code",
   "execution_count": 25,
   "id": "5707a83e",
   "metadata": {},
   "outputs": [],
   "source": [
    "# import necessary packages to the Jupyter notebook\n",
    "# Bagged Decision Trees for Classification\n",
    "from pandas import read_csv\n",
    "from sklearn . model_selection import KFold\n",
    "from sklearn . model_selection import cross_val_score\n",
    "from sklearn . ensemble import BaggingClassifier\n",
    "from sklearn . ensemble import AdaBoostClassifier\n",
    "from sklearn . ensemble import VotingClassifier\n",
    "from sklearn . tree import DecisionTreeClassifier\n",
    "from sklearn . linear_model import LogisticRegression\n",
    "from sklearn . svm import SVC\n",
    "\n",
    "# read and load the csv data file\n",
    "filename = \"Dataset/myClassDataSet2.csv\"\n",
    "dataframe = read_csv ( filename )\n",
    "array = dataframe . values\n",
    "# separate array into input and output components\n",
    "#X = array [:,0:8]\n",
    "#Y = array [:,8]\n",
    "Y = array[:,-1]\n",
    "X = array[:,0:-1]"
   ]
  },
  {
   "cell_type": "markdown",
   "id": "00b1e9f0",
   "metadata": {},
   "source": [
    "#### Part A\n",
    "Create a BaggingClassifier with the Classification and Regression Trees algorithm using DecisionTreeClassifier with total number of 100 trees; For both k-fold and Bagging classifier use the ‘random state = 7’; Then, report the mean classification accuracy. "
   ]
  },
  {
   "cell_type": "code",
   "execution_count": 26,
   "id": "bc39b39e",
   "metadata": {},
   "outputs": [
    {
     "data": {
      "text/plain": [
       "array([0.95 , 0.95 , 0.942, 0.952, 0.946, 0.943, 0.956, 0.961, 0.948,\n",
       "       0.947])"
      ]
     },
     "execution_count": 26,
     "metadata": {},
     "output_type": "execute_result"
    }
   ],
   "source": [
    "kfold = KFold(n_splits=10, random_state=7, shuffle=True)\n",
    "bc_model = BaggingClassifier(base_estimator = DecisionTreeClassifier(), n_estimators=100, random_state=7).fit(X,Y)\n",
    "bc_results = cross_val_score(bc_model, X, Y, cv=kfold)\n",
    "bc_results"
   ]
  },
  {
   "cell_type": "code",
   "execution_count": 27,
   "id": "6bb0e89b",
   "metadata": {},
   "outputs": [
    {
     "data": {
      "text/plain": [
       "0.9494999999999999"
      ]
     },
     "execution_count": 27,
     "metadata": {},
     "output_type": "execute_result"
    }
   ],
   "source": [
    "bc_results.mean()"
   ]
  },
  {
   "cell_type": "markdown",
   "id": "c1d93996",
   "metadata": {},
   "source": [
    "#### Part B\n",
    "Create a AdaBoostClassifier using 30 decision trees in sequence; For both k-fold and AdaBoost Classifier use the ‘random state = 7’; Then, report the mean classification accuracy. "
   ]
  },
  {
   "cell_type": "code",
   "execution_count": 28,
   "id": "01fef9a4",
   "metadata": {},
   "outputs": [
    {
     "data": {
      "text/plain": [
       "array([0.937, 0.948, 0.949, 0.946, 0.94 , 0.939, 0.944, 0.954, 0.936,\n",
       "       0.947])"
      ]
     },
     "execution_count": 28,
     "metadata": {},
     "output_type": "execute_result"
    }
   ],
   "source": [
    "kfold  = KFold(n_splits=10, random_state=7, shuffle=True)\n",
    "ada_model = AdaBoostClassifier(n_estimators=30, random_state=7)\n",
    "ada_results = cross_val_score(ada_model, X, Y, cv=kfold)\n",
    "ada_results"
   ]
  },
  {
   "cell_type": "code",
   "execution_count": 29,
   "id": "bd5e46dd",
   "metadata": {},
   "outputs": [
    {
     "data": {
      "text/plain": [
       "0.944"
      ]
     },
     "execution_count": 29,
     "metadata": {},
     "output_type": "execute_result"
    }
   ],
   "source": [
    "ada_results.mean()"
   ]
  },
  {
   "cell_type": "markdown",
   "id": "5c012b82",
   "metadata": {},
   "source": [
    "#### Part C\n",
    "Create a VotingClassifier that combines the predictions of three classification models including logistic regression (LogisticRegression with ‘liblinear’ solver), classification and regression trees (DecisionTreeClassifier) and support vector machines (SVC) together, and provide a mean estimate of classification accuracy. For k-fold use the ‘random state = 7’"
   ]
  },
  {
   "cell_type": "code",
   "execution_count": 30,
   "id": "d1aa1fb2",
   "metadata": {},
   "outputs": [],
   "source": [
    "kfold = KFold(n_splits=10, random_state=7, shuffle=True)\n",
    "\n",
    "#crearing sub-models\n",
    "estimators = []\n",
    "model1 = LogisticRegression(solver = 'liblinear')\n",
    "estimators.append(('logistic', model1))\n",
    "model2 = DecisionTreeClassifier()\n",
    "estimators.append(('cart', model2))\n",
    "model3 = SVC()\n",
    "estimators.append(('svm', model3))\n",
    "ensemble = VotingClassifier(estimators)"
   ]
  },
  {
   "cell_type": "code",
   "execution_count": 31,
   "id": "ab007ffe",
   "metadata": {},
   "outputs": [
    {
     "name": "stdout",
     "output_type": "stream",
     "text": [
      "0.9460000000000001\n"
     ]
    }
   ],
   "source": [
    "results = cross_val_score(ensemble, X, Y, cv=kfold)\n",
    "print(results.mean())"
   ]
  },
  {
   "cell_type": "code",
   "execution_count": null,
   "id": "36fa6c66",
   "metadata": {},
   "outputs": [],
   "source": []
  }
 ],
 "metadata": {
  "kernelspec": {
   "display_name": "Python 3 (ipykernel)",
   "language": "python",
   "name": "python3"
  },
  "language_info": {
   "codemirror_mode": {
    "name": "ipython",
    "version": 3
   },
   "file_extension": ".py",
   "mimetype": "text/x-python",
   "name": "python",
   "nbconvert_exporter": "python",
   "pygments_lexer": "ipython3",
   "version": "3.9.7"
  }
 },
 "nbformat": 4,
 "nbformat_minor": 5
}
