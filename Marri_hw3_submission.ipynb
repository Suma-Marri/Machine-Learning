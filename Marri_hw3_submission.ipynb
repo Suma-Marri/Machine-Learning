{
 "cells": [
  {
   "cell_type": "markdown",
   "id": "93790554",
   "metadata": {},
   "source": [
    "### Suma Marri"
   ]
  },
  {
   "cell_type": "markdown",
   "id": "5e94c788",
   "metadata": {},
   "source": [
    "#### Problem 1: Linear Regression Model"
   ]
  },
  {
   "cell_type": "code",
   "execution_count": 1,
   "id": "99614915",
   "metadata": {},
   "outputs": [],
   "source": [
    "# Import necessary packages to the jupyter notebook\n",
    "# Implement a Linear Regression model using both Normal Equation Method and SGD\n",
    "import pandas as pd\n",
    "import numpy as np\n",
    "from pandas import read_csv\n",
    "\n",
    "from sklearn.preprocessing import MinMaxScaler\n",
    "from sklearn.model_selection import train_test_split\n",
    "from sklearn.metrics import mean_squared_error\n",
    "from sklearn.metrics import r2_score\n",
    "from sklearn.metrics import accuracy_score\n",
    "\n",
    "# read and load the csv data file\n",
    "filename = \"Dataset/AMZN.csv\"\n",
    "data = read_csv ( filename )\n",
    "\n",
    "# Get the Adjusted Close Price\n",
    "data_select = data [['Adj Close']]\n",
    "\n",
    "# converting the dataset to a numpy array\n",
    "values = data_select.values"
   ]
  },
  {
   "cell_type": "code",
   "execution_count": 2,
   "id": "22d69b4a",
   "metadata": {},
   "outputs": [],
   "source": [
    "from pandas import DataFrame\n",
    "from pandas import concat\n",
    "\n",
    "\"\"\"\n",
    "Frame a time series as a supervised learning dataset .\n",
    "Arguments :\n",
    "data : Sequence of observations as a list or NumPy array .\n",
    "n_in : Number of lag observations as input (X).\n",
    "n_out : Number of observations as output (y).\n",
    "dropnan : Boolean whether or not to drop rows with NaN values .\n",
    "Returns :\n",
    "Pandas DataFrame of series framed for supervised learning .\n",
    "\"\"\"\n",
    "\n",
    "def series_to_supervised ( data , n_in =1 , n_out =1 , dropnan = True ):\n",
    "    n_vars = 1 if type ( data ) is list else data . shape [1]\n",
    "    df = DataFrame ( data )\n",
    "    cols , names = list () , list ()\n",
    "    # input sequence (t-n, ... t-1)\n",
    "    for i in range ( n_in , 0 , -1 ):\n",
    "        cols . append ( df . shift ( i ) )\n",
    "        names += [('var %d(t-%d)' % ( j+1 , i ) ) for j in range ( n_vars )]\n",
    "    # forecast sequence (t, t+1, ... t+n)\n",
    "    for i in range (0 , n_out ):\n",
    "        cols.append ( df . shift (-i ) )\n",
    "        if i == 0:\n",
    "            names += [('var%d(t)' % ( j+1 ) ) for j in range ( n_vars )]\n",
    "        else :\n",
    "            names += [('var%d(t+%d)' % ( j+1 , i ) ) for j in range ( n_vars )]\n",
    "    # put it all together\n",
    "    agg = concat ( cols , axis =1 )\n",
    "    agg.columns = names\n",
    "    # drop rows with NaN values\n",
    "    if dropnan :\n",
    "        agg.dropna( inplace = True )\n",
    "    return agg"
   ]
  },
  {
   "cell_type": "markdown",
   "id": "65bf004d",
   "metadata": {},
   "source": [
    "###### (a) \n",
    "Use the Python function named series_to_supervised() that takes a univariate or multivariate time series and frames it as a supervised learning dataset."
   ]
  },
  {
   "cell_type": "code",
   "execution_count": 3,
   "id": "cb0edcb1",
   "metadata": {},
   "outputs": [
    {
     "data": {
      "text/html": [
       "<div>\n",
       "<style scoped>\n",
       "    .dataframe tbody tr th:only-of-type {\n",
       "        vertical-align: middle;\n",
       "    }\n",
       "\n",
       "    .dataframe tbody tr th {\n",
       "        vertical-align: top;\n",
       "    }\n",
       "\n",
       "    .dataframe thead th {\n",
       "        text-align: right;\n",
       "    }\n",
       "</style>\n",
       "<table border=\"1\" class=\"dataframe\">\n",
       "  <thead>\n",
       "    <tr style=\"text-align: right;\">\n",
       "      <th></th>\n",
       "      <th>var 1(t-10)</th>\n",
       "      <th>var 1(t-9)</th>\n",
       "      <th>var 1(t-8)</th>\n",
       "      <th>var 1(t-7)</th>\n",
       "      <th>var 1(t-6)</th>\n",
       "      <th>var 1(t-5)</th>\n",
       "      <th>var 1(t-4)</th>\n",
       "      <th>var 1(t-3)</th>\n",
       "      <th>var 1(t-2)</th>\n",
       "      <th>var 1(t-1)</th>\n",
       "      <th>var1(t)</th>\n",
       "    </tr>\n",
       "  </thead>\n",
       "  <tbody>\n",
       "    <tr>\n",
       "      <th>10</th>\n",
       "      <td>1.958333</td>\n",
       "      <td>1.729167</td>\n",
       "      <td>1.708333</td>\n",
       "      <td>1.635417</td>\n",
       "      <td>1.427083</td>\n",
       "      <td>1.395833</td>\n",
       "      <td>1.500000</td>\n",
       "      <td>1.583333</td>\n",
       "      <td>1.531250</td>\n",
       "      <td>1.505208</td>\n",
       "      <td>1.500000</td>\n",
       "    </tr>\n",
       "    <tr>\n",
       "      <th>11</th>\n",
       "      <td>1.729167</td>\n",
       "      <td>1.708333</td>\n",
       "      <td>1.635417</td>\n",
       "      <td>1.427083</td>\n",
       "      <td>1.395833</td>\n",
       "      <td>1.500000</td>\n",
       "      <td>1.583333</td>\n",
       "      <td>1.531250</td>\n",
       "      <td>1.505208</td>\n",
       "      <td>1.500000</td>\n",
       "      <td>1.510417</td>\n",
       "    </tr>\n",
       "    <tr>\n",
       "      <th>12</th>\n",
       "      <td>1.708333</td>\n",
       "      <td>1.635417</td>\n",
       "      <td>1.427083</td>\n",
       "      <td>1.395833</td>\n",
       "      <td>1.500000</td>\n",
       "      <td>1.583333</td>\n",
       "      <td>1.531250</td>\n",
       "      <td>1.505208</td>\n",
       "      <td>1.500000</td>\n",
       "      <td>1.510417</td>\n",
       "      <td>1.479167</td>\n",
       "    </tr>\n",
       "    <tr>\n",
       "      <th>13</th>\n",
       "      <td>1.635417</td>\n",
       "      <td>1.427083</td>\n",
       "      <td>1.395833</td>\n",
       "      <td>1.500000</td>\n",
       "      <td>1.583333</td>\n",
       "      <td>1.531250</td>\n",
       "      <td>1.505208</td>\n",
       "      <td>1.500000</td>\n",
       "      <td>1.510417</td>\n",
       "      <td>1.479167</td>\n",
       "      <td>1.416667</td>\n",
       "    </tr>\n",
       "    <tr>\n",
       "      <th>14</th>\n",
       "      <td>1.427083</td>\n",
       "      <td>1.395833</td>\n",
       "      <td>1.500000</td>\n",
       "      <td>1.583333</td>\n",
       "      <td>1.531250</td>\n",
       "      <td>1.505208</td>\n",
       "      <td>1.500000</td>\n",
       "      <td>1.510417</td>\n",
       "      <td>1.479167</td>\n",
       "      <td>1.416667</td>\n",
       "      <td>1.541667</td>\n",
       "    </tr>\n",
       "    <tr>\n",
       "      <th>...</th>\n",
       "      <td>...</td>\n",
       "      <td>...</td>\n",
       "      <td>...</td>\n",
       "      <td>...</td>\n",
       "      <td>...</td>\n",
       "      <td>...</td>\n",
       "      <td>...</td>\n",
       "      <td>...</td>\n",
       "      <td>...</td>\n",
       "      <td>...</td>\n",
       "      <td>...</td>\n",
       "    </tr>\n",
       "    <tr>\n",
       "      <th>5753</th>\n",
       "      <td>1676.609985</td>\n",
       "      <td>1785.000000</td>\n",
       "      <td>1689.150024</td>\n",
       "      <td>1807.839966</td>\n",
       "      <td>1830.000000</td>\n",
       "      <td>1880.930054</td>\n",
       "      <td>1846.089966</td>\n",
       "      <td>1902.829956</td>\n",
       "      <td>1940.099976</td>\n",
       "      <td>1885.839966</td>\n",
       "      <td>1955.489990</td>\n",
       "    </tr>\n",
       "    <tr>\n",
       "      <th>5754</th>\n",
       "      <td>1785.000000</td>\n",
       "      <td>1689.150024</td>\n",
       "      <td>1807.839966</td>\n",
       "      <td>1830.000000</td>\n",
       "      <td>1880.930054</td>\n",
       "      <td>1846.089966</td>\n",
       "      <td>1902.829956</td>\n",
       "      <td>1940.099976</td>\n",
       "      <td>1885.839966</td>\n",
       "      <td>1955.489990</td>\n",
       "      <td>1900.099976</td>\n",
       "    </tr>\n",
       "    <tr>\n",
       "      <th>5755</th>\n",
       "      <td>1689.150024</td>\n",
       "      <td>1807.839966</td>\n",
       "      <td>1830.000000</td>\n",
       "      <td>1880.930054</td>\n",
       "      <td>1846.089966</td>\n",
       "      <td>1902.829956</td>\n",
       "      <td>1940.099976</td>\n",
       "      <td>1885.839966</td>\n",
       "      <td>1955.489990</td>\n",
       "      <td>1900.099976</td>\n",
       "      <td>1963.949951</td>\n",
       "    </tr>\n",
       "    <tr>\n",
       "      <th>5756</th>\n",
       "      <td>1807.839966</td>\n",
       "      <td>1830.000000</td>\n",
       "      <td>1880.930054</td>\n",
       "      <td>1846.089966</td>\n",
       "      <td>1902.829956</td>\n",
       "      <td>1940.099976</td>\n",
       "      <td>1885.839966</td>\n",
       "      <td>1955.489990</td>\n",
       "      <td>1900.099976</td>\n",
       "      <td>1963.949951</td>\n",
       "      <td>1949.719971</td>\n",
       "    </tr>\n",
       "    <tr>\n",
       "      <th>5757</th>\n",
       "      <td>1830.000000</td>\n",
       "      <td>1880.930054</td>\n",
       "      <td>1846.089966</td>\n",
       "      <td>1902.829956</td>\n",
       "      <td>1940.099976</td>\n",
       "      <td>1885.839966</td>\n",
       "      <td>1955.489990</td>\n",
       "      <td>1900.099976</td>\n",
       "      <td>1963.949951</td>\n",
       "      <td>1949.719971</td>\n",
       "      <td>1907.699951</td>\n",
       "    </tr>\n",
       "  </tbody>\n",
       "</table>\n",
       "<p>5748 rows × 11 columns</p>\n",
       "</div>"
      ],
      "text/plain": [
       "      var 1(t-10)   var 1(t-9)   var 1(t-8)   var 1(t-7)   var 1(t-6)  \\\n",
       "10       1.958333     1.729167     1.708333     1.635417     1.427083   \n",
       "11       1.729167     1.708333     1.635417     1.427083     1.395833   \n",
       "12       1.708333     1.635417     1.427083     1.395833     1.500000   \n",
       "13       1.635417     1.427083     1.395833     1.500000     1.583333   \n",
       "14       1.427083     1.395833     1.500000     1.583333     1.531250   \n",
       "...           ...          ...          ...          ...          ...   \n",
       "5753  1676.609985  1785.000000  1689.150024  1807.839966  1830.000000   \n",
       "5754  1785.000000  1689.150024  1807.839966  1830.000000  1880.930054   \n",
       "5755  1689.150024  1807.839966  1830.000000  1880.930054  1846.089966   \n",
       "5756  1807.839966  1830.000000  1880.930054  1846.089966  1902.829956   \n",
       "5757  1830.000000  1880.930054  1846.089966  1902.829956  1940.099976   \n",
       "\n",
       "       var 1(t-5)   var 1(t-4)   var 1(t-3)   var 1(t-2)   var 1(t-1)  \\\n",
       "10       1.395833     1.500000     1.583333     1.531250     1.505208   \n",
       "11       1.500000     1.583333     1.531250     1.505208     1.500000   \n",
       "12       1.583333     1.531250     1.505208     1.500000     1.510417   \n",
       "13       1.531250     1.505208     1.500000     1.510417     1.479167   \n",
       "14       1.505208     1.500000     1.510417     1.479167     1.416667   \n",
       "...           ...          ...          ...          ...          ...   \n",
       "5753  1880.930054  1846.089966  1902.829956  1940.099976  1885.839966   \n",
       "5754  1846.089966  1902.829956  1940.099976  1885.839966  1955.489990   \n",
       "5755  1902.829956  1940.099976  1885.839966  1955.489990  1900.099976   \n",
       "5756  1940.099976  1885.839966  1955.489990  1900.099976  1963.949951   \n",
       "5757  1885.839966  1955.489990  1900.099976  1963.949951  1949.719971   \n",
       "\n",
       "          var1(t)  \n",
       "10       1.500000  \n",
       "11       1.510417  \n",
       "12       1.479167  \n",
       "13       1.416667  \n",
       "14       1.541667  \n",
       "...           ...  \n",
       "5753  1955.489990  \n",
       "5754  1900.099976  \n",
       "5755  1963.949951  \n",
       "5756  1949.719971  \n",
       "5757  1907.699951  \n",
       "\n",
       "[5748 rows x 11 columns]"
      ]
     },
     "execution_count": 3,
     "metadata": {},
     "output_type": "execute_result"
    }
   ],
   "source": [
    "series_to_supervised(data_select, n_in=10, n_out=1, dropnan=True)"
   ]
  },
  {
   "cell_type": "code",
   "execution_count": 4,
   "id": "86bca2db",
   "metadata": {},
   "outputs": [
    {
     "data": {
      "text/html": [
       "<div>\n",
       "<style scoped>\n",
       "    .dataframe tbody tr th:only-of-type {\n",
       "        vertical-align: middle;\n",
       "    }\n",
       "\n",
       "    .dataframe tbody tr th {\n",
       "        vertical-align: top;\n",
       "    }\n",
       "\n",
       "    .dataframe thead th {\n",
       "        text-align: right;\n",
       "    }\n",
       "</style>\n",
       "<table border=\"1\" class=\"dataframe\">\n",
       "  <thead>\n",
       "    <tr style=\"text-align: right;\">\n",
       "      <th></th>\n",
       "      <th>var 1(t-10)</th>\n",
       "      <th>var 1(t-9)</th>\n",
       "      <th>var 1(t-8)</th>\n",
       "      <th>var 1(t-7)</th>\n",
       "      <th>var 1(t-6)</th>\n",
       "      <th>var 1(t-5)</th>\n",
       "      <th>var 1(t-4)</th>\n",
       "      <th>var 1(t-3)</th>\n",
       "      <th>var 1(t-2)</th>\n",
       "      <th>var 1(t-1)</th>\n",
       "      <th>var1(t)</th>\n",
       "    </tr>\n",
       "  </thead>\n",
       "  <tbody>\n",
       "    <tr>\n",
       "      <th>10</th>\n",
       "      <td>1.958333</td>\n",
       "      <td>1.729167</td>\n",
       "      <td>1.708333</td>\n",
       "      <td>1.635417</td>\n",
       "      <td>1.427083</td>\n",
       "      <td>1.395833</td>\n",
       "      <td>1.500000</td>\n",
       "      <td>1.583333</td>\n",
       "      <td>1.531250</td>\n",
       "      <td>1.505208</td>\n",
       "      <td>1.500000</td>\n",
       "    </tr>\n",
       "    <tr>\n",
       "      <th>11</th>\n",
       "      <td>1.729167</td>\n",
       "      <td>1.708333</td>\n",
       "      <td>1.635417</td>\n",
       "      <td>1.427083</td>\n",
       "      <td>1.395833</td>\n",
       "      <td>1.500000</td>\n",
       "      <td>1.583333</td>\n",
       "      <td>1.531250</td>\n",
       "      <td>1.505208</td>\n",
       "      <td>1.500000</td>\n",
       "      <td>1.510417</td>\n",
       "    </tr>\n",
       "    <tr>\n",
       "      <th>12</th>\n",
       "      <td>1.708333</td>\n",
       "      <td>1.635417</td>\n",
       "      <td>1.427083</td>\n",
       "      <td>1.395833</td>\n",
       "      <td>1.500000</td>\n",
       "      <td>1.583333</td>\n",
       "      <td>1.531250</td>\n",
       "      <td>1.505208</td>\n",
       "      <td>1.500000</td>\n",
       "      <td>1.510417</td>\n",
       "      <td>1.479167</td>\n",
       "    </tr>\n",
       "    <tr>\n",
       "      <th>13</th>\n",
       "      <td>1.635417</td>\n",
       "      <td>1.427083</td>\n",
       "      <td>1.395833</td>\n",
       "      <td>1.500000</td>\n",
       "      <td>1.583333</td>\n",
       "      <td>1.531250</td>\n",
       "      <td>1.505208</td>\n",
       "      <td>1.500000</td>\n",
       "      <td>1.510417</td>\n",
       "      <td>1.479167</td>\n",
       "      <td>1.416667</td>\n",
       "    </tr>\n",
       "    <tr>\n",
       "      <th>14</th>\n",
       "      <td>1.427083</td>\n",
       "      <td>1.395833</td>\n",
       "      <td>1.500000</td>\n",
       "      <td>1.583333</td>\n",
       "      <td>1.531250</td>\n",
       "      <td>1.505208</td>\n",
       "      <td>1.500000</td>\n",
       "      <td>1.510417</td>\n",
       "      <td>1.479167</td>\n",
       "      <td>1.416667</td>\n",
       "      <td>1.541667</td>\n",
       "    </tr>\n",
       "    <tr>\n",
       "      <th>...</th>\n",
       "      <td>...</td>\n",
       "      <td>...</td>\n",
       "      <td>...</td>\n",
       "      <td>...</td>\n",
       "      <td>...</td>\n",
       "      <td>...</td>\n",
       "      <td>...</td>\n",
       "      <td>...</td>\n",
       "      <td>...</td>\n",
       "      <td>...</td>\n",
       "      <td>...</td>\n",
       "    </tr>\n",
       "    <tr>\n",
       "      <th>5753</th>\n",
       "      <td>1676.609985</td>\n",
       "      <td>1785.000000</td>\n",
       "      <td>1689.150024</td>\n",
       "      <td>1807.839966</td>\n",
       "      <td>1830.000000</td>\n",
       "      <td>1880.930054</td>\n",
       "      <td>1846.089966</td>\n",
       "      <td>1902.829956</td>\n",
       "      <td>1940.099976</td>\n",
       "      <td>1885.839966</td>\n",
       "      <td>1955.489990</td>\n",
       "    </tr>\n",
       "    <tr>\n",
       "      <th>5754</th>\n",
       "      <td>1785.000000</td>\n",
       "      <td>1689.150024</td>\n",
       "      <td>1807.839966</td>\n",
       "      <td>1830.000000</td>\n",
       "      <td>1880.930054</td>\n",
       "      <td>1846.089966</td>\n",
       "      <td>1902.829956</td>\n",
       "      <td>1940.099976</td>\n",
       "      <td>1885.839966</td>\n",
       "      <td>1955.489990</td>\n",
       "      <td>1900.099976</td>\n",
       "    </tr>\n",
       "    <tr>\n",
       "      <th>5755</th>\n",
       "      <td>1689.150024</td>\n",
       "      <td>1807.839966</td>\n",
       "      <td>1830.000000</td>\n",
       "      <td>1880.930054</td>\n",
       "      <td>1846.089966</td>\n",
       "      <td>1902.829956</td>\n",
       "      <td>1940.099976</td>\n",
       "      <td>1885.839966</td>\n",
       "      <td>1955.489990</td>\n",
       "      <td>1900.099976</td>\n",
       "      <td>1963.949951</td>\n",
       "    </tr>\n",
       "    <tr>\n",
       "      <th>5756</th>\n",
       "      <td>1807.839966</td>\n",
       "      <td>1830.000000</td>\n",
       "      <td>1880.930054</td>\n",
       "      <td>1846.089966</td>\n",
       "      <td>1902.829956</td>\n",
       "      <td>1940.099976</td>\n",
       "      <td>1885.839966</td>\n",
       "      <td>1955.489990</td>\n",
       "      <td>1900.099976</td>\n",
       "      <td>1963.949951</td>\n",
       "      <td>1949.719971</td>\n",
       "    </tr>\n",
       "    <tr>\n",
       "      <th>5757</th>\n",
       "      <td>1830.000000</td>\n",
       "      <td>1880.930054</td>\n",
       "      <td>1846.089966</td>\n",
       "      <td>1902.829956</td>\n",
       "      <td>1940.099976</td>\n",
       "      <td>1885.839966</td>\n",
       "      <td>1955.489990</td>\n",
       "      <td>1900.099976</td>\n",
       "      <td>1963.949951</td>\n",
       "      <td>1949.719971</td>\n",
       "      <td>1907.699951</td>\n",
       "    </tr>\n",
       "  </tbody>\n",
       "</table>\n",
       "<p>5748 rows × 11 columns</p>\n",
       "</div>"
      ],
      "text/plain": [
       "      var 1(t-10)   var 1(t-9)   var 1(t-8)   var 1(t-7)   var 1(t-6)  \\\n",
       "10       1.958333     1.729167     1.708333     1.635417     1.427083   \n",
       "11       1.729167     1.708333     1.635417     1.427083     1.395833   \n",
       "12       1.708333     1.635417     1.427083     1.395833     1.500000   \n",
       "13       1.635417     1.427083     1.395833     1.500000     1.583333   \n",
       "14       1.427083     1.395833     1.500000     1.583333     1.531250   \n",
       "...           ...          ...          ...          ...          ...   \n",
       "5753  1676.609985  1785.000000  1689.150024  1807.839966  1830.000000   \n",
       "5754  1785.000000  1689.150024  1807.839966  1830.000000  1880.930054   \n",
       "5755  1689.150024  1807.839966  1830.000000  1880.930054  1846.089966   \n",
       "5756  1807.839966  1830.000000  1880.930054  1846.089966  1902.829956   \n",
       "5757  1830.000000  1880.930054  1846.089966  1902.829956  1940.099976   \n",
       "\n",
       "       var 1(t-5)   var 1(t-4)   var 1(t-3)   var 1(t-2)   var 1(t-1)  \\\n",
       "10       1.395833     1.500000     1.583333     1.531250     1.505208   \n",
       "11       1.500000     1.583333     1.531250     1.505208     1.500000   \n",
       "12       1.583333     1.531250     1.505208     1.500000     1.510417   \n",
       "13       1.531250     1.505208     1.500000     1.510417     1.479167   \n",
       "14       1.505208     1.500000     1.510417     1.479167     1.416667   \n",
       "...           ...          ...          ...          ...          ...   \n",
       "5753  1880.930054  1846.089966  1902.829956  1940.099976  1885.839966   \n",
       "5754  1846.089966  1902.829956  1940.099976  1885.839966  1955.489990   \n",
       "5755  1902.829956  1940.099976  1885.839966  1955.489990  1900.099976   \n",
       "5756  1940.099976  1885.839966  1955.489990  1900.099976  1963.949951   \n",
       "5757  1885.839966  1955.489990  1900.099976  1963.949951  1949.719971   \n",
       "\n",
       "          var1(t)  \n",
       "10       1.500000  \n",
       "11       1.510417  \n",
       "12       1.479167  \n",
       "13       1.416667  \n",
       "14       1.541667  \n",
       "...           ...  \n",
       "5753  1955.489990  \n",
       "5754  1900.099976  \n",
       "5755  1963.949951  \n",
       "5756  1949.719971  \n",
       "5757  1907.699951  \n",
       "\n",
       "[5748 rows x 11 columns]"
      ]
     },
     "execution_count": 4,
     "metadata": {},
     "output_type": "execute_result"
    }
   ],
   "source": [
    "supervised_data = series_to_supervised(data_select, n_in=10, n_out=1, dropnan=True)\n",
    "supervised_data"
   ]
  },
  {
   "cell_type": "markdown",
   "id": "7f5fc3d0",
   "metadata": {},
   "source": [
    "###### (b) \n",
    "Use MinMaxScaler to scale your data"
   ]
  },
  {
   "cell_type": "code",
   "execution_count": 5,
   "id": "dfa120c7",
   "metadata": {},
   "outputs": [],
   "source": [
    "scaler = MinMaxScaler()\n",
    "supervised_data = scaler.fit_transform(supervised_data)"
   ]
  },
  {
   "cell_type": "markdown",
   "id": "d004bb30",
   "metadata": {},
   "source": [
    "###### (c)\n",
    "Use the Normal Equation Method to find the linear regression coefficients (w). To perform this you may want to take the following steps first: Split your data to X and Y by taking the columns var1(t-10),...,var(t-1) as your 10 features in X, and take the last column var1(t) as your target (Y). Expand your matrix X with a bias vector of ones as the first column (to accomplish this, you may want to use the numpy operations np.ones , np.reshape and np.append). Use the train test split with ‘random state=1’ to split your data to 70% training, and 30% test data. Solve the Normal Equation Method in (2) to find the coefficients w."
   ]
  },
  {
   "cell_type": "code",
   "execution_count": 6,
   "id": "b4761efb",
   "metadata": {},
   "outputs": [],
   "source": [
    "Y = supervised_data[:,-1]\n",
    "X = supervised_data[:,0:-1]"
   ]
  },
  {
   "cell_type": "code",
   "execution_count": 7,
   "id": "bac0d57b",
   "metadata": {},
   "outputs": [
    {
     "name": "stdout",
     "output_type": "stream",
     "text": [
      "(5748, 10)\n",
      "(5748,)\n"
     ]
    }
   ],
   "source": [
    "print(X.shape)\n",
    "print(Y.shape)"
   ]
  },
  {
   "cell_type": "code",
   "execution_count": 42,
   "id": "2944d215",
   "metadata": {},
   "outputs": [
    {
     "ename": "ValueError",
     "evalue": "cannot reshape array of size 12480 into shape (5758,1)",
     "output_type": "error",
     "traceback": [
      "\u001b[1;31m---------------------------------------------------------------------------\u001b[0m",
      "\u001b[1;31mValueError\u001b[0m                                Traceback (most recent call last)",
      "\u001b[1;32mC:\\Users\\SUMAMA~1\\AppData\\Local\\Temp/ipykernel_27400/2383693082.py\u001b[0m in \u001b[0;36m<module>\u001b[1;34m\u001b[0m\n\u001b[0;32m     31\u001b[0m     \u001b[1;32mreturn\u001b[0m \u001b[0mtheta\u001b[0m\u001b[1;33m\u001b[0m\u001b[1;33m\u001b[0m\u001b[0m\n\u001b[0;32m     32\u001b[0m \u001b[1;33m\u001b[0m\u001b[0m\n\u001b[1;32m---> 33\u001b[1;33m \u001b[0mp\u001b[0m \u001b[1;33m=\u001b[0m \u001b[0mnormalEquation\u001b[0m\u001b[1;33m(\u001b[0m\u001b[0mX\u001b[0m\u001b[1;33m,\u001b[0m \u001b[0mY\u001b[0m\u001b[1;33m)\u001b[0m\u001b[1;33m\u001b[0m\u001b[1;33m\u001b[0m\u001b[0m\n\u001b[0m",
      "\u001b[1;32mC:\\Users\\SUMAMA~1\\AppData\\Local\\Temp/ipykernel_27400/2383693082.py\u001b[0m in \u001b[0;36mnormalEquation\u001b[1;34m(X, Y)\u001b[0m\n\u001b[0;32m     13\u001b[0m     \u001b[1;31m# dimensions.\u001b[0m\u001b[1;33m\u001b[0m\u001b[1;33m\u001b[0m\u001b[0m\n\u001b[0;32m     14\u001b[0m     \u001b[0mX\u001b[0m \u001b[1;33m=\u001b[0m \u001b[0mnp\u001b[0m\u001b[1;33m.\u001b[0m\u001b[0marange\u001b[0m\u001b[1;33m(\u001b[0m\u001b[1;36m12480\u001b[0m\u001b[1;33m)\u001b[0m\u001b[1;33m.\u001b[0m\u001b[0mreshape\u001b[0m\u001b[1;33m(\u001b[0m\u001b[1;36m1248\u001b[0m\u001b[1;33m,\u001b[0m \u001b[1;36m10\u001b[0m\u001b[1;33m)\u001b[0m\u001b[1;33m\u001b[0m\u001b[1;33m\u001b[0m\u001b[0m\n\u001b[1;32m---> 15\u001b[1;33m     \u001b[0mX\u001b[0m \u001b[1;33m=\u001b[0m \u001b[0mnp\u001b[0m\u001b[1;33m.\u001b[0m\u001b[0mreshape\u001b[0m\u001b[1;33m(\u001b[0m\u001b[0mX\u001b[0m\u001b[1;33m,\u001b[0m \u001b[1;33m(\u001b[0m\u001b[0mm\u001b[0m\u001b[1;33m,\u001b[0m \u001b[1;36m1\u001b[0m\u001b[1;33m)\u001b[0m\u001b[1;33m)\u001b[0m\u001b[1;33m\u001b[0m\u001b[1;33m\u001b[0m\u001b[0m\n\u001b[0m\u001b[0;32m     16\u001b[0m \u001b[1;33m\u001b[0m\u001b[0m\n\u001b[0;32m     17\u001b[0m     \u001b[1;31m# I combine these two vectors together to get a (m, 2) matrix\u001b[0m\u001b[1;33m\u001b[0m\u001b[1;33m\u001b[0m\u001b[0m\n",
      "\u001b[1;32m<__array_function__ internals>\u001b[0m in \u001b[0;36mreshape\u001b[1;34m(*args, **kwargs)\u001b[0m\n",
      "\u001b[1;32m~\\anaconda3\\lib\\site-packages\\numpy\\core\\fromnumeric.py\u001b[0m in \u001b[0;36mreshape\u001b[1;34m(a, newshape, order)\u001b[0m\n\u001b[0;32m    297\u001b[0m            [5, 6]])\n\u001b[0;32m    298\u001b[0m     \"\"\"\n\u001b[1;32m--> 299\u001b[1;33m     \u001b[1;32mreturn\u001b[0m \u001b[0m_wrapfunc\u001b[0m\u001b[1;33m(\u001b[0m\u001b[0ma\u001b[0m\u001b[1;33m,\u001b[0m \u001b[1;34m'reshape'\u001b[0m\u001b[1;33m,\u001b[0m \u001b[0mnewshape\u001b[0m\u001b[1;33m,\u001b[0m \u001b[0morder\u001b[0m\u001b[1;33m=\u001b[0m\u001b[0morder\u001b[0m\u001b[1;33m)\u001b[0m\u001b[1;33m\u001b[0m\u001b[1;33m\u001b[0m\u001b[0m\n\u001b[0m\u001b[0;32m    300\u001b[0m \u001b[1;33m\u001b[0m\u001b[0m\n\u001b[0;32m    301\u001b[0m \u001b[1;33m\u001b[0m\u001b[0m\n",
      "\u001b[1;32m~\\anaconda3\\lib\\site-packages\\numpy\\core\\fromnumeric.py\u001b[0m in \u001b[0;36m_wrapfunc\u001b[1;34m(obj, method, *args, **kwds)\u001b[0m\n\u001b[0;32m     56\u001b[0m \u001b[1;33m\u001b[0m\u001b[0m\n\u001b[0;32m     57\u001b[0m     \u001b[1;32mtry\u001b[0m\u001b[1;33m:\u001b[0m\u001b[1;33m\u001b[0m\u001b[1;33m\u001b[0m\u001b[0m\n\u001b[1;32m---> 58\u001b[1;33m         \u001b[1;32mreturn\u001b[0m \u001b[0mbound\u001b[0m\u001b[1;33m(\u001b[0m\u001b[1;33m*\u001b[0m\u001b[0margs\u001b[0m\u001b[1;33m,\u001b[0m \u001b[1;33m**\u001b[0m\u001b[0mkwds\u001b[0m\u001b[1;33m)\u001b[0m\u001b[1;33m\u001b[0m\u001b[1;33m\u001b[0m\u001b[0m\n\u001b[0m\u001b[0;32m     59\u001b[0m     \u001b[1;32mexcept\u001b[0m \u001b[0mTypeError\u001b[0m\u001b[1;33m:\u001b[0m\u001b[1;33m\u001b[0m\u001b[1;33m\u001b[0m\u001b[0m\n\u001b[0;32m     60\u001b[0m         \u001b[1;31m# A TypeError occurs if the object does have such a method in its\u001b[0m\u001b[1;33m\u001b[0m\u001b[1;33m\u001b[0m\u001b[0m\n",
      "\u001b[1;31mValueError\u001b[0m: cannot reshape array of size 12480 into shape (5758,1)"
     ]
    }
   ],
   "source": [
    "def normalEquation(X, Y):\n",
    "    m = int(np.size(data_select.iloc[:, -1]))\n",
    "\n",
    "    # This is the feature / parameter (2x2) vector that will\n",
    "    # contain my minimized values\n",
    "    theta = []\n",
    "\n",
    "    # I create a bias_vector to add to my newly created X vector\n",
    "    bias_vector = np.ones((m, 1))\n",
    "\n",
    "    # I need to reshape my original X(m,) vector so that I can\n",
    "    # manipulate it with my bias_vector; they need to share the same\n",
    "    # dimensions.\n",
    "    X = np.arange(12480).reshape(1248, 10)\n",
    "    X = np.reshape(X, (m, 1))\n",
    "\n",
    "    # I combine these two vectors together to get a (m, 2) matrix\n",
    "    X = np.append(bias_vector, X, axis=1)\n",
    "\n",
    "    # Normal Equation:\n",
    "    # theta = inv(X^T * X) * X^T * y\n",
    "\n",
    "    # For convenience I create a new, tranposed X matrix\n",
    "    X_transpose = np.transpose(X)\n",
    "\n",
    "    # Calculating theta\n",
    "    theta = np.linalg.inv(X_transpose.dot(X))\n",
    "    theta = theta.dot(X_transpose)\n",
    "    theta = theta.dot(y)\n",
    "\n",
    "    return theta\n",
    "\n",
    "p = normalEquation(X, Y)"
   ]
  },
  {
   "cell_type": "markdown",
   "id": "24126482",
   "metadata": {},
   "source": [
    "###### (d)\n",
    "Make a prediction on your test set using the linear regression function f(x) = wT x, and use both the mean square error and coefficient of determination R2 to measure the performance of your prediction model. For this use fucntions mean squared error and r2 score from sklearn library"
   ]
  },
  {
   "cell_type": "code",
   "execution_count": null,
   "id": "7d0c4a0c",
   "metadata": {},
   "outputs": [],
   "source": []
  },
  {
   "cell_type": "code",
   "execution_count": null,
   "id": "288befa3",
   "metadata": {},
   "outputs": [],
   "source": []
  },
  {
   "cell_type": "code",
   "execution_count": null,
   "id": "b01c13d4",
   "metadata": {},
   "outputs": [],
   "source": []
  },
  {
   "cell_type": "code",
   "execution_count": null,
   "id": "c3171dc1",
   "metadata": {},
   "outputs": [],
   "source": []
  },
  {
   "cell_type": "markdown",
   "id": "b17877e6",
   "metadata": {},
   "source": [
    "#### Problem 2\n",
    "Create a Perceptron model with an optimal value of hyperparameter α (learning rate of SGD)"
   ]
  },
  {
   "cell_type": "code",
   "execution_count": 8,
   "id": "0c85cf58",
   "metadata": {},
   "outputs": [],
   "source": [
    "# Import necessary packages to the Jupyter notebook\n",
    "# Implement a Perceptron algorithm with an optimal value of learning rate\n",
    "import pandas as pd\n",
    "import numpy as np\n",
    "from pandas import read_csv\n",
    "\n",
    "from sklearn.model_selection import train_test_split\n",
    "from sklearn.model_selection import GridSearchCV\n",
    "from sklearn.model_selection import RepeatedStratifiedKFold\n",
    "from sklearn.linear_model import Perceptron\n",
    "\n",
    "# read and load the csv data file\n",
    "filename = \"Dataset/sonar.all-data.csv\"\n",
    "dataframe = read_csv (filename)\n",
    "\n",
    "# converting the dataset to a numpy array\n",
    "array = dataframe . values\n",
    "\n",
    "# separate array into input and output components\n",
    "X = array [:,:-1]\n",
    "Y = array [:,-1]"
   ]
  },
  {
   "cell_type": "markdown",
   "id": "d86635f2",
   "metadata": {},
   "source": [
    "###### (a)\n",
    "Split your data into train and test portions with ‘test size = 0.3’ and ’random state = 3’ . Define your learning model to be Perceptron. Use RepeatedStratifiedKFold with ‘n splits=10’, ‘n repeats=5’, and ‘random state=1’ as your model evaluation method. "
   ]
  },
  {
   "cell_type": "code",
   "execution_count": 9,
   "id": "7e2b3167",
   "metadata": {},
   "outputs": [
    {
     "data": {
      "text/plain": [
       "Perceptron()"
      ]
     },
     "execution_count": 9,
     "metadata": {},
     "output_type": "execute_result"
    }
   ],
   "source": [
    "model = Perceptron()\n",
    "X_train, X_test, Y_train, Y_test = train_test_split(X, Y, test_size=0.3, random_state=3)\n",
    "model.fit(X_train, Y_train)"
   ]
  },
  {
   "cell_type": "code",
   "execution_count": 10,
   "id": "46d77d45",
   "metadata": {},
   "outputs": [],
   "source": [
    "# define model\n",
    "model = Perceptron()\n",
    "# define model evaluation method\n",
    "cv = RepeatedStratifiedKFold(n_splits=10, n_repeats=5, random_state=1)"
   ]
  },
  {
   "cell_type": "markdown",
   "id": "92e05556",
   "metadata": {},
   "source": [
    "###### (b)\n",
    "Use GridSearchCV to perform a gird search on the parameter of Perceptron algorithm (learning rate α in SGD), consider values for α as [0.0001, 0.001, 0.01, 0.1]. For your GridSearch, use data only from your training sets (X-train, Y_train)."
   ]
  },
  {
   "cell_type": "code",
   "execution_count": 11,
   "id": "e018ec6d",
   "metadata": {},
   "outputs": [],
   "source": [
    "# define grid\n",
    "grid = dict()\n",
    "grid['alpha'] = [0.0001, 0.001, 0.01, 0.1]"
   ]
  },
  {
   "cell_type": "code",
   "execution_count": 12,
   "id": "f4c7e510",
   "metadata": {},
   "outputs": [],
   "source": [
    "# define search\n",
    "search = GridSearchCV(model, grid, scoring='accuracy', cv=cv, n_jobs=-1)\n",
    "# perform the search\n",
    "results = search.fit(X_train, Y_train)"
   ]
  },
  {
   "cell_type": "markdown",
   "id": "c61cfe9e",
   "metadata": {},
   "source": [
    "###### (c)\n",
    "Report the best score and the best value of the parameter in your search."
   ]
  },
  {
   "cell_type": "code",
   "execution_count": 13,
   "id": "bbdca053",
   "metadata": {},
   "outputs": [
    {
     "name": "stdout",
     "output_type": "stream",
     "text": [
      "Mean Accuracy: 0.664\n",
      "Config: {'alpha': 0.0001}\n"
     ]
    }
   ],
   "source": [
    "# summarize\n",
    "print('Mean Accuracy: %.3f' % results.best_score_)\n",
    "print('Config: %s' % results.best_params_)"
   ]
  },
  {
   "cell_type": "markdown",
   "id": "006e5be6",
   "metadata": {},
   "source": [
    "###### (d)\n",
    "Create a Perceptron model which takes as an argument the best value of parameter you found in the previous step, and use this model to make predictions on your test set; Report the accuracy."
   ]
  },
  {
   "cell_type": "code",
   "execution_count": 14,
   "id": "e67e2625",
   "metadata": {},
   "outputs": [
    {
     "data": {
      "text/plain": [
       "0.7172413793103448"
      ]
     },
     "execution_count": 14,
     "metadata": {},
     "output_type": "execute_result"
    }
   ],
   "source": [
    "clf = Perceptron(alpha=0.0001)\n",
    "results = clf.fit(X_train, Y_train)\n",
    "results.score(X_train, Y_train)"
   ]
  },
  {
   "cell_type": "markdown",
   "id": "4ac5bcc1",
   "metadata": {},
   "source": [
    "If you see in part c, we used the attribute best_score_ on GridSearchCV to find the mean accuracy or the mean cross-validated score of the best estimator, which was about 0.664. We also used the best_params_ attribute to find the \n",
    "parameter setting that gave the best results on the hold out data, which happened to be 0.0001 in this example. \n",
    "Then, when we used the score() method on the Perceptron model. The score() method returns the mean accuracy on the given test data and labels. We got a mean accuracy of about 0.712, which is higher than the mean accuracy of the GridSearch."
   ]
  },
  {
   "cell_type": "markdown",
   "id": "54d2dbc8",
   "metadata": {},
   "source": [
    "#### Problem 3: Create a KNN model with an optimal value of hyperparameter K (the number of nearest neighbors)"
   ]
  },
  {
   "cell_type": "code",
   "execution_count": 15,
   "id": "48756769",
   "metadata": {},
   "outputs": [],
   "source": [
    "# import necessary packages to the Jupyter notebook\n",
    "# Create a KNN model with the best parameter K\n",
    "import pandas as pd\n",
    "import numpy as np\n",
    "import matplotlib . pyplot as plt\n",
    "\n",
    "from pandas import read_csv\n",
    "from sklearn . model_selection import train_test_split\n",
    "from sklearn . metrics import accuracy_score\n",
    "from sklearn . neighbors import KNeighborsClassifier\n",
    "\n",
    "# read and load the csv data file\n",
    "filename = \"Dataset/sonar.all-data.csv\"\n",
    "dataframe = read_csv (filename)\n",
    "\n",
    "# converting the dataset to a numpy array\n",
    "array = dataframe . values\n",
    "\n",
    "# separate array into input and output components\n",
    "X = array [:,:-1]\n",
    "Y = array [:,-1]"
   ]
  },
  {
   "cell_type": "markdown",
   "id": "e7c62f5b",
   "metadata": {},
   "source": [
    "###### (a) \n",
    "Split the data into train and test sets with 'test_size = 0.3', and 'random_state = 5'. Create a KNN model with parameter 'n_neighbor' varying from 1 to 30 (see the code from Lab Session 6)."
   ]
  },
  {
   "cell_type": "code",
   "execution_count": 16,
   "id": "b2ded47c",
   "metadata": {},
   "outputs": [],
   "source": [
    "X_train, X_test, Y_train, Y_test = train_test_split(X, Y, test_size=0.3, random_state = 5)"
   ]
  },
  {
   "cell_type": "code",
   "execution_count": 17,
   "id": "a991da90",
   "metadata": {},
   "outputs": [],
   "source": [
    "scores = {}\n",
    "for k in range(1,30):\n",
    "  knn = KNeighborsClassifier(n_neighbors=k)\n",
    "  knn.fit(X_train, Y_train)\n",
    "  y_pred = knn.predict(X_test)\n",
    "  scores[k] = accuracy_score(y_pred, Y_test)"
   ]
  },
  {
   "cell_type": "code",
   "execution_count": 18,
   "id": "1186642d",
   "metadata": {},
   "outputs": [
    {
     "data": {
      "text/plain": [
       "{1: 0.7777777777777778,\n",
       " 2: 0.7142857142857143,\n",
       " 3: 0.7301587301587301,\n",
       " 4: 0.7142857142857143,\n",
       " 5: 0.746031746031746,\n",
       " 6: 0.746031746031746,\n",
       " 7: 0.6507936507936508,\n",
       " 8: 0.6349206349206349,\n",
       " 9: 0.6666666666666666,\n",
       " 10: 0.6666666666666666,\n",
       " 11: 0.6825396825396826,\n",
       " 12: 0.6507936507936508,\n",
       " 13: 0.6666666666666666,\n",
       " 14: 0.6507936507936508,\n",
       " 15: 0.6825396825396826,\n",
       " 16: 0.6666666666666666,\n",
       " 17: 0.6507936507936508,\n",
       " 18: 0.6666666666666666,\n",
       " 19: 0.6507936507936508,\n",
       " 20: 0.7142857142857143,\n",
       " 21: 0.6825396825396826,\n",
       " 22: 0.6825396825396826,\n",
       " 23: 0.6984126984126984,\n",
       " 24: 0.6825396825396826,\n",
       " 25: 0.6825396825396826,\n",
       " 26: 0.6825396825396826,\n",
       " 27: 0.6666666666666666,\n",
       " 28: 0.6984126984126984,\n",
       " 29: 0.7142857142857143}"
      ]
     },
     "execution_count": 18,
     "metadata": {},
     "output_type": "execute_result"
    }
   ],
   "source": [
    "scores"
   ]
  },
  {
   "cell_type": "markdown",
   "id": "522d57f1",
   "metadata": {},
   "source": [
    "###### (b)\n",
    "Plot the accuracy of the KNN model in terms of the number of nearest neighbor k varying from 1 to 30. Choose and report the best value for k."
   ]
  },
  {
   "cell_type": "code",
   "execution_count": 19,
   "id": "71bab02b",
   "metadata": {},
   "outputs": [
    {
     "data": {
      "text/plain": [
       "[<matplotlib.lines.Line2D at 0x2cb380242b0>]"
      ]
     },
     "execution_count": 19,
     "metadata": {},
     "output_type": "execute_result"
    },
    {
     "data": {
      "image/png": "[encoded data removed]",
      "text/plain": [
       "<Figure size 432x288 with 1 Axes>"
      ]
     },
     "metadata": {
      "needs_background": "light"
     },
     "output_type": "display_data"
    }
   ],
   "source": [
    "plt.plot(list(scores.keys()),list(scores.values()),marker=\"o\", markersize=2, markeredgecolor=\"red\")"
   ]
  },
  {
   "cell_type": "markdown",
   "id": "c9c875b8",
   "metadata": {},
   "source": [
    "After running the KNeighborsClassifier with diffrent number of neighbors (1 -30), we can see that the best value of k is 1. If you see the list of accuracy classification scores and the line graph, you can see that k=1 has the highest  accuracy. Then 5 and 6 would be the next best values for k. "
   ]
  },
  {
   "cell_type": "markdown",
   "id": "b67b366c",
   "metadata": {},
   "source": [
    "###### (c)\n",
    "Create a new KNN model with the best values of nearest neighbors that you found in previous step, and perform prediction on your test set. Report the accuracy of the model."
   ]
  },
  {
   "cell_type": "code",
   "execution_count": 20,
   "id": "233d3b0e",
   "metadata": {},
   "outputs": [
    {
     "data": {
      "text/plain": [
       "1.0"
      ]
     },
     "execution_count": 20,
     "metadata": {},
     "output_type": "execute_result"
    }
   ],
   "source": [
    "knn = KNeighborsClassifier(n_neighbors=1)\n",
    "knn.fit(X_train, Y_train)\n",
    "knn.score(X_train, Y_train)"
   ]
  },
  {
   "cell_type": "code",
   "execution_count": 21,
   "id": "13eccf67",
   "metadata": {},
   "outputs": [
    {
     "data": {
      "text/plain": [
       "0.7777777777777778"
      ]
     },
     "execution_count": 21,
     "metadata": {},
     "output_type": "execute_result"
    }
   ],
   "source": [
    "y_pred = knn.predict(X_test)\n",
    "score = accuracy_score(y_pred, Y_test)\n",
    "score"
   ]
  },
  {
   "cell_type": "code",
   "execution_count": 22,
   "id": "28a4e446",
   "metadata": {},
   "outputs": [
    {
     "data": {
      "text/plain": [
       "0.8344827586206897"
      ]
     },
     "execution_count": 22,
     "metadata": {},
     "output_type": "execute_result"
    }
   ],
   "source": [
    "knn = KNeighborsClassifier(n_neighbors=5)\n",
    "knn.fit(X_train, Y_train)\n",
    "knn.score(X_train, Y_train)"
   ]
  },
  {
   "cell_type": "code",
   "execution_count": 23,
   "id": "b406e63f",
   "metadata": {},
   "outputs": [
    {
     "data": {
      "text/plain": [
       "0.746031746031746"
      ]
     },
     "execution_count": 23,
     "metadata": {},
     "output_type": "execute_result"
    }
   ],
   "source": [
    "y_pred = knn.predict(X_test)\n",
    "score = accuracy_score(y_pred, Y_test)\n",
    "score"
   ]
  },
  {
   "cell_type": "code",
   "execution_count": 24,
   "id": "08148576",
   "metadata": {},
   "outputs": [
    {
     "data": {
      "text/plain": [
       "0.8275862068965517"
      ]
     },
     "execution_count": 24,
     "metadata": {},
     "output_type": "execute_result"
    }
   ],
   "source": [
    "knn = KNeighborsClassifier(n_neighbors=6)\n",
    "knn.fit(X_train, Y_train)\n",
    "knn.score(X_train, Y_train)"
   ]
  },
  {
   "cell_type": "code",
   "execution_count": 25,
   "id": "0f0b1886",
   "metadata": {},
   "outputs": [
    {
     "data": {
      "text/plain": [
       "0.746031746031746"
      ]
     },
     "execution_count": 25,
     "metadata": {},
     "output_type": "execute_result"
    }
   ],
   "source": [
    "y_pred = knn.predict(X_test)\n",
    "score = accuracy_score(y_pred, Y_test)\n",
    "score"
   ]
  },
  {
   "cell_type": "markdown",
   "id": "da963f9e",
   "metadata": {},
   "source": [
    "When I take the KNeighborsClassifier and use the score method, I get the mean accuracy of the data. However, I found this unreliable, because it is checking if it is an exact match of X_train to get high accuracy. That is why the accuracy_score(y_pred, Y_test) was a better test. I choosed the 3 highest accuracy's (k = 1, 5, & 6). k = 1 was the highest and 5/6 tied for 2nd. "
   ]
  },
  {
   "cell_type": "code",
   "execution_count": null,
   "id": "aa020221",
   "metadata": {},
   "outputs": [],
   "source": []
  }
 ],
 "metadata": {
  "kernelspec": {
   "display_name": "Python 3 (ipykernel)",
   "language": "python",
   "name": "python3"
  },
  "language_info": {
   "codemirror_mode": {
    "name": "ipython",
    "version": 3
   },
   "file_extension": ".py",
   "mimetype": "text/x-python",
   "name": "python",
   "nbconvert_exporter": "python",
   "pygments_lexer": "ipython3",
   "version": "3.9.7"
  }
 },
 "nbformat": 4,
 "nbformat_minor": 5
}
